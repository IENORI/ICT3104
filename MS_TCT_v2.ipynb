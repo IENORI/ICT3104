{
  "cells": [
    {
      "cell_type": "code",
      "execution_count": null,
      "metadata": {
        "id": "8fuHFlSwOjmO",
        "cellView": "form"
      },
      "outputs": [],
      "source": [
        "#@title install miniconda\n",
        "%%bash\n",
        "MINICONDA_INSTALLER_SCRIPT=Miniconda3-4.5.4-Linux-x86_64.sh\n",
        "MINICONDA_PREFIX=/usr/local\n",
        "wget https://repo.continuum.io/miniconda/$MINICONDA_INSTALLER_SCRIPT\n",
        "chmod +x $MINICONDA_INSTALLER_SCRIPT\n",
        "./$MINICONDA_INSTALLER_SCRIPT -b -f -p $MINICONDA_PREFIX"
      ]
    },
    {
      "cell_type": "code",
      "source": [
        "#@title Setup conda environment\n",
        "%%bash\n",
        "conda install --channel defaults conda python=3.6 --yes\n",
        "conda update --channel defaults --all --yes\n",
        "conda update -n base -c defaults conda --yes"
      ],
      "metadata": {
        "cellView": "form",
        "id": "W1G5No_mgFaK"
      },
      "execution_count": null,
      "outputs": []
    },
    {
      "cell_type": "code",
      "execution_count": null,
      "metadata": {
        "id": "ss8g9TOpPhFc",
        "cellView": "form"
      },
      "outputs": [],
      "source": [
        "#@title Append python site packages to sys.path\n",
        "import sys\n",
        "_ = (sys.path\n",
        "        .append(\"/usr/local/lib/python3.8/site-packages\"))"
      ]
    },
    {
      "cell_type": "code",
      "execution_count": null,
      "metadata": {
        "id": "VE2mGvZLRtcl",
        "cellView": "form",
        "colab": {
          "base_uri": "https://localhost:8080/"
        },
        "outputId": "9993f7fb-bf95-4d3d-9c4f-a27de537d37c"
      },
      "outputs": [
        {
          "output_type": "stream",
          "name": "stdout",
          "text": [
            "Mounted at /content/drive\n"
          ]
        }
      ],
      "source": [
        "#@title mount drive\n",
        "from google.colab import drive\n",
        "drive.mount('/content/drive')"
      ]
    },
    {
      "cell_type": "code",
      "execution_count": null,
      "metadata": {
        "id": "5BIV7Goj4Dfk",
        "cellView": "form"
      },
      "outputs": [],
      "source": [
        "#@title Dependencies for feature extraction\n",
        "!conda install -c conda-forge h5py -y\n",
        "!conda install -c conda-forge opencv -y\n",
        "import cv2"
      ]
    },
    {
      "cell_type": "code",
      "execution_count": null,
      "metadata": {
        "id": "wGssyBvHbHRD",
        "cellView": "form"
      },
      "outputs": [],
      "source": [
        "#@title install dependencies for training\n",
        "%%bash\n",
        "pip install pytorch\n",
        "pip install timm==0.4.12\n",
        "pip install pickle5==0.0.9\n",
        "pip install scikit-learn\n",
        "pip install numpy"
      ]
    },
    {
      "cell_type": "code",
      "source": [
        "#@title Initialize constant for files and paths\n",
        "BASE_JSON_FILE = \"/content/drive/MyDrive/MS-TCT-main/data/charades.json\"\n",
        "SLICED_JSON_FILE = \"/content/drive/MyDrive/MS-TCT-main/data/charades_sliced.json\"\n",
        "PATH_TO_DATA_FOLDER = \"/content/drive/MyDrive/MS-TCT-main/charades\""
      ],
      "metadata": {
        "cellView": "form",
        "id": "yafWmyfKiCrY"
      },
      "execution_count": null,
      "outputs": []
    },
    {
      "cell_type": "code",
      "execution_count": null,
      "metadata": {
        "cellView": "form",
        "id": "1ajwKWfyAJCn"
      },
      "outputs": [],
      "source": [
        "#@title JSON slicing\n",
        "import os\n",
        "import shutil\n",
        "import json\n",
        "\n",
        "# Slice json \n",
        "# get current directory for charades.json file\n",
        "src = BASE_JSON_FILE\n",
        "\n",
        "# set directory for new charades.json file\n",
        "dst = SLICED_JSON_FILE\n",
        "\n",
        "# copy the file\n",
        "path = shutil.copyfile(src,dst)\n",
        "\n",
        "# get list of all extracted feature file names from feature_extract\n",
        "dirList = os.listdir(PATH_TO_DATA_FOLDER)\n",
        "dirList.remove(\".DS_Store\")\n",
        "print(dirList)\n",
        "# slicing chars 0 to 3 and last 4 to just have the file names\n",
        "featList = []\n",
        "for item in dirList:\n",
        "  #item = item[4:]\n",
        "  featList.append(item)\n",
        "\n",
        "# modify the new file\n",
        "## parse the new json file into dictionary to manage\n",
        "f = open(dst)\n",
        "data = json.load(f)\n",
        "mod_data = {}\n",
        "## find keys that are of the names in the featList inside of the data\n",
        "for k in data:\n",
        "  for name in featList:\n",
        "    if k == name:\n",
        "      mod_data[name] = data[k]\n",
        "\n",
        "## overwrite this new data into the modified file\n",
        "with open(dst, 'w') as f:\n",
        "    json.dump(mod_data, f)\n",
        "\n",
        "print(mod_data)"
      ]
    },
    {
      "cell_type": "code",
      "execution_count": null,
      "metadata": {
        "id": "LgKb37wsgvD_",
        "cellView": "form"
      },
      "outputs": [],
      "source": [
        "#@title Feature extraction\n",
        "#feature extraction, \n",
        "#input: frames , output: npy files\n",
        "!python3 /content/drive/MyDrive/MS-TCT-main/pytorch-i3d/extract_features.py \\\n",
        "-mode rgb \\\n",
        "-load_model /content/drive/MyDrive/MS-TCT-main/pytorch-i3d/models/rgb_charades.pt \\\n",
        "-root /content/drive/MyDrive/MS-TCT-main/charades \\\n",
        "-gpu 0\\\n",
        "-save_dir /content/drive/MyDrive/MS-TCT-main/feature_extract"
      ]
    },
    {
      "cell_type": "markdown",
      "metadata": {
        "id": "nhT6fY8gepbV"
      },
      "source": [
        "#training"
      ]
    },
    {
      "cell_type": "code",
      "execution_count": null,
      "metadata": {
        "id": "QlWopD0_XyX4",
        "cellView": "form"
      },
      "outputs": [],
      "source": [
        "#@title model training - MS-TCT\n",
        "!python3 /content/drive/MyDrive/MS-TCT-main/train.py \\\n",
        "-dataset charades\\\n",
        "-mode rgb \\\n",
        "-model MS_TCT\\\n",
        "-train True \\\n",
        "-num_clips 256 \\\n",
        "-skip 0 \\\n",
        "-lr 0.0001 \\\n",
        "-comp_info False \\\n",
        "-epoch 50 \\\n",
        "-unisize True \\\n",
        "-alpha_l 1 \\\n",
        "-beta_l 0.05 \\\n",
        "-batch_size 32 \n"
      ]
    },
    {
      "cell_type": "markdown",
      "metadata": {
        "id": "9T8-wEjqaEFd"
      },
      "source": [
        "#evaluation\n"
      ]
    },
    {
      "cell_type": "code",
      "execution_count": null,
      "metadata": {
        "id": "MTp5-fTyaH61",
        "cellView": "form"
      },
      "outputs": [],
      "source": [
        "#@title evaluation\n",
        "!python3 \"/content/drive/MyDrive/MS-TCT-main/Evaluation.py\"\\\n",
        "-pkl_path \"/content/drive/MyDrive/MS-TCT-main/save_logit/0.pkl\""
      ]
    }
  ],
  "metadata": {
    "accelerator": "GPU",
    "colab": {
      "provenance": []
    },
    "gpuClass": "standard",
    "kernelspec": {
      "display_name": "Python 3",
      "name": "python3"
    },
    "language_info": {
      "name": "python"
    }
  },
  "nbformat": 4,
  "nbformat_minor": 0
}