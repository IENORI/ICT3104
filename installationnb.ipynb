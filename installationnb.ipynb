{
 "cells": [
  {
   "cell_type": "markdown",
   "id": "b33ff5eb",
   "metadata": {},
   "source": [
    "### 1. Installation of some basic dependencies before you are able to properly use the notebook\n",
    "\n",
    "**Ensure that you already have Python 3.8, pip and ANACONDA installed on your pc**\n",
    "\n",
    "We will be installing (into the virtual environment):\n",
    "- conda\n",
    "- python 3.8 (x64)\n",
    "- jupyter notebook\n",
    "- ipykernel\n",
    "- nb_conda\n",
    "- pip\n",
    "  \n",
    "to facilite the virtual environment usage in Jupyter Notebook."
   ]
  },
  {
   "cell_type": "code",
   "execution_count": 1,
   "id": "ef23aaa2",
   "metadata": {
    "scrolled": false,
    "vscode": {
     "languageId": "plaintext"
    }
   },
   "outputs": [
    {
     "name": "stdout",
     "output_type": "stream",
     "text": [
      "Requirement already satisfied: conda in c:\\users\\l\\anaconda3\\lib\\site-packages (4.8.3)\n",
      "Requirement already satisfied: pycosat>=0.6.3 in c:\\users\\l\\anaconda3\\lib\\site-packages (from conda) (0.6.3)\n",
      "Requirement already satisfied: requests>=2.12.4 in c:\\users\\l\\anaconda3\\lib\\site-packages (from conda) (2.24.0)\n",
      "Requirement already satisfied: ruamel_yaml>=0.11.14 in c:\\users\\l\\anaconda3\\lib\\site-packages (from conda) (0.15.87)\n",
      "Requirement already satisfied: menuinst in c:\\users\\l\\anaconda3\\lib\\site-packages (from conda) (1.4.16)\n",
      "Requirement already satisfied: idna<3,>=2.5 in c:\\users\\l\\anaconda3\\lib\\site-packages (from requests>=2.12.4->conda) (2.10)\n",
      "Requirement already satisfied: certifi>=2017.4.17 in c:\\users\\l\\anaconda3\\lib\\site-packages (from requests>=2.12.4->conda) (2020.6.20)\n",
      "Requirement already satisfied: chardet<4,>=3.0.2 in c:\\users\\l\\anaconda3\\lib\\site-packages (from requests>=2.12.4->conda) (3.0.4)\n",
      "Requirement already satisfied: urllib3!=1.25.0,!=1.25.1,<1.26,>=1.21.1 in c:\\users\\l\\anaconda3\\lib\\site-packages (from requests>=2.12.4->conda) (1.25.9)\n",
      "conda 4.8.3\n"
     ]
    }
   ],
   "source": [
    "!pip install conda\n",
    "!conda --version"
   ]
  },
  {
   "cell_type": "code",
   "execution_count": 2,
   "id": "df4ccafb",
   "metadata": {},
   "outputs": [
    {
     "name": "stdout",
     "output_type": "stream",
     "text": [
      "\n",
      "     active environment : base\n",
      "    active env location : C:\\Users\\L\\anaconda3\n",
      "            shell level : 0\n",
      "       user config file : C:\\Users\\L\\.condarc\n",
      " populated config files : C:\\Users\\L\\.condarc\n",
      "          conda version : 4.8.3\n",
      "    conda-build version : 3.18.11\n",
      "         python version : 3.8.3.final.0\n",
      "       virtual packages : __cuda=11.6\n",
      "       base environment : C:\\Users\\L\\anaconda3  (writable)\n",
      "           channel URLs : https://repo.anaconda.com/pkgs/main/win-64\n",
      "                          https://repo.anaconda.com/pkgs/main/noarch\n",
      "                          https://repo.anaconda.com/pkgs/r/win-64\n",
      "                          https://repo.anaconda.com/pkgs/r/noarch\n",
      "                          https://repo.anaconda.com/pkgs/msys2/win-64\n",
      "                          https://repo.anaconda.com/pkgs/msys2/noarch\n",
      "          package cache : C:\\Users\\L\\anaconda3\\pkgs\n",
      "                          C:\\Users\\L\\.conda\\pkgs\n",
      "                          C:\\Users\\L\\AppData\\Local\\conda\\conda\\pkgs\n",
      "       envs directories : C:\\Users\\L\\anaconda3\\envs\n",
      "                          C:\\Users\\L\\.conda\\envs\n",
      "                          C:\\Users\\L\\AppData\\Local\\conda\\conda\\envs\n",
      "               platform : win-64\n",
      "             user-agent : conda/4.8.3 requests/2.24.0 CPython/3.8.3 Windows/10 Windows/10.0.19041\n",
      "          administrator : False\n",
      "             netrc file : None\n",
      "           offline mode : False\n",
      "\n"
     ]
    }
   ],
   "source": [
    "!conda activate\n",
    "!conda info"
   ]
  },
  {
   "cell_type": "markdown",
   "id": "08917298",
   "metadata": {},
   "source": [
    "## _Skip steps below if you have already created an environment name tsu with all the basic dependencies installed_ ####"
   ]
  },
  {
   "cell_type": "code",
   "execution_count": 3,
   "id": "cb9333c4",
   "metadata": {},
   "outputs": [
    {
     "name": "stdout",
     "output_type": "stream",
     "text": [
      "\n",
      "     active environment : tsu\n",
      "    active env location : C:\\Users\\L\\anaconda3\\envs\\tsu\n",
      "            shell level : 2\n",
      "       user config file : C:\\Users\\L\\.condarc\n",
      " populated config files : C:\\Users\\L\\.condarc\n",
      "          conda version : 4.8.3\n",
      "    conda-build version : 3.18.11\n",
      "         python version : 3.8.3.final.0\n",
      "       virtual packages : __cuda=11.6\n",
      "       base environment : C:\\Users\\L\\anaconda3  (writable)\n",
      "           channel URLs : https://repo.anaconda.com/pkgs/main/win-64\n",
      "                          https://repo.anaconda.com/pkgs/main/noarch\n",
      "                          https://repo.anaconda.com/pkgs/r/win-64\n",
      "                          https://repo.anaconda.com/pkgs/r/noarch\n",
      "                          https://repo.anaconda.com/pkgs/msys2/win-64\n",
      "                          https://repo.anaconda.com/pkgs/msys2/noarch\n",
      "          package cache : C:\\Users\\L\\anaconda3\\pkgs\n",
      "                          C:\\Users\\L\\.conda\\pkgs\n",
      "                          C:\\Users\\L\\AppData\\Local\\conda\\conda\\pkgs\n",
      "       envs directories : C:\\Users\\L\\anaconda3\\envs\n",
      "                          C:\\Users\\L\\.conda\\envs\n",
      "                          C:\\Users\\L\\AppData\\Local\\conda\\conda\\envs\n",
      "               platform : win-64\n",
      "             user-agent : conda/4.8.3 requests/2.24.0 CPython/3.8.3 Windows/10 Windows/10.0.19041\n",
      "          administrator : False\n",
      "             netrc file : None\n",
      "           offline mode : False\n",
      "\n"
     ]
    }
   ],
   "source": [
    "!conda create --name tsu -y"
   ]
  },
  {
   "cell_type": "markdown",
   "id": "0e90a2d9",
   "metadata": {},
   "source": [
    "### Before you continue, you will need to restart your jupyter notebook and open a notebook from the anaconda terminal before continuing, you conda environment should be in tsu\n",
    "1. Run Anaconda command prompt\n",
    "2. in the command prompt, run: `conda activate`\n",
    "3. `conda activate tsu`\n",
    "4. `conda install jupyter`\n",
    "5. close this notebook\n",
    "6. from the terminal, run: `jupyter notebook`\n",
    "\n",
    "Then continue from the steps below"
   ]
  },
  {
   "cell_type": "code",
   "execution_count": 1,
   "id": "41b63b15",
   "metadata": {},
   "outputs": [
    {
     "name": "stdout",
     "output_type": "stream",
     "text": [
      "\n",
      "     active environment : tsu\n",
      "    active env location : C:\\Users\\L\\anaconda3\\envs\\tsu\n",
      "            shell level : 2\n",
      "       user config file : C:\\Users\\L\\.condarc\n",
      " populated config files : C:\\Users\\L\\.condarc\n",
      "          conda version : 4.8.3\n",
      "    conda-build version : 3.18.11\n",
      "         python version : 3.8.3.final.0\n",
      "       virtual packages : __cuda=11.6\n",
      "       base environment : C:\\Users\\L\\anaconda3  (writable)\n",
      "           channel URLs : https://repo.anaconda.com/pkgs/main/win-64\n",
      "                          https://repo.anaconda.com/pkgs/main/noarch\n",
      "                          https://repo.anaconda.com/pkgs/r/win-64\n",
      "                          https://repo.anaconda.com/pkgs/r/noarch\n",
      "                          https://repo.anaconda.com/pkgs/msys2/win-64\n",
      "                          https://repo.anaconda.com/pkgs/msys2/noarch\n",
      "          package cache : C:\\Users\\L\\anaconda3\\pkgs\n",
      "                          C:\\Users\\L\\.conda\\pkgs\n",
      "                          C:\\Users\\L\\AppData\\Local\\conda\\conda\\pkgs\n",
      "       envs directories : C:\\Users\\L\\anaconda3\\envs\n",
      "                          C:\\Users\\L\\.conda\\envs\n",
      "                          C:\\Users\\L\\AppData\\Local\\conda\\conda\\envs\n",
      "               platform : win-64\n",
      "             user-agent : conda/4.8.3 requests/2.24.0 CPython/3.8.3 Windows/10 Windows/10.0.19041\n",
      "          administrator : False\n",
      "             netrc file : None\n",
      "           offline mode : False\n",
      "\n"
     ]
    }
   ],
   "source": [
    "!conda activate tsu\n",
    "!conda info"
   ]
  },
  {
   "cell_type": "code",
   "execution_count": 2,
   "id": "db8acf0d",
   "metadata": {},
   "outputs": [
    {
     "name": "stdout",
     "output_type": "stream",
     "text": [
      "Collecting package metadata (current_repodata.json): ...working... done\n",
      "Solving environment: ...working... done\n",
      "\n",
      "## Package Plan ##\n",
      "\n",
      "  environment location: C:\\Users\\L\\anaconda3\\envs\\tsu\n",
      "\n",
      "  added / updated specs:\n",
      "    - python=3.8\n",
      "\n",
      "\n",
      "The following packages will be UPDATED:\n",
      "\n",
      "  python             conda-forge::python-3.8.12-h7840368_2~ --> pkgs/main::python-3.8.13-h6244533_0\n",
      "\n",
      "The following packages will be SUPERSEDED by a higher-priority channel:\n",
      "\n",
      "  ca-certificates    conda-forge::ca-certificates-2022.9.1~ --> pkgs/main::ca-certificates-2022.07.19-haa95532_0\n",
      "  certifi            conda-forge/noarch::certifi-2022.9.14~ --> pkgs/main/win-64::certifi-2022.6.15-py38haa95532_0\n",
      "  openssl            conda-forge::openssl-1.1.1q-h8ffe710_0 --> pkgs/main::openssl-1.1.1q-h2bbff1b_0\n",
      "\n",
      "\n",
      "Preparing transaction: ...working... done\n",
      "Verifying transaction: ...working... done\n",
      "Executing transaction: ...working... done\n"
     ]
    },
    {
     "name": "stderr",
     "output_type": "stream",
     "text": [
      "\n",
      "\n",
      "==> WARNING: A newer version of conda exists. <==\n",
      "  current version: 4.8.3\n",
      "  latest version: 4.14.0\n",
      "\n",
      "Please update conda by running\n",
      "\n",
      "    $ conda update -n base -c defaults conda\n",
      "\n",
      "\n"
     ]
    }
   ],
   "source": [
    "!conda install python=3.8 -y"
   ]
  },
  {
   "cell_type": "code",
   "execution_count": 6,
   "id": "db7e715c",
   "metadata": {},
   "outputs": [
    {
     "name": "stdout",
     "output_type": "stream",
     "text": [
      "Collecting package metadata (current_repodata.json): ...working... done\n",
      "Solving environment: ...working... done\n",
      "\n",
      "# All requested packages already installed.\n",
      "\n"
     ]
    },
    {
     "name": "stderr",
     "output_type": "stream",
     "text": [
      "\n",
      "\n",
      "==> WARNING: A newer version of conda exists. <==\n",
      "  current version: 4.8.3\n",
      "  latest version: 4.14.0\n",
      "\n",
      "Please update conda by running\n",
      "\n",
      "    $ conda update -n base -c defaults conda\n",
      "\n",
      "\n"
     ]
    }
   ],
   "source": [
    "!conda install nb_conda -y"
   ]
  },
  {
   "cell_type": "code",
   "execution_count": 7,
   "id": "fa539674",
   "metadata": {},
   "outputs": [
    {
     "name": "stdout",
     "output_type": "stream",
     "text": [
      "Collecting package metadata (current_repodata.json): ...working... done\n",
      "Solving environment: ...working... done\n",
      "\n",
      "# All requested packages already installed.\n",
      "\n"
     ]
    },
    {
     "name": "stderr",
     "output_type": "stream",
     "text": [
      "\n",
      "\n",
      "==> WARNING: A newer version of conda exists. <==\n",
      "  current version: 4.8.3\n",
      "  latest version: 4.14.0\n",
      "\n",
      "Please update conda by running\n",
      "\n",
      "    $ conda update -n base -c defaults conda\n",
      "\n",
      "\n"
     ]
    }
   ],
   "source": [
    "!conda install ipykernel -y"
   ]
  },
  {
   "cell_type": "code",
   "execution_count": 1,
   "id": "5a2be55f",
   "metadata": {},
   "outputs": [
    {
     "name": "stdout",
     "output_type": "stream",
     "text": [
      "Collecting package metadata (current_repodata.json): ...working... done\n",
      "Solving environment: ...working... done\n",
      "\n",
      "# All requested packages already installed.\n",
      "\n"
     ]
    },
    {
     "name": "stderr",
     "output_type": "stream",
     "text": [
      "\n",
      "\n",
      "==> WARNING: A newer version of conda exists. <==\n",
      "  current version: 4.8.3\n",
      "  latest version: 4.14.0\n",
      "\n",
      "Please update conda by running\n",
      "\n",
      "    $ conda update -n base -c defaults conda\n",
      "\n",
      "\n"
     ]
    }
   ],
   "source": [
    "!conda install pip -y"
   ]
  },
  {
   "cell_type": "markdown",
   "id": "56c2f5b7",
   "metadata": {},
   "source": [
    "### Once done, you have to exit this notebook. Deactivate and reactivate the environment and everything else through an anaconda command prompt (all of which should be installed)\n",
    "1. conda activate\n",
    "2. conda activate tsu\n",
    "3. jupyter notebook\n",
    "\n",
    "You have to then come back to this place to reopen the .ipynb file yourself. Now look at the \"Kernel\" tab, you can \"Change kernel\" to the conda environment was created. Do that. \n",
    "\n",
    "#### _From now on, this is how you will activate the notebook_"
   ]
  },
  {
   "cell_type": "markdown",
   "id": "cd62d93c",
   "metadata": {},
   "source": [
    "## _Skip steps above if you have already created an environment name tsu with all the basic dependencies installed_ ####"
   ]
  },
  {
   "cell_type": "markdown",
   "id": "c1b2583e",
   "metadata": {},
   "source": [
    "### 2. Installation of required project dependencies to start on project\n",
    "\n",
    "*IMPORTANT: ensure that you are in the tsu virtual environment before proceeding!!*"
   ]
  },
  {
   "cell_type": "code",
   "execution_count": 35,
   "id": "22e9f0ac",
   "metadata": {},
   "outputs": [
    {
     "name": "stdout",
     "output_type": "stream",
     "text": [
      "\n",
      "     active environment : tsu\n",
      "    active env location : C:\\Users\\L\\anaconda3\\envs\\tsu\n",
      "            shell level : 2\n",
      "       user config file : C:\\Users\\L\\.condarc\n",
      " populated config files : C:\\Users\\L\\.condarc\n",
      "          conda version : 4.8.3\n",
      "    conda-build version : 3.18.11\n",
      "         python version : 3.8.3.final.0\n",
      "       virtual packages : __cuda=11.6\n",
      "       base environment : C:\\Users\\L\\anaconda3  (writable)\n",
      "           channel URLs : https://repo.anaconda.com/pkgs/main/win-64\n",
      "                          https://repo.anaconda.com/pkgs/main/noarch\n",
      "                          https://repo.anaconda.com/pkgs/r/win-64\n",
      "                          https://repo.anaconda.com/pkgs/r/noarch\n",
      "                          https://repo.anaconda.com/pkgs/msys2/win-64\n",
      "                          https://repo.anaconda.com/pkgs/msys2/noarch\n",
      "          package cache : C:\\Users\\L\\anaconda3\\pkgs\n",
      "                          C:\\Users\\L\\.conda\\pkgs\n",
      "                          C:\\Users\\L\\AppData\\Local\\conda\\conda\\pkgs\n",
      "       envs directories : C:\\Users\\L\\anaconda3\\envs\n",
      "                          C:\\Users\\L\\.conda\\envs\n",
      "                          C:\\Users\\L\\AppData\\Local\\conda\\conda\\envs\n",
      "               platform : win-64\n",
      "             user-agent : conda/4.8.3 requests/2.24.0 CPython/3.8.3 Windows/10 Windows/10.0.19041\n",
      "          administrator : False\n",
      "             netrc file : None\n",
      "           offline mode : False\n",
      "\n"
     ]
    }
   ],
   "source": [
    "!conda activate\n",
    "!conda activate tsu\n",
    "!conda info"
   ]
  },
  {
   "cell_type": "code",
   "execution_count": 24,
   "id": "f5b82933",
   "metadata": {},
   "outputs": [
    {
     "name": "stdout",
     "output_type": "stream",
     "text": [
      "Warning: you have pip-installed dependencies in your environment file, but you do not list pip itself as one of your conda dependencies.  Conda may not use the correct pip to install your packages, and they may end up in the wrong place.  Please add an explicit pip dependency.  I'm adding one for you, but still nagging you.\n",
      "Collecting package metadata (repodata.json): ...working... done\n",
      "Solving environment: ...working... done\n",
      "Ran pip subprocess with arguments:\n",
      "['C:\\\\Users\\\\L\\\\anaconda3\\\\envs\\\\tsu\\\\python.exe', '-m', 'pip', 'install', '-U', '-r', 'C:\\\\Users\\\\L\\\\Desktop\\\\WORK\\\\Year-3\\\\3104\\\\Project\\\\JupyterTSU\\\\condaenv.fe1enrvs.requirements.txt']\n",
      "Pip subprocess output:\n",
      "Looking in links: https://download.pytorch.org/whl/torch_stable.html\n",
      "\n",
      "Ignoring torch: markers 'sys_platform == \"darwin\"' don't match your environment\n",
      "\n",
      "Ignoring torchvision: markers 'sys_platform == \"darwin\"' don't match your environment\n",
      "\n",
      "Ignoring torchaudio: markers 'sys_platform == \"darwin\"' don't match your environment\n",
      "\n",
      "Ignoring pickle5: markers 'sys_platform == \"darwin\"' don't match your environment\n",
      "\n",
      "Collecting torch==1.10.1+cu111\n",
      "\n",
      "  Using cached https://download.pytorch.org/whl/cu111/torch-1.10.1%2Bcu111-cp38-cp38-win_amd64.whl (3198.3 MB)\n",
      "\n",
      "Collecting torchvision==0.11.2+cu113\n",
      "\n",
      "  Using cached https://download.pytorch.org/whl/cu113/torchvision-0.11.2%2Bcu113-cp38-cp38-win_amd64.whl (3.2 MB)\n",
      "\n",
      "Collecting torchaudio==0.10.1\n",
      "\n",
      "  Using cached https://download.pytorch.org/whl/cu113/torchaudio-0.10.1%2Bcu113-cp38-cp38-win_amd64.whl (336 kB)\n",
      "\n",
      "Collecting timm==0.4.12\n",
      "\n",
      "  Using cached timm-0.4.12-py3-none-any.whl (376 kB)\n",
      "\n",
      "Requirement already satisfied: scikit-learn in c:\\users\\l\\anaconda3\\envs\\tsu\\lib\\site-packages (from -r C:\\Users\\L\\Desktop\\WORK\\Year-3\\3104\\Project\\JupyterTSU\\requirements.txt (line 12)) (1.1.2)\n",
      "\n",
      "Requirement already satisfied: numpy in c:\\users\\l\\anaconda3\\envs\\tsu\\lib\\site-packages (from -r C:\\Users\\L\\Desktop\\WORK\\Year-3\\3104\\Project\\JupyterTSU\\requirements.txt (line 13)) (1.23.3)\n",
      "\n",
      "Requirement already satisfied: typing-extensions in c:\\users\\l\\anaconda3\\envs\\tsu\\lib\\site-packages (from torch==1.10.1+cu111->-r C:\\Users\\L\\Desktop\\WORK\\Year-3\\3104\\Project\\JupyterTSU\\requirements.txt (line 1)) (4.3.0)\n",
      "\n",
      "Collecting pillow!=8.3.0,>=5.3.0\n",
      "\n",
      "  Using cached Pillow-9.2.0-cp38-cp38-win_amd64.whl (3.3 MB)\n",
      "\n",
      "Requirement already satisfied: joblib>=1.0.0 in c:\\users\\l\\anaconda3\\envs\\tsu\\lib\\site-packages (from scikit-learn->-r C:\\Users\\L\\Desktop\\WORK\\Year-3\\3104\\Project\\JupyterTSU\\requirements.txt (line 12)) (1.2.0)\n",
      "\n",
      "Requirement already satisfied: scipy>=1.3.2 in c:\\users\\l\\anaconda3\\envs\\tsu\\lib\\site-packages (from scikit-learn->-r C:\\Users\\L\\Desktop\\WORK\\Year-3\\3104\\Project\\JupyterTSU\\requirements.txt (line 12)) (1.9.1)\n",
      "\n",
      "Requirement already satisfied: threadpoolctl>=2.0.0 in c:\\users\\l\\anaconda3\\envs\\tsu\\lib\\site-packages (from scikit-learn->-r C:\\Users\\L\\Desktop\\WORK\\Year-3\\3104\\Project\\JupyterTSU\\requirements.txt (line 12)) (3.1.0)\n",
      "\n",
      "Installing collected packages: torch, pillow, torchvision, torchaudio, timm\n",
      "\n",
      "Successfully installed pillow-9.2.0 timm-0.4.12 torch-1.10.1+cu111 torchaudio-0.10.1+cu113 torchvision-0.11.2+cu113\n",
      "\n",
      "\n",
      "#\n",
      "# To activate this environment, use\n",
      "#\n",
      "#     $ conda activate tsu\n",
      "#\n",
      "# To deactivate an active environment, use\n",
      "#\n",
      "#     $ conda deactivate\n",
      "\n"
     ]
    },
    {
     "name": "stderr",
     "output_type": "stream",
     "text": [
      "\n",
      "\n",
      "==> WARNING: A newer version of conda exists. <==\n",
      "  current version: 4.8.3\n",
      "  latest version: 4.14.0\n",
      "\n",
      "Please update conda by running\n",
      "\n",
      "    $ conda update -n base -c defaults conda\n",
      "\n",
      "\n"
     ]
    }
   ],
   "source": [
    "!conda env update -n tsu --file environment.yaml"
   ]
  },
  {
   "cell_type": "code",
   "execution_count": 26,
   "id": "0492149e",
   "metadata": {},
   "outputs": [
    {
     "name": "stdout",
     "output_type": "stream",
     "text": [
      "64\n"
     ]
    }
   ],
   "source": [
    "# Use this to check your python version (x64 or x32)\n",
    "import struct\n",
    "print(struct.calcsize(\"P\") * 8)"
   ]
  },
  {
   "cell_type": "code",
   "execution_count": 25,
   "id": "76195bbd",
   "metadata": {},
   "outputs": [
    {
     "name": "stdout",
     "output_type": "stream",
     "text": [
      "# packages in environment at C:\\Users\\L\\anaconda3\\envs\\tsu:\n",
      "#\n",
      "# Name                    Version                   Build  Channel\n",
      "anyio                     3.5.0            py38haa95532_0  \n",
      "argon2-cffi               21.3.0             pyhd3eb1b0_0  \n",
      "argon2-cffi-bindings      21.2.0           py38h2bbff1b_0  \n",
      "asttokens                 2.0.5              pyhd3eb1b0_0  \n",
      "attrs                     21.4.0             pyhd3eb1b0_0  \n",
      "babel                     2.9.1              pyhd3eb1b0_0  \n",
      "backcall                  0.2.0              pyhd3eb1b0_0  \n",
      "beautifulsoup4            4.11.1           py38haa95532_0  \n",
      "bleach                    4.1.0              pyhd3eb1b0_0  \n",
      "brotlipy                  0.7.0           py38h2bbff1b_1003  \n",
      "ca-certificates           2022.9.14            h5b45459_0    conda-forge\n",
      "certifi                   2022.9.14          pyhd8ed1ab_0    conda-forge\n",
      "cffi                      1.15.1           py38h2bbff1b_0  \n",
      "charset-normalizer        2.0.4              pyhd3eb1b0_0  \n",
      "colorama                  0.4.5            py38haa95532_0  \n",
      "cryptography              37.0.1           py38h21b164f_0  \n",
      "debugpy                   1.5.1            py38hd77b12b_0  \n",
      "decorator                 5.1.1              pyhd3eb1b0_0  \n",
      "defusedxml                0.7.1              pyhd3eb1b0_0  \n",
      "entrypoints               0.4              py38haa95532_0  \n",
      "executing                 0.8.3              pyhd3eb1b0_0  \n",
      "glib                      2.69.1               h5dc1a3c_1  \n",
      "gst-plugins-base          1.18.5               h9e645db_0  \n",
      "gstreamer                 1.18.5               hd78058f_0  \n",
      "icu                       58.2                 ha925a31_3  \n",
      "idna                      3.3                pyhd3eb1b0_0  \n",
      "importlib_resources       5.2.0              pyhd3eb1b0_1  \n",
      "ipykernel                 6.15.2           py38haa95532_0  \n",
      "ipython                   8.4.0            py38haa95532_0  \n",
      "ipython_genutils          0.2.0              pyhd3eb1b0_1  \n",
      "ipywidgets                7.6.5              pyhd3eb1b0_1  \n",
      "jedi                      0.18.1           py38haa95532_1  \n",
      "jinja2                    3.0.3              pyhd3eb1b0_0  \n",
      "joblib                    1.2.0                    pypi_0    pypi\n",
      "jpeg                      9e                   h2bbff1b_0  \n",
      "json5                     0.9.6              pyhd3eb1b0_0  \n",
      "jsonschema                4.4.0            py38haa95532_0  \n",
      "jupyter                   1.0.0            py38haa95532_8  \n",
      "jupyter_client            7.3.5            py38haa95532_0  \n",
      "jupyter_console           6.4.3              pyhd3eb1b0_0  \n",
      "jupyter_core              4.10.0           py38haa95532_0  \n",
      "jupyter_server            1.18.1           py38haa95532_0  \n",
      "jupyterlab                3.4.4            py38haa95532_0  \n",
      "jupyterlab_pygments       0.1.2                      py_0  \n",
      "jupyterlab_server         2.12.0           py38haa95532_0  \n",
      "jupyterlab_widgets        1.0.0              pyhd3eb1b0_1  \n",
      "libclang                  12.0.0          default_h627e005_2  \n",
      "libffi                    3.4.2                hd77b12b_4  \n",
      "libiconv                  1.16                 h2bbff1b_2  \n",
      "libogg                    1.3.5                h2bbff1b_1  \n",
      "libpng                    1.6.37               h2a8f88b_0  \n",
      "libsodium                 1.0.18               h62dcd97_0  \n",
      "libvorbis                 1.3.7                he774522_0  \n",
      "libwebp                   1.2.2                h2bbff1b_0  \n",
      "libxml2                   2.9.14               h0ad7f3c_0  \n",
      "libxslt                   1.1.35               h2bbff1b_0  \n",
      "lz4-c                     1.9.3                h2bbff1b_1  \n",
      "markupsafe                2.1.1            py38h2bbff1b_0  \n",
      "matplotlib-inline         0.1.6            py38haa95532_0  \n",
      "mistune                   0.8.4           py38he774522_1000  \n",
      "nb_conda                  2.2.1                    py38_1  \n",
      "nb_conda_kernels          2.3.1            py38haa95532_0  \n",
      "nbclassic                 0.3.5              pyhd3eb1b0_0  \n",
      "nbclient                  0.5.13           py38haa95532_0  \n",
      "nbconvert                 6.4.4            py38haa95532_0  \n",
      "nbformat                  5.3.0            py38haa95532_0  \n",
      "nest-asyncio              1.5.5            py38haa95532_0  \n",
      "notebook                  6.4.12           py38haa95532_0  \n",
      "numpy                     1.23.3                   pypi_0    pypi\n",
      "openssl                   1.1.1q               h8ffe710_0    conda-forge\n",
      "packaging                 21.3               pyhd3eb1b0_0  \n",
      "pandocfilters             1.5.0              pyhd3eb1b0_0  \n",
      "parso                     0.8.3              pyhd3eb1b0_0  \n",
      "pcre                      8.45                 hd77b12b_0  \n",
      "pickleshare               0.7.5           pyhd3eb1b0_1003  \n",
      "pillow                    9.2.0                    pypi_0    pypi\n",
      "pip                       22.2.2             pyhd8ed1ab_0    conda-forge\n",
      "ply                       3.11                     py38_0  \n",
      "prometheus_client         0.14.1           py38haa95532_0  \n",
      "prompt-toolkit            3.0.20             pyhd3eb1b0_0  \n",
      "prompt_toolkit            3.0.20               hd3eb1b0_0  \n",
      "psutil                    5.9.0            py38h2bbff1b_0  \n",
      "pure_eval                 0.2.2              pyhd3eb1b0_0  \n",
      "pycparser                 2.21               pyhd3eb1b0_0  \n",
      "pygments                  2.11.2             pyhd3eb1b0_0  \n",
      "pyopenssl                 22.0.0             pyhd3eb1b0_0  \n",
      "pyparsing                 3.0.9            py38haa95532_0  \n",
      "pyqt                      5.15.7           py38hd77b12b_0  \n",
      "pyqt5-sip                 12.11.0          py38hd77b12b_0  \n",
      "pyrsistent                0.18.0           py38h196d8e1_0  \n",
      "pysocks                   1.7.1            py38haa95532_0  \n",
      "python                    3.8.13               h6244533_0  \n",
      "python-dateutil           2.8.2              pyhd3eb1b0_0  \n",
      "python-fastjsonschema     2.16.2           py38haa95532_0  \n",
      "pytz                      2022.1           py38haa95532_0  \n",
      "pywin32                   302              py38h2bbff1b_2  \n",
      "pywinpty                  2.0.2            py38h5da7b33_0  \n",
      "pyzmq                     23.2.0           py38hd77b12b_0  \n",
      "qt-main                   5.15.2               he8e5bd7_7  \n",
      "qt-webengine              5.15.9               hb9a9bb5_4  \n",
      "qtconsole                 5.3.2            py38haa95532_0  \n",
      "qtpy                      2.2.0            py38haa95532_0  \n",
      "qtwebkit                  5.212                h3ad3cdb_4  \n",
      "requests                  2.28.1           py38haa95532_0  \n",
      "scikit-learn              1.1.2                    pypi_0    pypi\n",
      "scipy                     1.9.1                    pypi_0    pypi\n",
      "send2trash                1.8.0              pyhd3eb1b0_1  \n",
      "setuptools                65.3.0                   pypi_0    pypi\n",
      "sip                       6.6.2            py38hd77b12b_0  \n",
      "six                       1.16.0             pyhd3eb1b0_1  \n",
      "sniffio                   1.2.0            py38haa95532_1  \n",
      "soupsieve                 2.3.1              pyhd3eb1b0_0  \n",
      "sqlite                    3.39.2               h2bbff1b_0  \n",
      "stack_data                0.2.0              pyhd3eb1b0_0  \n",
      "terminado                 0.13.1           py38haa95532_0  \n",
      "testpath                  0.6.0            py38haa95532_0  \n",
      "threadpoolctl             3.1.0                    pypi_0    pypi\n",
      "timm                      0.4.12                   pypi_0    pypi\n",
      "toml                      0.10.2             pyhd3eb1b0_0  \n",
      "torch                     1.10.1+cu111             pypi_0    pypi\n",
      "torchaudio                0.10.1+cu113             pypi_0    pypi\n",
      "torchvision               0.11.2+cu113             pypi_0    pypi\n",
      "tornado                   6.2              py38h2bbff1b_0  \n",
      "traitlets                 5.1.1              pyhd3eb1b0_0  \n",
      "typing-extensions         4.3.0            py38haa95532_0  \n",
      "typing_extensions         4.3.0            py38haa95532_0  \n",
      "urllib3                   1.26.11          py38haa95532_0  \n",
      "vc                        14.2                 h21ff451_1  \n",
      "vs2015_runtime            14.27.29016          h5e58377_2  \n",
      "wcwidth                   0.2.5              pyhd3eb1b0_0  \n",
      "webencodings              0.5.1                    py38_1  \n",
      "websocket-client          0.58.0           py38haa95532_4  \n",
      "wheel                     0.37.1             pyhd3eb1b0_0  \n",
      "widgetsnbextension        3.5.2            py38haa95532_0  \n",
      "win_inet_pton             1.1.0            py38haa95532_0  \n",
      "wincertstore              0.2              py38haa95532_2  \n",
      "winpty                    0.4.3                         4  \n",
      "zeromq                    4.3.4                hd77b12b_0  \n",
      "zipp                      3.8.0            py38haa95532_0  \n",
      "zlib                      1.2.12               h8cc25b3_3  \n",
      "zstd                      1.5.2                h19a0ad4_0  \n"
     ]
    }
   ],
   "source": [
    "# Use this to check all the different dependencies that you have installed. Make sure what is required is installed\n",
    "!conda list"
   ]
  }
 ],
 "metadata": {
  "kernelspec": {
   "display_name": "Python [conda env:tsu] *",
   "language": "python",
   "name": "conda-env-tsu-py"
  },
  "language_info": {
   "codemirror_mode": {
    "name": "ipython",
    "version": 3
   },
   "file_extension": ".py",
   "mimetype": "text/x-python",
   "name": "python",
   "nbconvert_exporter": "python",
   "pygments_lexer": "ipython3",
   "version": "3.8.12"
  }
 },
 "nbformat": 4,
 "nbformat_minor": 5
}
