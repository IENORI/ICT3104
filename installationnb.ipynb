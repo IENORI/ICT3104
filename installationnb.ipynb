{
 "cells": [
  {
   "cell_type": "markdown",
   "id": "b33ff5eb",
   "metadata": {},
   "source": [
    "### 1. Installation of some basic dependencies before you are able to properly use the notebook\n",
    "\n",
    "*Ensure that you already have python 3.8 and pip and ANACONDA installed on your pc*\n",
    "\n",
    "We will be installing:\n",
    "- conda\n",
    "- python 3.8\n",
    "- jupyter notebook\n",
    "- ipykernel\n",
    "- nb_conda\n",
    "- pip\n",
    "  \n",
    "to facilite the virtual environment usage in Jupyter Notebook."
   ]
  },
  {
   "cell_type": "code",
   "execution_count": 1,
   "id": "ef23aaa2",
   "metadata": {
    "scrolled": false,
    "vscode": {
     "languageId": "plaintext"
    }
   },
   "outputs": [
    {
     "name": "stdout",
     "output_type": "stream",
     "text": [
      "Requirement already satisfied: conda in c:\\users\\l\\anaconda3\\lib\\site-packages (4.8.3)\n",
      "Requirement already satisfied: pycosat>=0.6.3 in c:\\users\\l\\anaconda3\\lib\\site-packages (from conda) (0.6.3)\n",
      "Requirement already satisfied: requests>=2.12.4 in c:\\users\\l\\anaconda3\\lib\\site-packages (from conda) (2.24.0)\n",
      "Requirement already satisfied: ruamel_yaml>=0.11.14 in c:\\users\\l\\anaconda3\\lib\\site-packages (from conda) (0.15.87)\n",
      "Requirement already satisfied: menuinst in c:\\users\\l\\anaconda3\\lib\\site-packages (from conda) (1.4.16)\n",
      "Requirement already satisfied: idna<3,>=2.5 in c:\\users\\l\\anaconda3\\lib\\site-packages (from requests>=2.12.4->conda) (2.10)\n",
      "Requirement already satisfied: certifi>=2017.4.17 in c:\\users\\l\\anaconda3\\lib\\site-packages (from requests>=2.12.4->conda) (2020.6.20)\n",
      "Requirement already satisfied: chardet<4,>=3.0.2 in c:\\users\\l\\anaconda3\\lib\\site-packages (from requests>=2.12.4->conda) (3.0.4)\n",
      "Requirement already satisfied: urllib3!=1.25.0,!=1.25.1,<1.26,>=1.21.1 in c:\\users\\l\\anaconda3\\lib\\site-packages (from requests>=2.12.4->conda) (1.25.9)\n",
      "conda 4.8.3\n"
     ]
    }
   ],
   "source": [
    "!pip install conda\n",
    "!conda --version"
   ]
  },
  {
   "cell_type": "code",
   "execution_count": 2,
   "id": "df4ccafb",
   "metadata": {},
   "outputs": [
    {
     "name": "stdout",
     "output_type": "stream",
     "text": [
      "\n",
      "     active environment : base\n",
      "    active env location : C:\\Users\\L\\anaconda3\n",
      "            shell level : 0\n",
      "       user config file : C:\\Users\\L\\.condarc\n",
      " populated config files : C:\\Users\\L\\.condarc\n",
      "          conda version : 4.8.3\n",
      "    conda-build version : 3.18.11\n",
      "         python version : 3.8.3.final.0\n",
      "       virtual packages : __cuda=11.6\n",
      "       base environment : C:\\Users\\L\\anaconda3  (writable)\n",
      "           channel URLs : https://repo.anaconda.com/pkgs/main/win-64\n",
      "                          https://repo.anaconda.com/pkgs/main/noarch\n",
      "                          https://repo.anaconda.com/pkgs/r/win-64\n",
      "                          https://repo.anaconda.com/pkgs/r/noarch\n",
      "                          https://repo.anaconda.com/pkgs/msys2/win-64\n",
      "                          https://repo.anaconda.com/pkgs/msys2/noarch\n",
      "          package cache : C:\\Users\\L\\anaconda3\\pkgs\n",
      "                          C:\\Users\\L\\.conda\\pkgs\n",
      "                          C:\\Users\\L\\AppData\\Local\\conda\\conda\\pkgs\n",
      "       envs directories : C:\\Users\\L\\anaconda3\\envs\n",
      "                          C:\\Users\\L\\.conda\\envs\n",
      "                          C:\\Users\\L\\AppData\\Local\\conda\\conda\\envs\n",
      "               platform : win-64\n",
      "             user-agent : conda/4.8.3 requests/2.24.0 CPython/3.8.3 Windows/10 Windows/10.0.19041\n",
      "          administrator : False\n",
      "             netrc file : None\n",
      "           offline mode : False\n",
      "\n"
     ]
    }
   ],
   "source": [
    "!conda activate\n",
    "!conda info"
   ]
  },
  {
   "cell_type": "markdown",
   "id": "08917298",
   "metadata": {},
   "source": [
    "# Skip steps below if you have already created an environment name tsu with all the basic dependencies installed"
   ]
  },
  {
   "cell_type": "code",
   "execution_count": 3,
   "id": "cb9333c4",
   "metadata": {},
   "outputs": [
    {
     "name": "stdout",
     "output_type": "stream",
     "text": [
      "\n",
      "     active environment : tsu\n",
      "    active env location : C:\\Users\\L\\anaconda3\\envs\\tsu\n",
      "            shell level : 2\n",
      "       user config file : C:\\Users\\L\\.condarc\n",
      " populated config files : C:\\Users\\L\\.condarc\n",
      "          conda version : 4.8.3\n",
      "    conda-build version : 3.18.11\n",
      "         python version : 3.8.3.final.0\n",
      "       virtual packages : __cuda=11.6\n",
      "       base environment : C:\\Users\\L\\anaconda3  (writable)\n",
      "           channel URLs : https://repo.anaconda.com/pkgs/main/win-64\n",
      "                          https://repo.anaconda.com/pkgs/main/noarch\n",
      "                          https://repo.anaconda.com/pkgs/r/win-64\n",
      "                          https://repo.anaconda.com/pkgs/r/noarch\n",
      "                          https://repo.anaconda.com/pkgs/msys2/win-64\n",
      "                          https://repo.anaconda.com/pkgs/msys2/noarch\n",
      "          package cache : C:\\Users\\L\\anaconda3\\pkgs\n",
      "                          C:\\Users\\L\\.conda\\pkgs\n",
      "                          C:\\Users\\L\\AppData\\Local\\conda\\conda\\pkgs\n",
      "       envs directories : C:\\Users\\L\\anaconda3\\envs\n",
      "                          C:\\Users\\L\\.conda\\envs\n",
      "                          C:\\Users\\L\\AppData\\Local\\conda\\conda\\envs\n",
      "               platform : win-64\n",
      "             user-agent : conda/4.8.3 requests/2.24.0 CPython/3.8.3 Windows/10 Windows/10.0.19041\n",
      "          administrator : False\n",
      "             netrc file : None\n",
      "           offline mode : False\n",
      "\n"
     ]
    }
   ],
   "source": [
    "!conda create --name tsu -y"
   ]
  },
  {
   "cell_type": "markdown",
   "id": "0e90a2d9",
   "metadata": {},
   "source": [
    "Before you continue, you will need to restart your jupyter notebook and open a notebook from the anaconda terminal before continuing, you conda environment should be in tsu\n",
    "1. Run Anaconda command prompt\n",
    "2. in the command prompt, run: conda activate\n",
    "3. conda activate tsu\n",
    "4. conda install jupyter\n",
    "\n",
    "Then continue from the steps below"
   ]
  },
  {
   "cell_type": "code",
   "execution_count": 1,
   "id": "41b63b15",
   "metadata": {},
   "outputs": [
    {
     "name": "stdout",
     "output_type": "stream",
     "text": [
      "\n",
      "     active environment : tsu\n",
      "    active env location : C:\\Users\\L\\anaconda3\\envs\\tsu\n",
      "            shell level : 2\n",
      "       user config file : C:\\Users\\L\\.condarc\n",
      " populated config files : C:\\Users\\L\\.condarc\n",
      "          conda version : 4.8.3\n",
      "    conda-build version : 3.18.11\n",
      "         python version : 3.8.3.final.0\n",
      "       virtual packages : __cuda=11.6\n",
      "       base environment : C:\\Users\\L\\anaconda3  (writable)\n",
      "           channel URLs : https://repo.anaconda.com/pkgs/main/win-64\n",
      "                          https://repo.anaconda.com/pkgs/main/noarch\n",
      "                          https://repo.anaconda.com/pkgs/r/win-64\n",
      "                          https://repo.anaconda.com/pkgs/r/noarch\n",
      "                          https://repo.anaconda.com/pkgs/msys2/win-64\n",
      "                          https://repo.anaconda.com/pkgs/msys2/noarch\n",
      "          package cache : C:\\Users\\L\\anaconda3\\pkgs\n",
      "                          C:\\Users\\L\\.conda\\pkgs\n",
      "                          C:\\Users\\L\\AppData\\Local\\conda\\conda\\pkgs\n",
      "       envs directories : C:\\Users\\L\\anaconda3\\envs\n",
      "                          C:\\Users\\L\\.conda\\envs\n",
      "                          C:\\Users\\L\\AppData\\Local\\conda\\conda\\envs\n",
      "               platform : win-64\n",
      "             user-agent : conda/4.8.3 requests/2.24.0 CPython/3.8.3 Windows/10 Windows/10.0.19041\n",
      "          administrator : False\n",
      "             netrc file : None\n",
      "           offline mode : False\n",
      "\n"
     ]
    }
   ],
   "source": [
    "!conda activate tsu\n",
    "!conda info"
   ]
  },
  {
   "cell_type": "code",
   "execution_count": 6,
   "id": "db8acf0d",
   "metadata": {},
   "outputs": [
    {
     "name": "stdout",
     "output_type": "stream",
     "text": [
      "Collecting package metadata (current_repodata.json): ...working... done\n",
      "Solving environment: ...working... done\n",
      "\n",
      "# All requested packages already installed.\n",
      "\n"
     ]
    },
    {
     "name": "stderr",
     "output_type": "stream",
     "text": [
      "\n",
      "\n",
      "==> WARNING: A newer version of conda exists. <==\n",
      "  current version: 4.8.3\n",
      "  latest version: 4.14.0\n",
      "\n",
      "Please update conda by running\n",
      "\n",
      "    $ conda update -n base -c defaults conda\n",
      "\n",
      "\n"
     ]
    }
   ],
   "source": [
    "!conda install python=3.8"
   ]
  },
  {
   "cell_type": "code",
   "execution_count": 6,
   "id": "db7e715c",
   "metadata": {},
   "outputs": [
    {
     "name": "stdout",
     "output_type": "stream",
     "text": [
      "Collecting package metadata (current_repodata.json): ...working... done\n",
      "Solving environment: ...working... done\n",
      "\n",
      "# All requested packages already installed.\n",
      "\n"
     ]
    },
    {
     "name": "stderr",
     "output_type": "stream",
     "text": [
      "\n",
      "\n",
      "==> WARNING: A newer version of conda exists. <==\n",
      "  current version: 4.8.3\n",
      "  latest version: 4.14.0\n",
      "\n",
      "Please update conda by running\n",
      "\n",
      "    $ conda update -n base -c defaults conda\n",
      "\n",
      "\n"
     ]
    }
   ],
   "source": [
    "!conda install nb_conda"
   ]
  },
  {
   "cell_type": "code",
   "execution_count": 7,
   "id": "fa539674",
   "metadata": {},
   "outputs": [
    {
     "name": "stdout",
     "output_type": "stream",
     "text": [
      "Collecting package metadata (current_repodata.json): ...working... done\n",
      "Solving environment: ...working... done\n",
      "\n",
      "# All requested packages already installed.\n",
      "\n"
     ]
    },
    {
     "name": "stderr",
     "output_type": "stream",
     "text": [
      "\n",
      "\n",
      "==> WARNING: A newer version of conda exists. <==\n",
      "  current version: 4.8.3\n",
      "  latest version: 4.14.0\n",
      "\n",
      "Please update conda by running\n",
      "\n",
      "    $ conda update -n base -c defaults conda\n",
      "\n",
      "\n"
     ]
    }
   ],
   "source": [
    "!conda install ipykernel"
   ]
  },
  {
   "cell_type": "code",
   "execution_count": 1,
   "id": "5a2be55f",
   "metadata": {},
   "outputs": [
    {
     "name": "stdout",
     "output_type": "stream",
     "text": [
      "Collecting package metadata (current_repodata.json): ...working... done\n",
      "Solving environment: ...working... done\n",
      "\n",
      "# All requested packages already installed.\n",
      "\n"
     ]
    },
    {
     "name": "stderr",
     "output_type": "stream",
     "text": [
      "\n",
      "\n",
      "==> WARNING: A newer version of conda exists. <==\n",
      "  current version: 4.8.3\n",
      "  latest version: 4.14.0\n",
      "\n",
      "Please update conda by running\n",
      "\n",
      "    $ conda update -n base -c defaults conda\n",
      "\n",
      "\n"
     ]
    }
   ],
   "source": [
    "!conda install pip"
   ]
  },
  {
   "cell_type": "markdown",
   "id": "56c2f5b7",
   "metadata": {},
   "source": [
    "Once done, you have to exit this notebook. Deactivate and reactivate the environment and everything else through an anaconda command prompt (all of which should be installed)\n",
    "1. conda activate\n",
    "2. conda activate tsu\n",
    "3. jupyter notebook\n",
    "\n",
    "You have to then come back to this place to reopen the .ipynb file yourself. Now look at the \"Kernel\" tab, you can \"Change kernel\" to the conda environment was created. Do that."
   ]
  },
  {
   "cell_type": "markdown",
   "id": "cd62d93c",
   "metadata": {},
   "source": [
    "# Skip steps above if you have already created an environment name tsu with all the basic dependencies installed"
   ]
  },
  {
   "cell_type": "markdown",
   "id": "c1b2583e",
   "metadata": {},
   "source": [
    "### 2. Installation of required project dependencies to start on project\n",
    "\n",
    "*IMPORTANT: ensure that you are in the tsu virtual environment before proceeding!!*"
   ]
  },
  {
   "cell_type": "code",
   "execution_count": 35,
   "id": "22e9f0ac",
   "metadata": {},
   "outputs": [
    {
     "name": "stdout",
     "output_type": "stream",
     "text": [
      "\n",
      "     active environment : tsu\n",
      "    active env location : C:\\Users\\L\\anaconda3\\envs\\tsu\n",
      "            shell level : 2\n",
      "       user config file : C:\\Users\\L\\.condarc\n",
      " populated config files : C:\\Users\\L\\.condarc\n",
      "          conda version : 4.8.3\n",
      "    conda-build version : 3.18.11\n",
      "         python version : 3.8.3.final.0\n",
      "       virtual packages : __cuda=11.6\n",
      "       base environment : C:\\Users\\L\\anaconda3  (writable)\n",
      "           channel URLs : https://repo.anaconda.com/pkgs/main/win-64\n",
      "                          https://repo.anaconda.com/pkgs/main/noarch\n",
      "                          https://repo.anaconda.com/pkgs/r/win-64\n",
      "                          https://repo.anaconda.com/pkgs/r/noarch\n",
      "                          https://repo.anaconda.com/pkgs/msys2/win-64\n",
      "                          https://repo.anaconda.com/pkgs/msys2/noarch\n",
      "          package cache : C:\\Users\\L\\anaconda3\\pkgs\n",
      "                          C:\\Users\\L\\.conda\\pkgs\n",
      "                          C:\\Users\\L\\AppData\\Local\\conda\\conda\\pkgs\n",
      "       envs directories : C:\\Users\\L\\anaconda3\\envs\n",
      "                          C:\\Users\\L\\.conda\\envs\n",
      "                          C:\\Users\\L\\AppData\\Local\\conda\\conda\\envs\n",
      "               platform : win-64\n",
      "             user-agent : conda/4.8.3 requests/2.24.0 CPython/3.8.3 Windows/10 Windows/10.0.19041\n",
      "          administrator : False\n",
      "             netrc file : None\n",
      "           offline mode : False\n",
      "\n"
     ]
    }
   ],
   "source": [
    "!conda activate\n",
    "!conda activate tsu\n",
    "!conda info"
   ]
  },
  {
   "cell_type": "code",
   "execution_count": 37,
   "id": "f5b82933",
   "metadata": {},
   "outputs": [
    {
     "name": "stdout",
     "output_type": "stream",
     "text": [
      "Warning: you have pip-installed dependencies in your environment file, but you do not list pip itself as one of your conda dependencies.  Conda may not use the correct pip to install your packages, and they may end up in the wrong place.  Please add an explicit pip dependency.  I'm adding one for you, but still nagging you.\n",
      "Collecting package metadata (repodata.json): ...working... done\n",
      "Solving environment: ...working... done\n",
      "Ran pip subprocess with arguments:\n",
      "['C:\\\\Users\\\\L\\\\anaconda3\\\\envs\\\\tsu\\\\python.exe', '-m', 'pip', 'install', '-U', '-r', 'C:\\\\Users\\\\L\\\\Desktop\\\\WORK\\\\Year-3\\\\3104\\\\Project\\\\JupyterTSU\\\\condaenv._6bxn1u8.requirements.txt']\n",
      "Pip subprocess output:\n",
      "Looking in links: https://download.pytorch.org/whl/cu113/torch/\n",
      "\n",
      "Ignoring torch: markers 'sys_platform == \"darwin\"' don't match your environment\n",
      "\n",
      "Ignoring torchvision: markers 'sys_platform == \"darwin\"' don't match your environment\n",
      "\n",
      "Ignoring torchaudio: markers 'sys_platform == \"darwin\"' don't match your environment\n",
      "\n",
      "Collecting torch==1.10.0+cu113\n",
      "\n",
      "  Using cached https://download.pytorch.org/whl/cu113/torch-1.10.0%2Bcu113-cp38-cp38-win_amd64.whl (2442.4 MB)\n",
      "\n",
      "\n"
     ]
    },
    {
     "name": "stderr",
     "output_type": "stream",
     "text": [
      "\n",
      "\n",
      "==> WARNING: A newer version of conda exists. <==\n",
      "  current version: 4.8.3\n",
      "  latest version: 4.14.0\n",
      "\n",
      "Please update conda by running\n",
      "\n",
      "    $ conda update -n base -c defaults conda\n",
      "\n",
      "\n",
      "Pip subprocess error:\n",
      "ERROR: Could not find a version that satisfies the requirement torchvision==0.11.0+cu113 (from versions: 0.1.6, 0.1.7, 0.1.8, 0.1.9, 0.2.0, 0.2.1, 0.2.2, 0.2.2.post2, 0.2.2.post3, 0.5.0, 0.9.0, 0.9.1, 0.10.0, 0.10.1, 0.11.0, 0.11.1, 0.11.2, 0.11.3, 0.12.0, 0.13.0, 0.13.1)\n",
      "\n",
      "ERROR: No matching distribution found for torchvision==0.11.0+cu113\n",
      "\n",
      "\n",
      "\n",
      "CondaEnvException: Pip failed\n",
      "\n"
     ]
    }
   ],
   "source": [
    "!conda env update -n tsu --file environment.yaml"
   ]
  },
  {
   "cell_type": "code",
   "execution_count": 22,
   "id": "f2342456",
   "metadata": {
    "scrolled": false
   },
   "outputs": [
    {
     "name": "stderr",
     "output_type": "stream",
     "text": [
      "\n",
      "CondaValueError: could not parse '--find-links https://download.pytorch.org/whl/torch_stable.html;' in: requirements.txt\n",
      "\n"
     ]
    }
   ],
   "source": [
    "!conda install --file requirements.txt"
   ]
  },
  {
   "cell_type": "code",
   "execution_count": 10,
   "id": "d514d94a",
   "metadata": {},
   "outputs": [
    {
     "name": "stdout",
     "output_type": "stream",
     "text": [
      "Python 3.8.13\n"
     ]
    }
   ],
   "source": [
    "!python -V"
   ]
  },
  {
   "cell_type": "code",
   "execution_count": 4,
   "id": "0492149e",
   "metadata": {},
   "outputs": [
    {
     "name": "stdout",
     "output_type": "stream",
     "text": [
      "64\n"
     ]
    }
   ],
   "source": [
    "import struct\n",
    "print(struct.calcsize(\"P\") * 8)"
   ]
  },
  {
   "cell_type": "code",
   "execution_count": 25,
   "id": "76195bbd",
   "metadata": {},
   "outputs": [
    {
     "name": "stdout",
     "output_type": "stream",
     "text": [
      "# packages in environment at C:\\Users\\L\\anaconda3\\envs\\tsu:\n",
      "#\n",
      "# Name                    Version                   Build  Channel\n",
      "anyio                     3.5.0            py38haa95532_0  \n",
      "argon2-cffi               21.3.0             pyhd3eb1b0_0  \n",
      "argon2-cffi-bindings      21.2.0           py38h2bbff1b_0  \n",
      "asttokens                 2.0.5              pyhd3eb1b0_0  \n",
      "attrs                     21.4.0             pyhd3eb1b0_0  \n",
      "babel                     2.9.1              pyhd3eb1b0_0  \n",
      "backcall                  0.2.0              pyhd3eb1b0_0  \n",
      "beautifulsoup4            4.11.1           py38haa95532_0  \n",
      "bleach                    4.1.0              pyhd3eb1b0_0  \n",
      "brotlipy                  0.7.0           py38h2bbff1b_1003  \n",
      "ca-certificates           2022.9.14            h5b45459_0    conda-forge\n",
      "certifi                   2022.9.14          pyhd8ed1ab_0    conda-forge\n",
      "cffi                      1.15.1           py38h2bbff1b_0  \n",
      "charset-normalizer        2.0.4              pyhd3eb1b0_0  \n",
      "colorama                  0.4.5            py38haa95532_0  \n",
      "cryptography              37.0.1           py38h21b164f_0  \n",
      "debugpy                   1.5.1            py38hd77b12b_0  \n",
      "decorator                 5.1.1              pyhd3eb1b0_0  \n",
      "defusedxml                0.7.1              pyhd3eb1b0_0  \n",
      "entrypoints               0.4              py38haa95532_0  \n",
      "executing                 0.8.3              pyhd3eb1b0_0  \n",
      "glib                      2.69.1               h5dc1a3c_1  \n",
      "gst-plugins-base          1.18.5               h9e645db_0  \n",
      "gstreamer                 1.18.5               hd78058f_0  \n",
      "icu                       58.2                 ha925a31_3  \n",
      "idna                      3.3                pyhd3eb1b0_0  \n",
      "importlib_resources       5.2.0              pyhd3eb1b0_1  \n",
      "ipykernel                 6.15.2           py38haa95532_0  \n",
      "ipython                   8.4.0            py38haa95532_0  \n",
      "ipython_genutils          0.2.0              pyhd3eb1b0_1  \n",
      "ipywidgets                7.6.5              pyhd3eb1b0_1  \n",
      "jedi                      0.18.1           py38haa95532_1  \n",
      "jinja2                    3.0.3              pyhd3eb1b0_0  \n",
      "jpeg                      9e                   h2bbff1b_0  \n",
      "json5                     0.9.6              pyhd3eb1b0_0  \n",
      "jsonschema                4.4.0            py38haa95532_0  \n",
      "jupyter                   1.0.0            py38haa95532_8  \n",
      "jupyter_client            7.3.5            py38haa95532_0  \n",
      "jupyter_console           6.4.3              pyhd3eb1b0_0  \n",
      "jupyter_core              4.10.0           py38haa95532_0  \n",
      "jupyter_server            1.18.1           py38haa95532_0  \n",
      "jupyterlab                3.4.4            py38haa95532_0  \n",
      "jupyterlab_pygments       0.1.2                      py_0  \n",
      "jupyterlab_server         2.12.0           py38haa95532_0  \n",
      "jupyterlab_widgets        1.0.0              pyhd3eb1b0_1  \n",
      "libclang                  12.0.0          default_h627e005_2  \n",
      "libffi                    3.4.2                hd77b12b_4  \n",
      "libiconv                  1.16                 h2bbff1b_2  \n",
      "libogg                    1.3.5                h2bbff1b_1  \n",
      "libpng                    1.6.37               h2a8f88b_0  \n",
      "libsodium                 1.0.18               h62dcd97_0  \n",
      "libvorbis                 1.3.7                he774522_0  \n",
      "libwebp                   1.2.2                h2bbff1b_0  \n",
      "libxml2                   2.9.14               h0ad7f3c_0  \n",
      "libxslt                   1.1.35               h2bbff1b_0  \n",
      "lz4-c                     1.9.3                h2bbff1b_1  \n",
      "markupsafe                2.1.1            py38h2bbff1b_0  \n",
      "matplotlib-inline         0.1.6            py38haa95532_0  \n",
      "mistune                   0.8.4           py38he774522_1000  \n",
      "nb_conda                  2.2.1                    py38_1  \n",
      "nb_conda_kernels          2.3.1            py38haa95532_0  \n",
      "nbclassic                 0.3.5              pyhd3eb1b0_0  \n",
      "nbclient                  0.5.13           py38haa95532_0  \n",
      "nbconvert                 6.4.4            py38haa95532_0  \n",
      "nbformat                  5.3.0            py38haa95532_0  \n",
      "nest-asyncio              1.5.5            py38haa95532_0  \n",
      "notebook                  6.4.12           py38haa95532_0  \n",
      "openssl                   1.1.1q               h8ffe710_0    conda-forge\n",
      "packaging                 21.3               pyhd3eb1b0_0  \n",
      "pandocfilters             1.5.0              pyhd3eb1b0_0  \n",
      "parso                     0.8.3              pyhd3eb1b0_0  \n",
      "pcre                      8.45                 hd77b12b_0  \n",
      "pickleshare               0.7.5           pyhd3eb1b0_1003  \n",
      "pip                       22.2.2             pyhd8ed1ab_0    conda-forge\n",
      "ply                       3.11                     py38_0  \n",
      "prometheus_client         0.14.1           py38haa95532_0  \n",
      "prompt-toolkit            3.0.20             pyhd3eb1b0_0  \n",
      "prompt_toolkit            3.0.20               hd3eb1b0_0  \n",
      "psutil                    5.9.0            py38h2bbff1b_0  \n",
      "pure_eval                 0.2.2              pyhd3eb1b0_0  \n",
      "pycparser                 2.21               pyhd3eb1b0_0  \n",
      "pygments                  2.11.2             pyhd3eb1b0_0  \n",
      "pyopenssl                 22.0.0             pyhd3eb1b0_0  \n",
      "pyparsing                 3.0.9            py38haa95532_0  \n",
      "pyqt                      5.15.7           py38hd77b12b_0  \n",
      "pyqt5-sip                 12.11.0          py38hd77b12b_0  \n",
      "pyrsistent                0.18.0           py38h196d8e1_0  \n",
      "pysocks                   1.7.1            py38haa95532_0  \n",
      "python                    3.8.12          h7840368_2_cpython    conda-forge\n",
      "python-dateutil           2.8.2              pyhd3eb1b0_0  \n",
      "python-fastjsonschema     2.16.2           py38haa95532_0  \n",
      "pytz                      2022.1           py38haa95532_0  \n",
      "pywin32                   302              py38h2bbff1b_2  \n",
      "pywinpty                  2.0.2            py38h5da7b33_0  \n",
      "pyzmq                     23.2.0           py38hd77b12b_0  \n",
      "qt-main                   5.15.2               he8e5bd7_7  \n",
      "qt-webengine              5.15.9               hb9a9bb5_4  \n",
      "qtconsole                 5.3.2            py38haa95532_0  \n",
      "qtpy                      2.2.0            py38haa95532_0  \n",
      "qtwebkit                  5.212                h3ad3cdb_4  \n",
      "requests                  2.28.1           py38haa95532_0  \n",
      "send2trash                1.8.0              pyhd3eb1b0_1  \n",
      "setuptools                63.4.1           py38haa95532_0  \n",
      "sip                       6.6.2            py38hd77b12b_0  \n",
      "six                       1.16.0             pyhd3eb1b0_1  \n",
      "sniffio                   1.2.0            py38haa95532_1  \n",
      "soupsieve                 2.3.1              pyhd3eb1b0_0  \n",
      "sqlite                    3.39.2               h2bbff1b_0  \n",
      "stack_data                0.2.0              pyhd3eb1b0_0  \n",
      "terminado                 0.13.1           py38haa95532_0  \n",
      "testpath                  0.6.0            py38haa95532_0  \n",
      "toml                      0.10.2             pyhd3eb1b0_0  \n",
      "tornado                   6.2              py38h2bbff1b_0  \n",
      "traitlets                 5.1.1              pyhd3eb1b0_0  \n",
      "typing-extensions         4.3.0            py38haa95532_0  \n",
      "typing_extensions         4.3.0            py38haa95532_0  \n",
      "urllib3                   1.26.11          py38haa95532_0  \n",
      "vc                        14.2                 h21ff451_1  \n",
      "vs2015_runtime            14.27.29016          h5e58377_2  \n",
      "wcwidth                   0.2.5              pyhd3eb1b0_0  \n",
      "webencodings              0.5.1                    py38_1  \n",
      "websocket-client          0.58.0           py38haa95532_4  \n",
      "wheel                     0.37.1             pyhd3eb1b0_0  \n",
      "widgetsnbextension        3.5.2            py38haa95532_0  \n",
      "win_inet_pton             1.1.0            py38haa95532_0  \n",
      "wincertstore              0.2              py38haa95532_2  \n",
      "winpty                    0.4.3                         4  \n",
      "zeromq                    4.3.4                hd77b12b_0  \n",
      "zipp                      3.8.0            py38haa95532_0  \n",
      "zlib                      1.2.12               h8cc25b3_3  \n",
      "zstd                      1.5.2                h19a0ad4_0  \n"
     ]
    }
   ],
   "source": [
    "!conda list"
   ]
  },
  {
   "cell_type": "code",
   "execution_count": 20,
   "id": "e1e190ca",
   "metadata": {},
   "outputs": [
    {
     "ename": "ModuleNotFoundError",
     "evalue": "No module named 'sklearn'",
     "output_type": "error",
     "traceback": [
      "\u001b[1;31m---------------------------------------------------------------------------\u001b[0m",
      "\u001b[1;31mModuleNotFoundError\u001b[0m                       Traceback (most recent call last)",
      "Input \u001b[1;32mIn [20]\u001b[0m, in \u001b[0;36m<cell line: 1>\u001b[1;34m()\u001b[0m\n\u001b[1;32m----> 1\u001b[0m \u001b[38;5;28;01mimport\u001b[39;00m \u001b[38;5;21;01msklearn\u001b[39;00m\n\u001b[0;32m      2\u001b[0m \u001b[38;5;28mprint\u001b[39m(sklearn\u001b[38;5;241m.\u001b[39m__version__)\n",
      "\u001b[1;31mModuleNotFoundError\u001b[0m: No module named 'sklearn'"
     ]
    }
   ],
   "source": [
    "import sklearn\n",
    "print(sklearn.__version__)"
   ]
  },
  {
   "cell_type": "code",
   "execution_count": null,
   "id": "7e2022d5",
   "metadata": {},
   "outputs": [],
   "source": []
  }
 ],
 "metadata": {
  "kernelspec": {
   "display_name": "Python [conda env:tsu] *",
   "language": "python",
   "name": "conda-env-tsu-py"
  },
  "language_info": {
   "codemirror_mode": {
    "name": "ipython",
    "version": 3
   },
   "file_extension": ".py",
   "mimetype": "text/x-python",
   "name": "python",
   "nbconvert_exporter": "python",
   "pygments_lexer": "ipython3",
   "version": "3.8.12"
  }
 },
 "nbformat": 4,
 "nbformat_minor": 5
}
