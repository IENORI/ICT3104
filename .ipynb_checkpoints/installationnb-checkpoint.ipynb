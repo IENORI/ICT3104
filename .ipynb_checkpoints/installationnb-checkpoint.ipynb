{
 "cells": [
  {
   "cell_type": "markdown",
   "id": "6c0dc9ff",
   "metadata": {},
   "source": [
    "### 1. Installation of some basic dependencies before you are able to properly use the notebook\n",
    "\n",
    "*Ensure that you already have python 3.8 and pip installed on your pc*\n",
    "\n",
    "We will be installing:\n",
    "- conda\n",
    "- python 3.8\n",
    "- jupyter notebook\n",
    "- ipykernel\n",
    "- nb_conda\n",
    "- pip\n",
    "  \n",
    "to facilite the virtual environment usage in Jupyter Notebook."
   ]
  },
  {
   "cell_type": "code",
   "execution_count": 1,
   "id": "cdb91724",
   "metadata": {
    "scrolled": false,
    "vscode": {
     "languageId": "plaintext"
    }
   },
   "outputs": [
    {
     "name": "stdout",
     "output_type": "stream",
     "text": [
      "Requirement already satisfied: conda in c:\\users\\l\\anaconda3\\lib\\site-packages (4.8.3)\n",
      "Requirement already satisfied: pycosat>=0.6.3 in c:\\users\\l\\anaconda3\\lib\\site-packages (from conda) (0.6.3)\n",
      "Requirement already satisfied: requests>=2.12.4 in c:\\users\\l\\anaconda3\\lib\\site-packages (from conda) (2.24.0)\n",
      "Requirement already satisfied: ruamel_yaml>=0.11.14 in c:\\users\\l\\anaconda3\\lib\\site-packages (from conda) (0.15.87)\n",
      "Requirement already satisfied: menuinst in c:\\users\\l\\anaconda3\\lib\\site-packages (from conda) (1.4.16)\n",
      "Requirement already satisfied: idna<3,>=2.5 in c:\\users\\l\\anaconda3\\lib\\site-packages (from requests>=2.12.4->conda) (2.10)\n",
      "Requirement already satisfied: certifi>=2017.4.17 in c:\\users\\l\\anaconda3\\lib\\site-packages (from requests>=2.12.4->conda) (2020.6.20)\n",
      "Requirement already satisfied: chardet<4,>=3.0.2 in c:\\users\\l\\anaconda3\\lib\\site-packages (from requests>=2.12.4->conda) (3.0.4)\n",
      "Requirement already satisfied: urllib3!=1.25.0,!=1.25.1,<1.26,>=1.21.1 in c:\\users\\l\\anaconda3\\lib\\site-packages (from requests>=2.12.4->conda) (1.25.9)\n",
      "conda 4.8.3\n"
     ]
    }
   ],
   "source": [
    "!pip install conda\n",
    "!conda --version"
   ]
  },
  {
   "cell_type": "code",
   "execution_count": 2,
   "id": "b111a7f7",
   "metadata": {},
   "outputs": [
    {
     "name": "stdout",
     "output_type": "stream",
     "text": [
      "\n",
      "     active environment : base\n",
      "    active env location : C:\\Users\\L\\anaconda3\n",
      "            shell level : 0\n",
      "       user config file : C:\\Users\\L\\.condarc\n",
      " populated config files : C:\\Users\\L\\.condarc\n",
      "          conda version : 4.8.3\n",
      "    conda-build version : 3.18.11\n",
      "         python version : 3.8.3.final.0\n",
      "       virtual packages : __cuda=11.6\n",
      "       base environment : C:\\Users\\L\\anaconda3  (writable)\n",
      "           channel URLs : https://repo.anaconda.com/pkgs/main/win-64\n",
      "                          https://repo.anaconda.com/pkgs/main/noarch\n",
      "                          https://repo.anaconda.com/pkgs/r/win-64\n",
      "                          https://repo.anaconda.com/pkgs/r/noarch\n",
      "                          https://repo.anaconda.com/pkgs/msys2/win-64\n",
      "                          https://repo.anaconda.com/pkgs/msys2/noarch\n",
      "          package cache : C:\\Users\\L\\anaconda3\\pkgs\n",
      "                          C:\\Users\\L\\.conda\\pkgs\n",
      "                          C:\\Users\\L\\AppData\\Local\\conda\\conda\\pkgs\n",
      "       envs directories : C:\\Users\\L\\anaconda3\\envs\n",
      "                          C:\\Users\\L\\.conda\\envs\n",
      "                          C:\\Users\\L\\AppData\\Local\\conda\\conda\\envs\n",
      "               platform : win-64\n",
      "             user-agent : conda/4.8.3 requests/2.24.0 CPython/3.8.3 Windows/10 Windows/10.0.19041\n",
      "          administrator : False\n",
      "             netrc file : None\n",
      "           offline mode : False\n",
      "\n"
     ]
    }
   ],
   "source": [
    "!conda activate\n",
    "!conda info"
   ]
  },
  {
   "cell_type": "markdown",
   "id": "d5c6fc95",
   "metadata": {},
   "source": [
    "# Skip steps below if you have already created an environment name tsu with all the basic dependencies installed"
   ]
  },
  {
   "cell_type": "code",
   "execution_count": 3,
   "id": "b5c0db56",
   "metadata": {},
   "outputs": [
    {
     "name": "stdout",
     "output_type": "stream",
     "text": [
      "\n",
      "     active environment : tsu\n",
      "    active env location : C:\\Users\\L\\anaconda3\\envs\\tsu\n",
      "            shell level : 2\n",
      "       user config file : C:\\Users\\L\\.condarc\n",
      " populated config files : C:\\Users\\L\\.condarc\n",
      "          conda version : 4.8.3\n",
      "    conda-build version : 3.18.11\n",
      "         python version : 3.8.3.final.0\n",
      "       virtual packages : __cuda=11.6\n",
      "       base environment : C:\\Users\\L\\anaconda3  (writable)\n",
      "           channel URLs : https://repo.anaconda.com/pkgs/main/win-64\n",
      "                          https://repo.anaconda.com/pkgs/main/noarch\n",
      "                          https://repo.anaconda.com/pkgs/r/win-64\n",
      "                          https://repo.anaconda.com/pkgs/r/noarch\n",
      "                          https://repo.anaconda.com/pkgs/msys2/win-64\n",
      "                          https://repo.anaconda.com/pkgs/msys2/noarch\n",
      "          package cache : C:\\Users\\L\\anaconda3\\pkgs\n",
      "                          C:\\Users\\L\\.conda\\pkgs\n",
      "                          C:\\Users\\L\\AppData\\Local\\conda\\conda\\pkgs\n",
      "       envs directories : C:\\Users\\L\\anaconda3\\envs\n",
      "                          C:\\Users\\L\\.conda\\envs\n",
      "                          C:\\Users\\L\\AppData\\Local\\conda\\conda\\envs\n",
      "               platform : win-64\n",
      "             user-agent : conda/4.8.3 requests/2.24.0 CPython/3.8.3 Windows/10 Windows/10.0.19041\n",
      "          administrator : False\n",
      "             netrc file : None\n",
      "           offline mode : False\n",
      "\n"
     ]
    }
   ],
   "source": [
    "!conda create --name tsu"
   ]
  },
  {
   "cell_type": "code",
   "execution_count": 4,
   "id": "f6c6ef14",
   "metadata": {},
   "outputs": [],
   "source": [
    "!conda activate tsu\n",
    "!conda info"
   ]
  },
  {
   "cell_type": "code",
   "execution_count": 6,
   "id": "8ab17250",
   "metadata": {},
   "outputs": [
    {
     "name": "stdout",
     "output_type": "stream",
     "text": [
      "Collecting package metadata (current_repodata.json): ...working... done\n",
      "Solving environment: ...working... done\n",
      "\n",
      "# All requested packages already installed.\n",
      "\n"
     ]
    },
    {
     "name": "stderr",
     "output_type": "stream",
     "text": [
      "\n",
      "\n",
      "==> WARNING: A newer version of conda exists. <==\n",
      "  current version: 4.8.3\n",
      "  latest version: 4.14.0\n",
      "\n",
      "Please update conda by running\n",
      "\n",
      "    $ conda update -n base -c defaults conda\n",
      "\n",
      "\n"
     ]
    }
   ],
   "source": [
    "!conda install python=3.8"
   ]
  },
  {
   "cell_type": "code",
   "execution_count": 5,
   "id": "f49cfd88",
   "metadata": {},
   "outputs": [
    {
     "name": "stdout",
     "output_type": "stream",
     "text": [
      "Collecting package metadata (current_repodata.json): ...working... done\n",
      "Solving environment: ...working... done\n",
      "\n",
      "# All requested packages already installed.\n",
      "\n"
     ]
    },
    {
     "name": "stderr",
     "output_type": "stream",
     "text": [
      "\n",
      "\n",
      "==> WARNING: A newer version of conda exists. <==\n",
      "  current version: 4.8.3\n",
      "  latest version: 4.14.0\n",
      "\n",
      "Please update conda by running\n",
      "\n",
      "    $ conda update -n base -c defaults conda\n",
      "\n",
      "\n"
     ]
    }
   ],
   "source": [
    "!conda install jupyter"
   ]
  },
  {
   "cell_type": "code",
   "execution_count": 6,
   "id": "c0da50f0",
   "metadata": {},
   "outputs": [
    {
     "name": "stdout",
     "output_type": "stream",
     "text": [
      "Collecting package metadata (current_repodata.json): ...working... done\n",
      "Solving environment: ...working... done\n",
      "\n",
      "# All requested packages already installed.\n",
      "\n"
     ]
    },
    {
     "name": "stderr",
     "output_type": "stream",
     "text": [
      "\n",
      "\n",
      "==> WARNING: A newer version of conda exists. <==\n",
      "  current version: 4.8.3\n",
      "  latest version: 4.14.0\n",
      "\n",
      "Please update conda by running\n",
      "\n",
      "    $ conda update -n base -c defaults conda\n",
      "\n",
      "\n"
     ]
    }
   ],
   "source": [
    "!conda install nb_conda"
   ]
  },
  {
   "cell_type": "code",
   "execution_count": 7,
   "id": "41247a4a",
   "metadata": {},
   "outputs": [
    {
     "name": "stdout",
     "output_type": "stream",
     "text": [
      "Collecting package metadata (current_repodata.json): ...working... done\n",
      "Solving environment: ...working... done\n",
      "\n",
      "# All requested packages already installed.\n",
      "\n"
     ]
    },
    {
     "name": "stderr",
     "output_type": "stream",
     "text": [
      "\n",
      "\n",
      "==> WARNING: A newer version of conda exists. <==\n",
      "  current version: 4.8.3\n",
      "  latest version: 4.14.0\n",
      "\n",
      "Please update conda by running\n",
      "\n",
      "    $ conda update -n base -c defaults conda\n",
      "\n",
      "\n"
     ]
    }
   ],
   "source": [
    "!conda install ipykernel"
   ]
  },
  {
   "cell_type": "code",
   "execution_count": 1,
   "id": "c6ef31d3",
   "metadata": {},
   "outputs": [
    {
     "name": "stdout",
     "output_type": "stream",
     "text": [
      "Collecting package metadata (current_repodata.json): ...working... done\n",
      "Solving environment: ...working... done\n",
      "\n",
      "# All requested packages already installed.\n",
      "\n"
     ]
    },
    {
     "name": "stderr",
     "output_type": "stream",
     "text": [
      "\n",
      "\n",
      "==> WARNING: A newer version of conda exists. <==\n",
      "  current version: 4.8.3\n",
      "  latest version: 4.14.0\n",
      "\n",
      "Please update conda by running\n",
      "\n",
      "    $ conda update -n base -c defaults conda\n",
      "\n",
      "\n"
     ]
    }
   ],
   "source": [
    "!conda install pip"
   ]
  },
  {
   "cell_type": "markdown",
   "id": "eb8a8532",
   "metadata": {},
   "source": [
    "Once done, you have to exit this notebook. Deactivate and reactivate the environment and everything else through an anaconda command prompt (all of which should be installed)\n",
    "1. conda activate\n",
    "2. conda activate tsu\n",
    "3. jupyter notebook\n",
    "\n",
    "You have to then come back to this place to reopen the .ipynb file yourself. Now look at the \"Kernel\" tab, you can \"Change kernel\" to the conda environment was created. Do that."
   ]
  },
  {
   "cell_type": "markdown",
   "id": "6d4b9f27",
   "metadata": {},
   "source": [
    "# Skip steps above if you have already created an environment name tsu with all the basic dependencies installed"
   ]
  },
  {
   "cell_type": "markdown",
   "id": "bdf01921",
   "metadata": {},
   "source": [
    "### 2. Installation of required project dependencies to start on project\n",
    "\n",
    "*IMPORTANT: ensure that you are in the tsu virtual environment before proceeding!!*"
   ]
  },
  {
   "cell_type": "code",
   "execution_count": 2,
   "id": "3ceb9e7b",
   "metadata": {},
   "outputs": [
    {
     "name": "stdout",
     "output_type": "stream",
     "text": [
      "\n",
      "     active environment : tsu\n",
      "    active env location : C:\\Users\\L\\anaconda3\\envs\\tsu\n",
      "            shell level : 2\n",
      "       user config file : C:\\Users\\L\\.condarc\n",
      " populated config files : C:\\Users\\L\\.condarc\n",
      "          conda version : 4.8.3\n",
      "    conda-build version : 3.18.11\n",
      "         python version : 3.8.3.final.0\n",
      "       virtual packages : __cuda=11.6\n",
      "       base environment : C:\\Users\\L\\anaconda3  (writable)\n",
      "           channel URLs : https://repo.anaconda.com/pkgs/main/win-64\n",
      "                          https://repo.anaconda.com/pkgs/main/noarch\n",
      "                          https://repo.anaconda.com/pkgs/r/win-64\n",
      "                          https://repo.anaconda.com/pkgs/r/noarch\n",
      "                          https://repo.anaconda.com/pkgs/msys2/win-64\n",
      "                          https://repo.anaconda.com/pkgs/msys2/noarch\n",
      "          package cache : C:\\Users\\L\\anaconda3\\pkgs\n",
      "                          C:\\Users\\L\\.conda\\pkgs\n",
      "                          C:\\Users\\L\\AppData\\Local\\conda\\conda\\pkgs\n",
      "       envs directories : C:\\Users\\L\\anaconda3\\envs\n",
      "                          C:\\Users\\L\\.conda\\envs\n",
      "                          C:\\Users\\L\\AppData\\Local\\conda\\conda\\envs\n",
      "               platform : win-64\n",
      "             user-agent : conda/4.8.3 requests/2.24.0 CPython/3.8.3 Windows/10 Windows/10.0.19041\n",
      "          administrator : False\n",
      "             netrc file : None\n",
      "           offline mode : False\n",
      "\n"
     ]
    }
   ],
   "source": [
    "!conda activate\n",
    "!conda activate tsu\n",
    "!conda info"
   ]
  },
  {
   "cell_type": "code",
   "execution_count": 10,
   "id": "010e0b38",
   "metadata": {},
   "outputs": [
    {
     "name": "stdout",
     "output_type": "stream",
     "text": [
      "Collecting package metadata (repodata.json): ...working... done\n",
      "Solving environment: ...working... done\n",
      "\n",
      "Downloading and Extracting Packages\n",
      "\n",
      "pip-22.2.2           | 1.5 MB    |            |   0% \n",
      "pip-22.2.2           | 1.5 MB    | 1          |   1% \n",
      "pip-22.2.2           | 1.5 MB    | ##9        |  29% \n",
      "pip-22.2.2           | 1.5 MB    | ######1    |  62% \n",
      "pip-22.2.2           | 1.5 MB    | ########## | 100% \n",
      "\n",
      "certifi-2022.9.14    | 156 KB    |            |   0% \n",
      "certifi-2022.9.14    | 156 KB    | ########## | 100% \n",
      "\n",
      "ca-certificates-2022 | 189 KB    |            |   0% \n",
      "ca-certificates-2022 | 189 KB    | ########## | 100% \n",
      "\n",
      "openssl-1.1.1q       | 5.8 MB    |            |   0% \n",
      "openssl-1.1.1q       | 5.8 MB    | 4          |   4% \n",
      "openssl-1.1.1q       | 5.8 MB    | #1         |  11% \n",
      "openssl-1.1.1q       | 5.8 MB    | #3         |  14% \n",
      "openssl-1.1.1q       | 5.8 MB    | ##2        |  22% \n",
      "openssl-1.1.1q       | 5.8 MB    | ###1       |  31% \n",
      "openssl-1.1.1q       | 5.8 MB    | ###9       |  40% \n",
      "openssl-1.1.1q       | 5.8 MB    | ####7      |  47% \n",
      "openssl-1.1.1q       | 5.8 MB    | #####4     |  54% \n",
      "openssl-1.1.1q       | 5.8 MB    | ######2    |  63% \n",
      "openssl-1.1.1q       | 5.8 MB    | #######1   |  71% \n",
      "openssl-1.1.1q       | 5.8 MB    | #######8   |  78% \n",
      "openssl-1.1.1q       | 5.8 MB    | ########4  |  85% \n",
      "openssl-1.1.1q       | 5.8 MB    | #########1 |  92% \n",
      "openssl-1.1.1q       | 5.8 MB    | ########## | 100% \n",
      "\n",
      "python-3.8.12        | 19.2 MB   |            |   0% \n",
      "python-3.8.12        | 19.2 MB   |            |   0% \n",
      "python-3.8.12        | 19.2 MB   | 1          |   1% \n",
      "python-3.8.12        | 19.2 MB   | 3          |   3% \n",
      "python-3.8.12        | 19.2 MB   | 4          |   4% \n",
      "python-3.8.12        | 19.2 MB   | 6          |   6% \n",
      "python-3.8.12        | 19.2 MB   | 8          |   9% \n",
      "python-3.8.12        | 19.2 MB   | #1         |  12% \n",
      "python-3.8.12        | 19.2 MB   | #4         |  15% \n",
      "python-3.8.12        | 19.2 MB   | #6         |  17% \n",
      "python-3.8.12        | 19.2 MB   | #8         |  19% \n",
      "python-3.8.12        | 19.2 MB   | ##2        |  23% \n",
      "python-3.8.12        | 19.2 MB   | ##6        |  26% \n",
      "python-3.8.12        | 19.2 MB   | ###        |  31% \n",
      "python-3.8.12        | 19.2 MB   | ###4       |  35% \n",
      "python-3.8.12        | 19.2 MB   | ###8       |  39% \n",
      "python-3.8.12        | 19.2 MB   | ####3      |  43% \n",
      "python-3.8.12        | 19.2 MB   | ####7      |  47% \n",
      "python-3.8.12        | 19.2 MB   | #####1     |  51% \n",
      "python-3.8.12        | 19.2 MB   | #####5     |  55% \n",
      "python-3.8.12        | 19.2 MB   | #####8     |  59% \n",
      "python-3.8.12        | 19.2 MB   | ######2    |  63% \n",
      "python-3.8.12        | 19.2 MB   | ######6    |  66% \n",
      "python-3.8.12        | 19.2 MB   | #######    |  70% \n",
      "python-3.8.12        | 19.2 MB   | #######3   |  74% \n",
      "python-3.8.12        | 19.2 MB   | #######6   |  77% \n",
      "python-3.8.12        | 19.2 MB   | #######9   |  80% \n",
      "python-3.8.12        | 19.2 MB   | ########2  |  83% \n",
      "python-3.8.12        | 19.2 MB   | ########6  |  86% \n",
      "python-3.8.12        | 19.2 MB   | #########  |  90% \n",
      "python-3.8.12        | 19.2 MB   | #########3 |  94% \n",
      "python-3.8.12        | 19.2 MB   | #########7 |  98% \n",
      "python-3.8.12        | 19.2 MB   | ########## | 100% \n",
      "Preparing transaction: ...working... done\n",
      "Verifying transaction: ...working... done\n",
      "Executing transaction: ...working... done\n",
      "Ran pip subprocess with arguments:\n",
      "['C:\\\\Users\\\\L\\\\anaconda3\\\\envs\\\\tsu\\\\python.exe', '-m', 'pip', 'install', '-U', '-r', 'C:\\\\Users\\\\L\\\\Desktop\\\\WORK\\\\Year-3\\\\3104\\\\Project\\\\JupyterTSU\\\\condaenv.41h99cmk.requirements.txt']\n",
      "Pip subprocess output:\n",
      "Ignoring torch: markers 'sys_platform == \"darwin\"' don't match your environment\n",
      "\n",
      "Ignoring torchvision: markers 'sys_platform == \"darwin\"' don't match your environment\n",
      "\n",
      "Ignoring torchaudio: markers 'sys_platform == \"darwin\"' don't match your environment\n",
      "\n",
      "\n"
     ]
    },
    {
     "name": "stderr",
     "output_type": "stream",
     "text": [
      "\n",
      "\n",
      "==> WARNING: A newer version of conda exists. <==\n",
      "  current version: 4.8.3\n",
      "  latest version: 4.14.0\n",
      "\n",
      "Please update conda by running\n",
      "\n",
      "    $ conda update -n base -c defaults conda\n",
      "\n",
      "\n",
      "Pip subprocess error:\n",
      "ERROR: Could not find a version that satisfies the requirement python==3.8 (from versions: none)\n",
      "\n",
      "ERROR: No matching distribution found for python==3.8\n",
      "\n",
      "\n",
      "\n",
      "CondaEnvException: Pip failed\n",
      "\n"
     ]
    }
   ],
   "source": [
    "!conda env update -n tsu --file environment.yaml"
   ]
  },
  {
   "cell_type": "code",
   "execution_count": 10,
   "id": "e8388ae5",
   "metadata": {},
   "outputs": [
    {
     "name": "stdout",
     "output_type": "stream",
     "text": [
      "Python 3.8.13\n"
     ]
    }
   ],
   "source": [
    "!python -V"
   ]
  },
  {
   "cell_type": "code",
   "execution_count": 4,
   "id": "96425270",
   "metadata": {},
   "outputs": [
    {
     "name": "stdout",
     "output_type": "stream",
     "text": [
      "64\n"
     ]
    }
   ],
   "source": [
    "import struct\n",
    "print(struct.calcsize(\"P\") * 8)"
   ]
  },
  {
   "cell_type": "code",
   "execution_count": null,
   "id": "0d51dbea",
   "metadata": {},
   "outputs": [],
   "source": []
  }
 ],
 "metadata": {
  "kernelspec": {
   "display_name": "Python [conda env:tsu] *",
   "language": "python",
   "name": "conda-env-tsu-py"
  },
  "language_info": {
   "codemirror_mode": {
    "name": "ipython",
    "version": 3
   },
   "file_extension": ".py",
   "mimetype": "text/x-python",
   "name": "python",
   "nbconvert_exporter": "python",
   "pygments_lexer": "ipython3",
   "version": "3.8.13"
  }
 },
 "nbformat": 4,
 "nbformat_minor": 5
}
