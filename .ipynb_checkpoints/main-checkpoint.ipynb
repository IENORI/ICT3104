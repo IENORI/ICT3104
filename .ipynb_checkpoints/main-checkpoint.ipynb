{
 "cells": [
  {
   "cell_type": "markdown",
   "metadata": {},
   "source": [
    "# START YOUR CODE HERE IN THIS NOTEBOOK, SIR/MS. :)"
   ]
  },
  {
   "cell_type": "code",
   "execution_count": 19,
   "metadata": {},
   "outputs": [
    {
     "data": {
      "application/vnd.jupyter.widget-view+json": {
       "model_id": "74ed9b29bc8c497381618b464054254d",
       "version_major": 2,
       "version_minor": 0
      },
      "text/plain": [
       "interactive(children=(Dropdown(description='video', options=('sample_video_1.mp4', 'sample_video_2.mp4'), valu…"
      ]
     },
     "metadata": {},
     "output_type": "display_data"
    }
   ],
   "source": [
    "\"\"\"\n",
    "PROJ-24\n",
    "R2.2 - As a User, I want to choose a video file from the data folder \n",
    "through an appropriate UI component (e.g., dropdown menu) in a \n",
    "notebook code cell so that I can access the video easily.\n",
    "\"\"\"\n",
    "import os\n",
    "from ipywidgets import interact, Dropdown\n",
    "\n",
    "videoList = [] \n",
    "\n",
    "for x in os.listdir(\"./pipline/data/videos/sample_videos\"): \n",
    "    videoList += [x]\n",
    "# print(videoList)\n",
    "\n",
    "videos = Dropdown(options = videoList) \n",
    "\n",
    "# using a list as a means to extract variable defined in python function.\n",
    "selected_video = []\n",
    " \n",
    "@interact(video = videos) \n",
    "def print_city(video): \n",
    "    print(video)\n",
    "    # list shall only contain one element, that is the current selected video.\n",
    "    selected_video.clear()\n",
    "    selected_video.append(str(video))"
   ]
  },
  {
   "cell_type": "code",
   "execution_count": 20,
   "metadata": {},
   "outputs": [
    {
     "name": "stdout",
     "output_type": "stream",
     "text": [
      "sample_video_1.mp4\n"
     ]
    },
    {
     "data": {
      "text/html": [
       "<video src=\"./pipline/data/videos/sample_videos/sample_video_1.mp4\" controls  >\n",
       "      Your browser does not support the <code>video</code> element.\n",
       "    </video>"
      ],
      "text/plain": [
       "<IPython.core.display.Video object>"
      ]
     },
     "execution_count": 20,
     "metadata": {},
     "output_type": "execute_result"
    }
   ],
   "source": [
    "\"\"\"\n",
    "PROJ-27\n",
    "R2.3 - As a User, I want to see video playback of the chosen video file \n",
    "in an output cell, so that I can do data exploration on the TSU project\n",
    "\"\"\"\n",
    "from IPython.display import Video\n",
    "print(selected_video[0])\n",
    "Video(\"./pipline/data/videos/sample_videos/{video_name}\".format(video_name=selected_video[0]))"
   ]
  },
  {
   "cell_type": "code",
   "execution_count": 21,
   "metadata": {},
   "outputs": [
    {
     "name": "stderr",
     "output_type": "stream",
     "text": [
      "Cloning into 'video_features'...\n",
      "Updating files:  30% (54/177)\n",
      "Updating files:  31% (55/177)\n",
      "Updating files:  32% (57/177)\n",
      "Updating files:  33% (59/177)\n",
      "Updating files:  34% (61/177)\n",
      "Updating files:  35% (62/177)\n",
      "Updating files:  36% (64/177)\n",
      "Updating files:  37% (66/177)\n",
      "Updating files:  38% (68/177)\n",
      "Updating files:  39% (70/177)\n",
      "Updating files:  40% (71/177)\n",
      "Updating files:  41% (73/177)\n",
      "Updating files:  42% (75/177)\n",
      "Updating files:  43% (77/177)\n",
      "Updating files:  44% (78/177)\n",
      "Updating files:  45% (80/177)\n",
      "Updating files:  46% (82/177)\n",
      "Updating files:  47% (84/177)\n",
      "Updating files:  48% (85/177)\n",
      "Updating files:  49% (87/177)\n",
      "Updating files:  50% (89/177)\n",
      "Updating files:  51% (91/177)\n",
      "Updating files:  52% (93/177)\n",
      "Updating files:  53% (94/177)\n",
      "Updating files:  54% (96/177)\n",
      "Updating files:  55% (98/177)\n",
      "Updating files:  56% (100/177)\n",
      "Updating files:  57% (101/177)\n",
      "Updating files:  58% (103/177)\n",
      "Updating files:  59% (105/177)\n",
      "Updating files:  60% (107/177)\n",
      "Updating files:  61% (108/177)\n",
      "Updating files:  62% (110/177)\n",
      "Updating files:  63% (112/177)\n",
      "Updating files:  64% (114/177)\n",
      "Updating files:  65% (116/177)\n",
      "Updating files:  66% (117/177)\n",
      "Updating files:  67% (119/177)\n",
      "Updating files:  68% (121/177)\n",
      "Updating files:  69% (123/177)\n",
      "Updating files:  70% (124/177)\n",
      "Updating files:  71% (126/177)\n",
      "Updating files:  72% (128/177)\n",
      "Updating files:  73% (130/177)\n",
      "Updating files:  74% (131/177)\n",
      "Updating files:  75% (133/177)\n",
      "Updating files:  76% (135/177)\n",
      "Updating files:  77% (137/177)\n",
      "Updating files:  78% (139/177)\n",
      "Updating files:  79% (140/177)\n",
      "Updating files:  80% (142/177)\n",
      "Updating files:  81% (144/177)\n",
      "Updating files:  82% (146/177)\n",
      "Updating files:  83% (147/177)\n",
      "Updating files:  84% (149/177)\n",
      "Updating files:  85% (151/177)\n",
      "Updating files:  86% (153/177)\n",
      "Updating files:  87% (154/177)\n",
      "Updating files:  88% (156/177)\n",
      "Updating files:  89% (158/177)\n",
      "Updating files:  90% (160/177)\n",
      "Updating files:  91% (162/177)\n",
      "Updating files:  92% (163/177)\n",
      "Updating files:  93% (165/177)\n",
      "Updating files:  94% (167/177)\n",
      "Updating files:  95% (169/177)\n",
      "Updating files:  96% (170/177)\n",
      "Updating files:  97% (172/177)\n",
      "Updating files:  98% (174/177)\n",
      "Updating files:  99% (176/177)\n",
      "Updating files: 100% (177/177)\n",
      "Updating files: 100% (177/177), done.\n"
     ]
    },
    {
     "name": "stdout",
     "output_type": "stream",
     "text": [
      "Collecting omegaconf==2.0.6\n",
      "  Downloading omegaconf-2.0.6-py3-none-any.whl (36 kB)\n",
      "Collecting PyYAML>=5.1.*\n",
      "  Downloading PyYAML-6.0-cp38-cp38-win_amd64.whl (155 kB)\n",
      "     -------------------------------------- 155.4/155.4 kB 9.7 MB/s eta 0:00:00\n",
      "Requirement already satisfied: typing-extensions in d:\\anaconda3\\envs\\tsu\\lib\\site-packages (from omegaconf==2.0.6) (4.3.0)\n",
      "Installing collected packages: PyYAML, omegaconf\n",
      "Successfully installed PyYAML-6.0 omegaconf-2.0.6\n"
     ]
    }
   ],
   "source": [
    "! git clone https://github.com/v-iashin/video_features.git\n",
    "! pip install omegaconf==2.0.6"
   ]
  },
  {
   "cell_type": "code",
   "execution_count": 22,
   "metadata": {},
   "outputs": [
    {
     "name": "stdout",
     "output_type": "stream",
     "text": [
      "C:\\Users\\xinxin\\Desktop\\ICT3104\\video_features\n"
     ]
    }
   ],
   "source": [
    "%cd video_features"
   ]
  },
  {
   "cell_type": "code",
   "execution_count": 27,
   "metadata": {},
   "outputs": [
    {
     "ename": "RuntimeError",
     "evalue": "Detected that PyTorch and torchvision were compiled with different CUDA versions. PyTorch has CUDA Version=11.1 and torchvision has CUDA Version=11.3. Please reinstall the torchvision that matches your PyTorch install.",
     "output_type": "error",
     "traceback": [
      "\u001b[1;31m---------------------------------------------------------------------------\u001b[0m",
      "\u001b[1;31mRuntimeError\u001b[0m                              Traceback (most recent call last)",
      "Input \u001b[1;32mIn [27]\u001b[0m, in \u001b[0;36m<cell line: 1>\u001b[1;34m()\u001b[0m\n\u001b[1;32m----> 1\u001b[0m \u001b[38;5;28;01mfrom\u001b[39;00m \u001b[38;5;21;01mmodels\u001b[39;00m\u001b[38;5;21;01m.\u001b[39;00m\u001b[38;5;21;01mi3d\u001b[39;00m\u001b[38;5;21;01m.\u001b[39;00m\u001b[38;5;21;01mextract_i3d\u001b[39;00m \u001b[38;5;28;01mimport\u001b[39;00m ExtractI3D\n\u001b[0;32m      2\u001b[0m \u001b[38;5;28;01mfrom\u001b[39;00m \u001b[38;5;21;01mutils\u001b[39;00m\u001b[38;5;21;01m.\u001b[39;00m\u001b[38;5;21;01mutils\u001b[39;00m \u001b[38;5;28;01mimport\u001b[39;00m build_cfg_path\n\u001b[0;32m      3\u001b[0m \u001b[38;5;28;01mfrom\u001b[39;00m \u001b[38;5;21;01momegaconf\u001b[39;00m \u001b[38;5;28;01mimport\u001b[39;00m OmegaConf\n",
      "File \u001b[1;32m~\\Desktop\\ICT3104\\video_features\\models\\i3d\\extract_i3d.py:7\u001b[0m, in \u001b[0;36m<module>\u001b[1;34m\u001b[0m\n\u001b[0;32m      5\u001b[0m \u001b[38;5;28;01mimport\u001b[39;00m \u001b[38;5;21;01mnumpy\u001b[39;00m \u001b[38;5;28;01mas\u001b[39;00m \u001b[38;5;21;01mnp\u001b[39;00m\n\u001b[0;32m      6\u001b[0m \u001b[38;5;28;01mimport\u001b[39;00m \u001b[38;5;21;01mtorch\u001b[39;00m\n\u001b[1;32m----> 7\u001b[0m \u001b[38;5;28;01mimport\u001b[39;00m \u001b[38;5;21;01mtorchvision\u001b[39;00m\n\u001b[0;32m      8\u001b[0m \u001b[38;5;28;01mfrom\u001b[39;00m \u001b[38;5;21;01mmodels\u001b[39;00m\u001b[38;5;21;01m.\u001b[39;00m\u001b[38;5;21;01m_base\u001b[39;00m\u001b[38;5;21;01m.\u001b[39;00m\u001b[38;5;21;01mbase_extractor\u001b[39;00m \u001b[38;5;28;01mimport\u001b[39;00m BaseExtractor\n\u001b[0;32m      9\u001b[0m \u001b[38;5;28;01mfrom\u001b[39;00m \u001b[38;5;21;01mmodels\u001b[39;00m\u001b[38;5;21;01m.\u001b[39;00m\u001b[38;5;21;01mi3d\u001b[39;00m\u001b[38;5;21;01m.\u001b[39;00m\u001b[38;5;21;01mi3d_src\u001b[39;00m\u001b[38;5;21;01m.\u001b[39;00m\u001b[38;5;21;01mi3d_net\u001b[39;00m \u001b[38;5;28;01mimport\u001b[39;00m I3D\n",
      "File \u001b[1;32mD:\\anaconda3\\envs\\tsu\\lib\\site-packages\\torchvision\\__init__.py:4\u001b[0m, in \u001b[0;36m<module>\u001b[1;34m\u001b[0m\n\u001b[0;32m      1\u001b[0m \u001b[38;5;28;01mimport\u001b[39;00m \u001b[38;5;21;01mwarnings\u001b[39;00m\n\u001b[0;32m      2\u001b[0m \u001b[38;5;28;01mimport\u001b[39;00m \u001b[38;5;21;01mos\u001b[39;00m\n\u001b[1;32m----> 4\u001b[0m \u001b[38;5;28;01mfrom\u001b[39;00m \u001b[38;5;21;01m.\u001b[39;00m\u001b[38;5;21;01mextension\u001b[39;00m \u001b[38;5;28;01mimport\u001b[39;00m _HAS_OPS\n\u001b[0;32m      6\u001b[0m \u001b[38;5;28;01mfrom\u001b[39;00m \u001b[38;5;21;01mtorchvision\u001b[39;00m \u001b[38;5;28;01mimport\u001b[39;00m models\n\u001b[0;32m      7\u001b[0m \u001b[38;5;28;01mfrom\u001b[39;00m \u001b[38;5;21;01mtorchvision\u001b[39;00m \u001b[38;5;28;01mimport\u001b[39;00m datasets\n",
      "File \u001b[1;32mD:\\anaconda3\\envs\\tsu\\lib\\site-packages\\torchvision\\extension.py:88\u001b[0m, in \u001b[0;36m<module>\u001b[1;34m\u001b[0m\n\u001b[0;32m     83\u001b[0m             warn(\u001b[38;5;124m\"\u001b[39m\u001b[38;5;124mLoadLibraryExW is missing in kernel32.dll\u001b[39m\u001b[38;5;124m\"\u001b[39m)\n\u001b[0;32m     85\u001b[0m     torch\u001b[38;5;241m.\u001b[39mops\u001b[38;5;241m.\u001b[39mload_library(lib_path)\n\u001b[1;32m---> 88\u001b[0m \u001b[43m_check_cuda_version\u001b[49m\u001b[43m(\u001b[49m\u001b[43m)\u001b[49m\n",
      "File \u001b[1;32mD:\\anaconda3\\envs\\tsu\\lib\\site-packages\\torchvision\\extension.py:63\u001b[0m, in \u001b[0;36m_check_cuda_version\u001b[1;34m()\u001b[0m\n\u001b[0;32m     61\u001b[0m     t_minor \u001b[38;5;241m=\u001b[39m \u001b[38;5;28mint\u001b[39m(t_version[\u001b[38;5;241m1\u001b[39m])\n\u001b[0;32m     62\u001b[0m     \u001b[38;5;28;01mif\u001b[39;00m t_major \u001b[38;5;241m!=\u001b[39m tv_major \u001b[38;5;129;01mor\u001b[39;00m t_minor \u001b[38;5;241m!=\u001b[39m tv_minor:\n\u001b[1;32m---> 63\u001b[0m         \u001b[38;5;28;01mraise\u001b[39;00m \u001b[38;5;167;01mRuntimeError\u001b[39;00m(\u001b[38;5;124m\"\u001b[39m\u001b[38;5;124mDetected that PyTorch and torchvision were compiled with different CUDA versions. \u001b[39m\u001b[38;5;124m\"\u001b[39m\n\u001b[0;32m     64\u001b[0m                            \u001b[38;5;124m\"\u001b[39m\u001b[38;5;124mPyTorch has CUDA Version=\u001b[39m\u001b[38;5;132;01m{}\u001b[39;00m\u001b[38;5;124m.\u001b[39m\u001b[38;5;132;01m{}\u001b[39;00m\u001b[38;5;124m and torchvision has CUDA Version=\u001b[39m\u001b[38;5;132;01m{}\u001b[39;00m\u001b[38;5;124m.\u001b[39m\u001b[38;5;132;01m{}\u001b[39;00m\u001b[38;5;124m. \u001b[39m\u001b[38;5;124m\"\u001b[39m\n\u001b[0;32m     65\u001b[0m                            \u001b[38;5;124m\"\u001b[39m\u001b[38;5;124mPlease reinstall the torchvision that matches your PyTorch install.\u001b[39m\u001b[38;5;124m\"\u001b[39m\n\u001b[0;32m     66\u001b[0m                            \u001b[38;5;241m.\u001b[39mformat(t_major, t_minor, tv_major, tv_minor))\n\u001b[0;32m     67\u001b[0m \u001b[38;5;28;01mreturn\u001b[39;00m _version\n",
      "\u001b[1;31mRuntimeError\u001b[0m: Detected that PyTorch and torchvision were compiled with different CUDA versions. PyTorch has CUDA Version=11.1 and torchvision has CUDA Version=11.3. Please reinstall the torchvision that matches your PyTorch install."
     ]
    }
   ],
   "source": [
    "from models.i3d.extract_i3d import ExtractI3D\n",
    "from utils.utils import build_cfg_path\n",
    "from omegaconf import OmegaConf\n",
    "import torch\n",
    "\n",
    "# Select the feature type\n",
    "feature_type = 'i3d'\n",
    "\n",
    "# Load and patch the config\n",
    "args = OmegaConf.load(build_cfg_path(feature_type))\n",
    "args.video_paths = [r'C:\\Users\\xinxin\\Desktop\\ICT3104\\pipline\\data\\videos\\sample_videos\\sample_video_1.mp4']\n",
    "# args.show_pred = True\n",
    "# args.stack_size = 24\n",
    "# args.step_size = 24\n",
    "# args.extraction_fps = 25\n",
    "args.flow_type = 'raft' # 'pwc' is not supported on Google Colab (cupy version mismatch)\n",
    "# args.streams = 'flow'\n",
    "\n",
    "# Load the model\n",
    "extractor = ExtractI3D(args)\n",
    "\n",
    "# Extract features\n",
    "for video_path in args.video_paths:\n",
    "    print(f'Extracting for {video_path}')\n",
    "    feature_dict = extractor.extract(video_path)\n",
    "    [(print(k), print(v.shape), print(v)) for k, v in feature_dict.items()]"
   ]
  },
  {
   "cell_type": "code",
   "execution_count": 26,
   "metadata": {},
   "outputs": [
    {
     "name": "stdout",
     "output_type": "stream",
     "text": [
      "Collecting opencv-python\n",
      "  Downloading opencv_python-4.6.0.66-cp36-abi3-win_amd64.whl (35.6 MB)\n",
      "     --------------------------------------- 35.6/35.6 MB 14.9 MB/s eta 0:00:00\n",
      "Requirement already satisfied: numpy>=1.17.3 in d:\\anaconda3\\envs\\tsu\\lib\\site-packages (from opencv-python) (1.23.3)\n",
      "Installing collected packages: opencv-python\n",
      "Successfully installed opencv-python-4.6.0.66\n"
     ]
    }
   ],
   "source": [
    "!pip install opencv-python"
   ]
  },
  {
   "cell_type": "code",
   "execution_count": null,
   "metadata": {},
   "outputs": [],
   "source": []
  }
 ],
 "metadata": {
  "kernelspec": {
   "display_name": "Python [conda env:tsu] *",
   "language": "python",
   "name": "conda-env-tsu-py"
  },
  "language_info": {
   "codemirror_mode": {
    "name": "ipython",
    "version": 3
   },
   "file_extension": ".py",
   "mimetype": "text/x-python",
   "name": "python",
   "nbconvert_exporter": "python",
   "pygments_lexer": "ipython3",
   "version": "3.8.13"
  },
  "vscode": {
   "interpreter": {
    "hash": "321af250c620fb6c6155261d39dc4e9c6a79ef19f3cfa75aa55204a9de3512be"
   }
  }
 },
 "nbformat": 4,
 "nbformat_minor": 2
}
