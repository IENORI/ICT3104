{
 "cells": [
  {
   "cell_type": "markdown",
   "id": "3b4f1eb9",
   "metadata": {},
   "source": [
    "Depending on if you're on Windows or Mac OS, you have to do the next step differently to install the dependencies in your computer.\n",
    "\n",
    "Win users replace with:\n",
    "**%%cmd**\n",
    "\n",
    "Mac users replace with:\n",
    "**%%bash**\n",
    "\n",
    "for all terminal related commands"
   ]
  },
  {
   "cell_type": "markdown",
   "id": "9cab070a",
   "metadata": {},
   "source": [
    "This notebook will help you install some basic dependencies before you are able to properly use the notebook\n",
    "We will be installing:\n",
    "- conda\n",
    "- jupyter notebook\n",
    "- ipykernel\n",
    "- nb_conda\n",
    "  \n",
    "to facilite the virtual environment usage in Jupyter Notebook."
   ]
  },
  {
   "cell_type": "code",
   "execution_count": 6,
   "id": "89e995ab",
   "metadata": {
    "scrolled": false,
    "vscode": {
     "languageId": "plaintext"
    }
   },
   "outputs": [
    {
     "name": "stdout",
     "output_type": "stream",
     "text": [
      "Requirement already satisfied: conda in c:\\users\\l\\anaconda3\\lib\\site-packages (4.8.3)\n",
      "Requirement already satisfied: pycosat>=0.6.3 in c:\\users\\l\\anaconda3\\lib\\site-packages (from conda) (0.6.3)\n",
      "Requirement already satisfied: requests>=2.12.4 in c:\\users\\l\\anaconda3\\lib\\site-packages (from conda) (2.24.0)\n",
      "Requirement already satisfied: ruamel_yaml>=0.11.14 in c:\\users\\l\\anaconda3\\lib\\site-packages (from conda) (0.15.87)\n",
      "Requirement already satisfied: menuinst in c:\\users\\l\\anaconda3\\lib\\site-packages (from conda) (1.4.16)\n",
      "Requirement already satisfied: chardet<4,>=3.0.2 in c:\\users\\l\\anaconda3\\lib\\site-packages (from requests>=2.12.4->conda) (3.0.4)\n",
      "Requirement already satisfied: idna<3,>=2.5 in c:\\users\\l\\anaconda3\\lib\\site-packages (from requests>=2.12.4->conda) (2.10)\n",
      "Requirement already satisfied: certifi>=2017.4.17 in c:\\users\\l\\anaconda3\\lib\\site-packages (from requests>=2.12.4->conda) (2020.6.20)\n",
      "Requirement already satisfied: urllib3!=1.25.0,!=1.25.1,<1.26,>=1.21.1 in c:\\users\\l\\anaconda3\\lib\\site-packages (from requests>=2.12.4->conda) (1.25.9)\n",
      "conda 4.8.3\n"
     ]
    }
   ],
   "source": [
    "!pip install conda\n",
    "!conda --version"
   ]
  },
  {
   "cell_type": "code",
   "execution_count": 1,
   "id": "52a509fe",
   "metadata": {},
   "outputs": [
    {
     "name": "stdout",
     "output_type": "stream",
     "text": [
      "\n",
      "     active environment : tsu\n",
      "    active env location : C:\\Users\\L\\anaconda3\\envs\\tsu\n",
      "            shell level : 2\n",
      "       user config file : C:\\Users\\L\\.condarc\n",
      " populated config files : C:\\Users\\L\\.condarc\n",
      "          conda version : 4.8.3\n",
      "    conda-build version : 3.18.11\n",
      "         python version : 3.8.3.final.0\n",
      "       virtual packages : __cuda=11.6\n",
      "       base environment : C:\\Users\\L\\anaconda3  (writable)\n",
      "           channel URLs : https://repo.anaconda.com/pkgs/main/win-64\n",
      "                          https://repo.anaconda.com/pkgs/main/noarch\n",
      "                          https://repo.anaconda.com/pkgs/r/win-64\n",
      "                          https://repo.anaconda.com/pkgs/r/noarch\n",
      "                          https://repo.anaconda.com/pkgs/msys2/win-64\n",
      "                          https://repo.anaconda.com/pkgs/msys2/noarch\n",
      "          package cache : C:\\Users\\L\\anaconda3\\pkgs\n",
      "                          C:\\Users\\L\\.conda\\pkgs\n",
      "                          C:\\Users\\L\\AppData\\Local\\conda\\conda\\pkgs\n",
      "       envs directories : C:\\Users\\L\\anaconda3\\envs\n",
      "                          C:\\Users\\L\\.conda\\envs\n",
      "                          C:\\Users\\L\\AppData\\Local\\conda\\conda\\envs\n",
      "               platform : win-64\n",
      "             user-agent : conda/4.8.3 requests/2.24.0 CPython/3.8.3 Windows/10 Windows/10.0.19041\n",
      "          administrator : False\n",
      "             netrc file : None\n",
      "           offline mode : False\n",
      "\n"
     ]
    }
   ],
   "source": [
    "!conda activate\n",
    "!conda info"
   ]
  },
  {
   "cell_type": "markdown",
   "id": "4ab6d636",
   "metadata": {},
   "source": [
    "# Skip steps below if you have already created an environment name tsu with all the dependencies installed"
   ]
  },
  {
   "cell_type": "code",
   "execution_count": 3,
   "id": "9745ff0b",
   "metadata": {},
   "outputs": [
    {
     "name": "stdout",
     "output_type": "stream",
     "text": [
      "\n",
      "     active environment : tsu\n",
      "    active env location : C:\\Users\\L\\anaconda3\\envs\\tsu\n",
      "            shell level : 2\n",
      "       user config file : C:\\Users\\L\\.condarc\n",
      " populated config files : C:\\Users\\L\\.condarc\n",
      "          conda version : 4.8.3\n",
      "    conda-build version : 3.18.11\n",
      "         python version : 3.8.3.final.0\n",
      "       virtual packages : __cuda=11.6\n",
      "       base environment : C:\\Users\\L\\anaconda3  (writable)\n",
      "           channel URLs : https://repo.anaconda.com/pkgs/main/win-64\n",
      "                          https://repo.anaconda.com/pkgs/main/noarch\n",
      "                          https://repo.anaconda.com/pkgs/r/win-64\n",
      "                          https://repo.anaconda.com/pkgs/r/noarch\n",
      "                          https://repo.anaconda.com/pkgs/msys2/win-64\n",
      "                          https://repo.anaconda.com/pkgs/msys2/noarch\n",
      "          package cache : C:\\Users\\L\\anaconda3\\pkgs\n",
      "                          C:\\Users\\L\\.conda\\pkgs\n",
      "                          C:\\Users\\L\\AppData\\Local\\conda\\conda\\pkgs\n",
      "       envs directories : C:\\Users\\L\\anaconda3\\envs\n",
      "                          C:\\Users\\L\\.conda\\envs\n",
      "                          C:\\Users\\L\\AppData\\Local\\conda\\conda\\envs\n",
      "               platform : win-64\n",
      "             user-agent : conda/4.8.3 requests/2.24.0 CPython/3.8.3 Windows/10 Windows/10.0.19041\n",
      "          administrator : False\n",
      "             netrc file : None\n",
      "           offline mode : False\n",
      "\n"
     ]
    }
   ],
   "source": [
    "!conda create --name tsu"
   ]
  },
  {
   "cell_type": "code",
   "execution_count": 4,
   "id": "e9e7a54e",
   "metadata": {},
   "outputs": [],
   "source": [
    "!conda activate tsu\n",
    "!conda info"
   ]
  },
  {
   "cell_type": "code",
   "execution_count": 5,
   "id": "4034266e",
   "metadata": {},
   "outputs": [
    {
     "name": "stdout",
     "output_type": "stream",
     "text": [
      "Collecting package metadata (current_repodata.json): ...working... done\n",
      "Solving environment: ...working... done\n",
      "\n",
      "# All requested packages already installed.\n",
      "\n"
     ]
    },
    {
     "name": "stderr",
     "output_type": "stream",
     "text": [
      "\n",
      "\n",
      "==> WARNING: A newer version of conda exists. <==\n",
      "  current version: 4.8.3\n",
      "  latest version: 4.14.0\n",
      "\n",
      "Please update conda by running\n",
      "\n",
      "    $ conda update -n base -c defaults conda\n",
      "\n",
      "\n"
     ]
    }
   ],
   "source": [
    "!conda install jupyter"
   ]
  },
  {
   "cell_type": "code",
   "execution_count": 6,
   "id": "e5abc577",
   "metadata": {},
   "outputs": [
    {
     "name": "stdout",
     "output_type": "stream",
     "text": [
      "Collecting package metadata (current_repodata.json): ...working... done\n",
      "Solving environment: ...working... done\n",
      "\n",
      "# All requested packages already installed.\n",
      "\n"
     ]
    },
    {
     "name": "stderr",
     "output_type": "stream",
     "text": [
      "\n",
      "\n",
      "==> WARNING: A newer version of conda exists. <==\n",
      "  current version: 4.8.3\n",
      "  latest version: 4.14.0\n",
      "\n",
      "Please update conda by running\n",
      "\n",
      "    $ conda update -n base -c defaults conda\n",
      "\n",
      "\n"
     ]
    }
   ],
   "source": [
    "!conda install nb_conda"
   ]
  },
  {
   "cell_type": "code",
   "execution_count": 7,
   "id": "c1908399",
   "metadata": {},
   "outputs": [
    {
     "name": "stdout",
     "output_type": "stream",
     "text": [
      "Collecting package metadata (current_repodata.json): ...working... done\n",
      "Solving environment: ...working... done\n",
      "\n",
      "# All requested packages already installed.\n",
      "\n"
     ]
    },
    {
     "name": "stderr",
     "output_type": "stream",
     "text": [
      "\n",
      "\n",
      "==> WARNING: A newer version of conda exists. <==\n",
      "  current version: 4.8.3\n",
      "  latest version: 4.14.0\n",
      "\n",
      "Please update conda by running\n",
      "\n",
      "    $ conda update -n base -c defaults conda\n",
      "\n",
      "\n"
     ]
    }
   ],
   "source": [
    "!conda install ipykernel"
   ]
  },
  {
   "cell_type": "markdown",
   "id": "2dfb2629",
   "metadata": {},
   "source": [
    "Once done, you have to deactivate and reactivate the environment:\n",
    "1. conda deactivate\n",
    "2. conda activate tsu\n",
    "3. jupyter notebook\n",
    "\n",
    "You have to then come back to this place to reopen the .ipynb file yourself. Now look at the \"Kernel\" tab, you can \"Change kernel\" to the conda environment was created. Do that."
   ]
  }
 ],
 "metadata": {
  "kernelspec": {
   "display_name": "Python [conda env:tsu] *",
   "language": "python",
   "name": "conda-env-tsu-py"
  },
  "language_info": {
   "codemirror_mode": {
    "name": "ipython",
    "version": 3
   },
   "file_extension": ".py",
   "mimetype": "text/x-python",
   "name": "python",
   "nbconvert_exporter": "python",
   "pygments_lexer": "ipython3",
   "version": "3.8.13"
  }
 },
 "nbformat": 4,
 "nbformat_minor": 5
}
