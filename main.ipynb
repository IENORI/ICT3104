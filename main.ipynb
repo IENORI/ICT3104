{
 "cells": [
  {
   "cell_type": "markdown",
   "metadata": {},
   "source": [
    "# START YOUR CODE HERE IN THIS NOTEBOOK, SIR/MS. :)"
   ]
  },
  {
   "cell_type": "code",
   "execution_count": null,
   "metadata": {},
   "outputs": [],
   "source": [
    "import os\n",
    "\n",
    "modelList = [] \n",
    "\n",
    "for x in os.listdir(\"../model\"): \n",
    "    modelList += [x]\n",
    "print(modelList)"
   ]
  },
  {
   "cell_type": "code",
   "execution_count": null,
   "metadata": {},
   "outputs": [],
   "source": [
    "from ipywidgets import interact, Dropdown \n",
    " \n",
    "models = Dropdown(options = modelList) \n",
    " \n",
    "@interact(model = models) \n",
    "def print_city(model): \n",
    "    print(model)"
   ]
  }
 ],
 "metadata": {
  "kernelspec": {
   "display_name": "Python 3 (ipykernel)",
   "language": "python",
   "name": "python3"
  },
  "language_info": {
   "codemirror_mode": {
    "name": "ipython",
    "version": 3
   },
   "file_extension": ".py",
   "mimetype": "text/x-python",
   "name": "python",
   "nbconvert_exporter": "python",
   "pygments_lexer": "ipython3",
   "version": "3.8.13"
  },
  "vscode": {
   "interpreter": {
    "hash": "321af250c620fb6c6155261d39dc4e9c6a79ef19f3cfa75aa55204a9de3512be"
   }
  }
 },
 "nbformat": 4,
 "nbformat_minor": 2
}
