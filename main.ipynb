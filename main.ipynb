{
 "cells": [
  {
   "cell_type": "markdown",
   "metadata": {},
   "source": [
    "# START YOUR CODE HERE IN THIS NOTEBOOK, SIR/MS. :)"
   ]
  },
  {
   "cell_type": "code",
   "execution_count": 17,
   "metadata": {},
   "outputs": [
    {
     "data": {
      "application/vnd.jupyter.widget-view+json": {
       "model_id": "967bd42cf26f4f07867b946cdc30a129",
       "version_major": 2,
       "version_minor": 0
      },
      "text/plain": [
       "interactive(children=(Dropdown(description='video', options=('sample_video_1.mp4', 'sample_video_2.mp4'), valu…"
      ]
     },
     "metadata": {},
     "output_type": "display_data"
    }
   ],
   "source": [
    "\"\"\"\n",
    "PROJ-24\n",
    "R2.2 - As a User, I want to choose a video file from the data folder \n",
    "through an appropriate UI component (e.g., dropdown menu) in a \n",
    "notebook code cell so that I can access the video easily.\n",
    "\"\"\"\n",
    "import os\n",
    "from ipywidgets import interact, Dropdown\n",
    "\n",
    "videoList = [] \n",
    "\n",
    "for x in os.listdir(\"./pipline/data/videos/sample_videos\"): \n",
    "    videoList += [x]\n",
    "# print(videoList)\n",
    "\n",
    "videos = Dropdown(options = videoList) \n",
    "\n",
    "# using a list as a means to extract variable defined in python function.\n",
    "selected_video = []\n",
    " \n",
    "@interact(video = videos) \n",
    "def print_city(video): \n",
    "    print(video)\n",
    "    # list shall only contain one element, that is the current selected video.\n",
    "    selected_video.clear()\n",
    "    selected_video.append(str(video))"
   ]
  },
  {
   "cell_type": "code",
   "execution_count": 18,
   "metadata": {},
   "outputs": [
    {
     "name": "stdout",
     "output_type": "stream",
     "text": [
      "sample_video_1.mp4\n"
     ]
    },
    {
     "data": {
      "text/html": [
       "<video src=\"./pipline/data/videos/sample_videos/sample_video_1.mp4\" controls  >\n",
       "      Your browser does not support the <code>video</code> element.\n",
       "    </video>"
      ],
      "text/plain": [
       "<IPython.core.display.Video object>"
      ]
     },
     "execution_count": 18,
     "metadata": {},
     "output_type": "execute_result"
    }
   ],
   "source": []
  }
 ],
 "metadata": {
  "kernelspec": {
   "display_name": "Python 3 (ipykernel)",
   "language": "python",
   "name": "python3"
  },
  "language_info": {
   "codemirror_mode": {
    "name": "ipython",
    "version": 3
   },
   "file_extension": ".py",
   "mimetype": "text/x-python",
   "name": "python",
   "nbconvert_exporter": "python",
   "pygments_lexer": "ipython3",
   "version": "3.8.13"
  },
  "vscode": {
   "interpreter": {
    "hash": "321af250c620fb6c6155261d39dc4e9c6a79ef19f3cfa75aa55204a9de3512be"
   }
  }
 },
 "nbformat": 4,
 "nbformat_minor": 2
}
