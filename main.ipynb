{
  "cells": [
    {
      "cell_type": "markdown",
      "metadata": {
        "id": "KOMrR61w_bGv"
      },
      "source": [
        "# Imports and Setup\n",
        "To begin, run the cell(s) below to install the necessary setup and imports."
      ]
    },
    {
      "cell_type": "code",
      "execution_count": null,
      "metadata": {
        "id": "0PwOWiNzhegn"
      },
      "outputs": [],
      "source": [
        "!sudo apt install python3.8"
      ]
    },
    {
      "cell_type": "code",
      "execution_count": null,
      "metadata": {
        "id": "vW2RFkGuh46M"
      },
      "outputs": [],
      "source": [
        "!python3.8 --version"
      ]
    },
    {
      "cell_type": "code",
      "execution_count": null,
      "metadata": {
        "id": "pxWGK0bqjGxk"
      },
      "outputs": [],
      "source": [
        "%%bash\n",
        "MINICONDA_INSTALLER_SCRIPT=Miniconda3-4.5.4-Linux-x86_64.sh\n",
        "MINICONDA_PREFIX=/usr/local\n",
        "wget https://repo.continuum.io/miniconda/$MINICONDA_INSTALLER_SCRIPT\n",
        "chmod +x $MINICONDA_INSTALLER_SCRIPT\n",
        "./$MINICONDA_INSTALLER_SCRIPT -b -f -p $MINICONDA_PREFIX"
      ]
    },
    {
      "cell_type": "code",
      "execution_count": null,
      "metadata": {
        "id": "I4ARS8SjjXR_"
      },
      "outputs": [],
      "source": [
        "%%bash\n",
        "conda install --channel defaults conda python=3.8 --yes\n",
        "conda update --channel defaults --all --yes"
      ]
    },
    {
      "cell_type": "code",
      "execution_count": null,
      "metadata": {
        "id": "ws4PuRicjk5i"
      },
      "outputs": [],
      "source": [
        "!conda update -n base -c defaults conda --yes"
      ]
    },
    {
      "cell_type": "code",
      "execution_count": 6,
      "metadata": {
        "id": "GVvtCvxljuDm"
      },
      "outputs": [],
      "source": [
        "import sys\n",
        "_ = (sys.path\n",
        "        .append(\"/usr/local/lib/python3.8/site-packages\"))"
      ]
    },
    {
      "cell_type": "code",
      "execution_count": null,
      "metadata": {
        "id": "d0dmViG4jw7N"
      },
      "outputs": [],
      "source": [
        "import sys\n",
        "sys.path"
      ]
    },
    {
      "cell_type": "code",
      "execution_count": null,
      "metadata": {
        "id": "VGSl_B0HkRny"
      },
      "outputs": [],
      "source": [
        "!conda init zsh"
      ]
    },
    {
      "cell_type": "code",
      "execution_count": null,
      "metadata": {
        "id": "z9jZgmDGkVLt"
      },
      "outputs": [],
      "source": [
        "!conda create --name env python=3.8 --yes"
      ]
    },
    {
      "cell_type": "code",
      "execution_count": 10,
      "metadata": {
        "id": "vf_l0kymkykQ"
      },
      "outputs": [],
      "source": [
        "!source /usr/local/bin/activate env"
      ]
    },
    {
      "cell_type": "code",
      "execution_count": null,
      "metadata": {
        "id": "NmEYB0j7kndK"
      },
      "outputs": [],
      "source": [
        "%%bash\n",
        "pip install torch==1.10.1+cu111 torchvision==0.11.2+cu111 torchaudio==0.10.1 -f https://download.pytorch.org/whl/torch_stable.html\n",
        "pip install timm==0.4.12\n",
        "pip install pickle5\n",
        "pip install scikit-learn\n",
        "pip install numpy"
      ]
    },
    {
      "cell_type": "code",
      "execution_count": null,
      "metadata": {
        "id": "Z4LR7I3bmA8O"
      },
      "outputs": [],
      "source": [
        "from google.colab import drive\n",
        "drive.mount('/content/drive')"
      ]
    },
    {
      "cell_type": "code",
      "execution_count": null,
      "metadata": {
        "id": "JYSHgwNiGhRa"
      },
      "outputs": [],
      "source": [
        "!pwd"
      ]
    },
    {
      "cell_type": "code",
      "execution_count": null,
      "metadata": {
        "id": "GtgMpEusHd3h"
      },
      "outputs": [],
      "source": [
        "%cd /content/drive/MyDrive/Toyota_Smarthome-main/pipline/"
      ]
    },
    {
      "cell_type": "code",
      "execution_count": null,
      "metadata": {
        "id": "fcFnBIuWp6Qp"
      },
      "outputs": [],
      "source": [
        "!python3.8 /content/drive/MyDrive/Toyota_Smarthome-main/pipline/train.py --help"
      ]
    },
    {
      "cell_type": "code",
      "execution_count": null,
      "metadata": {
        "id": "vphwH6-UmOxK"
      },
      "outputs": [],
      "source": [
        "!python3.8 /content/drive/MyDrive/Toyota_Smarthome-main/pipline/train.py \\\n",
        "-dataset TSU \\\n",
        "-mode rgb \\\n",
        "-split_setting CS \\\n",
        "-model PDAN \\\n",
        "-num_channel 512 \\\n",
        "-lr 0.0002 \\\n",
        "-kernelsize 3 \\\n",
        "-APtype map \\\n",
        "-epoch 15 \\\n",
        "-batch_size 1 \\\n",
        "-comp_info TSU_CS_RGB_PDAN \\\n",
        "-load_model /content/drive/MyDrive/Toyota_Smarthome-main/model/PDAN_TSU_RGB \\\n",
        "-rgb_model_file P02T01C06"
      ]
    },
    {
      "cell_type": "code",
      "execution_count": null,
      "metadata": {
        "id": "dgiMiBoIV5qH"
      },
      "outputs": [],
      "source": [
        "!pip install ipywidgets"
      ]
    },
    {
      "cell_type": "markdown",
      "metadata": {
        "id": "T1zq4T-5uvwT"
      },
      "source": [
        "## Initializing Constants"
      ]
    },
    {
      "cell_type": "code",
      "execution_count": null,
      "metadata": {
        "id": "QGT1zqXUgk2H"
      },
      "outputs": [],
      "source": [
        "# INITIALIZING PATH VARIABLES (CHANGE HERE IF DIFFERENT DIRECTORY)\n",
        "\n",
        "PATH_TO_MODEL_FOLDER = \"/content/drive/MyDrive/Toyota_Smarthome-main/model/\"\n",
        "PATH_TO_VIDEO_FOLDER = \"/content/drive/MyDrive/Toyota_Smarthome-main/video/\"\n",
        "PATH_TO_FEATURE_FOLDER = \"/content/drive/MyDrive/Toyota_Smarthome-main/feature_file/\""
      ]
    },
    {
      "cell_type": "markdown",
      "metadata": {
        "id": "WTACA4lscDEZ"
      },
      "source": [
        "# R2\n",
        "\n",
        "Data Exploration Section:\n",
        "- Check out the different input videos (with UI)\n",
        "- See playback of video"
      ]
    },
    {
      "cell_type": "code",
      "execution_count": null,
      "metadata": {
        "id": "Gb6DxBP2WeiB"
      },
      "outputs": [],
      "source": [
        "import os\n",
        "import ipywidgets as widgets\n",
        "\n",
        "videoList = os.listdir(PATH_TO_VIDEO_FOLDER)\n",
        "\n",
        "video = widgets.Dropdown(\n",
        "    options = videoList,\n",
        "    description='Video:',\n",
        "    disabled=False,\n",
        ")\n",
        "video"
      ]
    },
    {
      "cell_type": "code",
      "execution_count": null,
      "metadata": {
        "id": "R1GDNZr0baRd"
      },
      "outputs": [],
      "source": [
        "from IPython.display import Video\n",
        "\n",
        "VIDEO_SELECTED = PATH_TO_VIDEO_FOLDER + video.value\n",
        "Video(VIDEO_SELECTED)"
      ]
    },
    {
      "cell_type": "markdown",
      "metadata": {
        "id": "XDcXbPzjDmol"
      },
      "source": [
        "# R3\n",
        "Inference Section:\n",
        "- Load a pretrained model (with UI)\n",
        "- Choose input video (with UI)\n",
        "- See inference result in the form out output video with captions that indicte the current detected activity in each video frame"
      ]
    },
    {
      "cell_type": "code",
      "execution_count": null,
      "metadata": {
        "id": "HaitC-8gNOyn"
      },
      "outputs": [],
      "source": [
        "import os\n",
        "import ipywidgets as widgets\n",
        "\n",
        "modelList = os.listdir(PATH_TO_MODEL_FOLDER)\n",
        "\n",
        "model = widgets.Dropdown(\n",
        "    options = modelList,\n",
        "    description='Model:',\n",
        "    disabled=False,\n",
        ")\n",
        "\n",
        "box = widgets.Box(children = [model, video])\n",
        "box"
      ]
    },
    {
      "cell_type": "code",
      "execution_count": null,
      "metadata": {
        "id": "o_OH7IVnf8_j"
      },
      "outputs": [],
      "source": [
        "#finalized chosen model and video directory\n",
        "\n",
        "SELECTED_MODEL = PATH_TO_MODEL_FOLDER + model.value\n",
        "SELECTED_VIDEO = PATH_TO_VIDEO_FOLDER + video.value\n",
        "print(SELECTED_MODEL)\n",
        "print(SELECTED_VIDEO)"
      ]
    },
    {
      "cell_type": "markdown",
      "metadata": {
        "id": "n3Os38TsBEJJ"
      },
      "source": [
        "# FEATURE EXTRACTION\n",
        "\n",
        "TSU I3D Feature Extraction from video"
      ]
    },
    {
      "cell_type": "code",
      "execution_count": null,
      "metadata": {
        "id": "PkcPdmhwvHB4"
      },
      "outputs": [],
      "source": [
        "%cd /content/drive/MyDrive/Toyota_Smarthome-main/feature_extract/\n",
        "\n",
        "! git clone https://github.com/v-iashin/video_features.git\n",
        "! pip install omegaconf==2.0.6 av==8.0.2"
      ]
    },
    {
      "cell_type": "code",
      "execution_count": null,
      "metadata": {
        "id": "PzakLfzZvc-Q"
      },
      "outputs": [],
      "source": [
        "!pwd"
      ]
    },
    {
      "cell_type": "code",
      "execution_count": null,
      "metadata": {
        "id": "x3BArtfuxoq5"
      },
      "outputs": [],
      "source": [
        "%cd /content/drive/MyDrive/Toyota_Smarthome-main/feature_extract/video_features"
      ]
    },
    {
      "cell_type": "code",
      "execution_count": null,
      "metadata": {
        "id": "zFACVHvXxsvp"
      },
      "outputs": [],
      "source": [
        "from models.i3d.extract_i3d import ExtractI3D\n",
        "from utils.utils import build_cfg_path\n",
        "from omegaconf import OmegaConf\n",
        "import torch\n",
        "\n",
        "device = 'cuda' if torch.cuda.is_available() else 'cpu'\n",
        "torch.cuda.get_device_name(0)"
      ]
    },
    {
      "cell_type": "markdown",
      "metadata": {
        "id": "vQ83bnIhyg_n"
      },
      "source": [
        "# TODO: RE-ADJUST THE DIRECTORY TO BE TO FEATURE_FILE"
      ]
    },
    {
      "cell_type": "markdown",
      "metadata": {
        "id": "rlGqDOZwymjw"
      },
      "source": [
        "# TODO: RE-ADJUST TRAIN_CUSTOM.PY"
      ]
    },
    {
      "cell_type": "code",
      "execution_count": null,
      "metadata": {
        "id": "IsdOnUibx1ZL"
      },
      "outputs": [],
      "source": [
        "# Select the feature type\n",
        "feature_type = 'i3d'\n",
        "\n",
        "# Load and patch the config\n",
        "args = OmegaConf.load(build_cfg_path(feature_type))\n",
        "args.video_paths = ['/content/drive/MyDrive/Toyota_Smarthome-main/pipline/data/videos/sample_videos/sample_video_1.mp4']\n",
        "# args.show_pred = True\n",
        "# args.stack_size = 24\n",
        "# args.step_size = 24\n",
        "# args.extraction_fps = 25\n",
        "args.flow_type = 'raft' # 'pwc' is not supported on Google Colab (cupy version mismatch)\n",
        "# args.streams = 'flow'\n",
        "\n",
        "# Load the model\n",
        "extractor = ExtractI3D(args)\n",
        "\n",
        "# Extract features\n",
        "for video_path in args.video_paths:\n",
        "    # extract name of video from video path (and remove '.mp4' suffix)\n",
        "    video_name = (video_path.split('/')[-1]).split('.')[0]\n",
        "    print(video_name)\n",
        "    print(f'Extracting for {video_path}')\n",
        "    feature_dict = extractor.extract(video_path)\n",
        "    print(feature_dict.items())\n",
        "    for k, v in feature_dict.items():\n",
        "      print(k)\n",
        "      print(v.shape)\n",
        "      print(v)\n",
        "      if k == \"rgb\":\n",
        "        np.save(f'/content/drive/MyDrive/Toyota_Smarthome-main/pipline/data/extracted_features/rgb/{video_name}_rgb', v)\n",
        "      elif k == \"flow\":\n",
        "        np.save(f'/content/drive/MyDrive/Toyota_Smarthome-main/pipline/data/extracted_features/flow/{video_name}_flow', v)\n",
        "      elif k == \"fps\":\n",
        "        np.save(f'/content/drive/MyDrive/Toyota_Smarthome-main/pipline/data/extracted_features/fps/{video_name}_fps', v)\n",
        "      elif k == \"timestamps_ms\":\n",
        "        np.save(f'/content/drive/MyDrive/Toyota_Smarthome-main/pipline/data/extracted_features/timestamps_ms/{video_name}_timestamps_ms', v)\n",
        "      else:\n",
        "        raise NotImplementedError(\"Error: Unexpected item in feature_dict!\")"
      ]
    },
    {
      "cell_type": "code",
      "execution_count": null,
      "metadata": {
        "id": "q9HiiNnmx2vV"
      },
      "outputs": [],
      "source": [
        "import numpy as np\n",
        "data = np.load('/content/drive/MyDrive/Toyota_Smarthome-main/pipline/data/extracted_features/rgb/sample_video_1_rgb.npy')\n",
        "print(data)"
      ]
    },
    {
      "cell_type": "markdown",
      "metadata": {
        "id": "TRTtFjBzmb0a"
      },
      "source": [
        "# R4 \n",
        "\n",
        "- Choose a dataset subfolder to use for training (with UI)\n",
        "- Initialize a model with a network architecture configured in a separate .py file"
      ]
    },
    {
      "cell_type": "code",
      "execution_count": null,
      "metadata": {
        "id": "ba4LKCdDBJdp"
      },
      "outputs": [],
      "source": [
        "import os\n",
        "import ipywidgets as widgets\n",
        "\n",
        "featureFolder = os.listdir(PATH_TO_FEATURE_FOLDER)\n",
        "\n",
        "feature = widgets.Dropdown(\n",
        "    options = featureFolder,\n",
        "    description='Feature:',\n",
        "    disabled=False,\n",
        ")\n",
        "feature"
      ]
    },
    {
      "cell_type": "markdown",
      "source": [
        "# R4.3\n",
        "\n",
        "- As a User, I want to have UI elements that adds a name to the model from R4.2, so that I can specify the name for this new model"
      ],
      "metadata": {
        "id": "9m444DEXSxWX"
      }
    },
    {
      "cell_type": "code",
      "execution_count": null,
      "metadata": {
        "id": "FWwIjLZnZHDt"
      },
      "outputs": [],
      "source": [
        "import os\n",
        "import ipywidgets as widgets\n",
        "\n",
        "input_text = widgets.Text(\n",
        "    value='',\n",
        "    placeholder='Enter Model name',\n",
        "    description='Model name:',\n",
        "    disabled=False\n",
        ")\n",
        "\n",
        "input_text"
      ]
    },
    {
      "cell_type": "code",
      "execution_count": null,
      "metadata": {
        "id": "QuWx7FeVDY08"
      },
      "outputs": [],
      "source": [
        "print(input_text.value)\n",
        "%cd /content/drive/MyDrive/Toyota_Smarthome-main/model/\n",
        "!pwd\n",
        "!ls\n",
        "# !mv $input_text.value PDAN_TSU_RGB \n",
        "# !mv PDAN_TSU_RGB $input_text.value \n",
        "# !mv PDAN_TSU_RGB.value PDAN_TSU_RGB\n",
        "# !mv PDAN_TSU_RGB.value PDAN_TSU_RGB\n",
        "!ls"
      ]
    },
    {
      "cell_type": "markdown",
      "source": [
        "# R4.4 \n",
        "- As a User, I want to set the batch_size and epochs with appropriate UI elements, so that I can configure the model prior to running a training sequence.\n",
        "\n"
      ],
      "metadata": {
        "id": "tpzDIVu7Ub_n"
      }
    },
    {
      "cell_type": "code",
      "execution_count": null,
      "metadata": {
        "id": "UPDLuVDGnFRk"
      },
      "outputs": [],
      "source": [
        "import os\n",
        "import ipywidgets as widgets\n",
        "\n",
        "batch_size = widgets.BoundedIntText(\n",
        "    value=1,\n",
        "    min=1,\n",
        "    max=1000,\n",
        "    step=1,\n",
        "    description='batch_size:',\n",
        "    disabled=False\n",
        ")\n",
        "epoch = widgets.BoundedIntText(\n",
        "    value=1,\n",
        "    min=1,\n",
        "    max=2000,\n",
        "    step=1,\n",
        "    description='epoch:',\n",
        "    disabled=False\n",
        ")\n",
        "modelbox = widgets.Box(children = [batch_size, epoch])\n",
        "modelbox"
      ]
    },
    {
      "cell_type": "code",
      "execution_count": null,
      "metadata": {
        "id": "2Yx0CzkKobru"
      },
      "outputs": [],
      "source": [
        "print(batch_size.value)\n",
        "print(epoch.value)"
      ]
    },
    {
      "cell_type": "code",
      "execution_count": null,
      "metadata": {
        "id": "zIuakfxLonE5"
      },
      "outputs": [],
      "source": [
        "!python3.8 /content/drive/MyDrive/Toyota_Smarthome-main/pipline/train.py \\\n",
        "-dataset TSU \\\n",
        "-mode rgb \\\n",
        "-split_setting CS \\\n",
        "-model PDAN \\\n",
        "-num_channel 512 \\\n",
        "-lr 0.0002 \\\n",
        "-kernelsize 3 \\\n",
        "-APtype map \\\n",
        "-epoch $epoch.value \\\n",
        "-batch_size $batch_size.value \\\n",
        "-comp_info TSU_CS_RGB_PDAN \\\n",
        "-load_model /content/drive/MyDrive/Toyota_Smarthome-main/model/PDAN_TSU_RGB \\\n",
        "-rgb_model_file P02T01C06"
      ]
    }
  ],
  "metadata": {
    "accelerator": "GPU",
    "colab": {
      "collapsed_sections": [],
      "provenance": []
    },
    "kernelspec": {
      "display_name": "Python 3",
      "name": "python3"
    },
    "language_info": {
      "name": "python"
    }
  },
  "nbformat": 4,
  "nbformat_minor": 0
}