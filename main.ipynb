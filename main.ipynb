{
 "cells": [
  {
   "cell_type": "markdown",
   "metadata": {},
   "source": [
    "# START YOUR CODE HERE IN THIS NOTEBOOK, SIR/MS. :)"
   ]
  },
  {
   "cell_type": "code",
<<<<<<< HEAD
   "execution_count": 1,
=======
   "execution_count": 123,
>>>>>>> 9cabf61d49ae1b2154ae999e0ca29c29b9cda72e
   "metadata": {},
   "outputs": [
    {
     "name": "stdout",
     "output_type": "stream",
     "text": [
      "['archive', 'PDAN_TSU_RGB.zip']\n"
     ]
    }
   ],
   "source": [
    "import os\n",
    "\n",
    "modelList = [] \n",
    "\n",
    "for x in os.listdir(\"model\"): \n",
    "    modelList += [x]\n",
    "    \n",
    "print(modelList)"
   ]
  },
  {
   "cell_type": "code",
<<<<<<< HEAD
   "execution_count": 2,
=======
   "execution_count": 124,
>>>>>>> 9cabf61d49ae1b2154ae999e0ca29c29b9cda72e
   "metadata": {},
   "outputs": [],
   "source": [
    "import zipfile, torch\n",
    "import ipywidgets as widgets\n",
    "from ipywidgets import interact, Dropdown \n",
    "from IPython.display import display\n",
    "\n",
    "models = widgets.Dropdown(options = modelList)\n",
    "load_button = widgets.Button(description=\"Load\")\n",
    "output = widgets.Output()\n",
    "selected_model = \"\""
   ]
  },
  {
   "cell_type": "code",
<<<<<<< HEAD
   "execution_count": 3,
=======
   "execution_count": 125,
>>>>>>> 9cabf61d49ae1b2154ae999e0ca29c29b9cda72e
   "metadata": {},
   "outputs": [],
   "source": [
    "def onClickLoadModel(b):\n",
    "    selected_model = models.value\n",
    "    if (selected_model.split('.')[-1] == \"zip\"):\n",
    "        with zipfile.ZipFile(\"model/\"+selected_model,\"r\") as zip_file:\n",
    "            zip_file.extractall(\"model/\")\n",
    "    for x in os.listdir(\"model/archive\"):\n",
    "        if (x == \"data.pkl\"):\n",
    "            pretrained_model = torch.load(\"data.pkl\")"
   ]
  },
  {
   "cell_type": "code",
<<<<<<< HEAD
   "execution_count": 4,
=======
   "execution_count": 126,
>>>>>>> 9cabf61d49ae1b2154ae999e0ca29c29b9cda72e
   "metadata": {},
   "outputs": [],
   "source": [
    "load_button.on_click(onClickLoadModel)"
   ]
  },
  {
   "cell_type": "code",
<<<<<<< HEAD
   "execution_count": 5,
=======
   "execution_count": 127,
>>>>>>> 9cabf61d49ae1b2154ae999e0ca29c29b9cda72e
   "metadata": {},
   "outputs": [
    {
     "data": {
      "application/vnd.jupyter.widget-view+json": {
<<<<<<< HEAD
       "model_id": "13ba802e65f64ce1ab53cfb010d3cb57",
=======
       "model_id": "80bec778310b499e918fb0da1985ae08",
>>>>>>> 9cabf61d49ae1b2154ae999e0ca29c29b9cda72e
       "version_major": 2,
       "version_minor": 0
      },
      "text/plain": [
       "HBox(children=(Dropdown(options=('archive', 'PDAN_TSU_RGB.zip'), value='archive'), Button(description='Load', …"
      ]
     },
     "metadata": {},
     "output_type": "display_data"
<<<<<<< HEAD
    },
    {
     "ename": "ModuleNotFoundError",
     "evalue": "No module named 'models'",
     "output_type": "error",
     "traceback": [
      "\u001b[1;31m---------------------------------------------------------------------------\u001b[0m",
      "\u001b[1;31mModuleNotFoundError\u001b[0m                       Traceback (most recent call last)",
      "Input \u001b[1;32mIn [3]\u001b[0m, in \u001b[0;36monClickLoadModel\u001b[1;34m(b)\u001b[0m\n\u001b[0;32m      4\u001b[0m     \u001b[38;5;28;01mwith\u001b[39;00m zipfile\u001b[38;5;241m.\u001b[39mZipFile(\u001b[38;5;124m\"\u001b[39m\u001b[38;5;124mmodel/\u001b[39m\u001b[38;5;124m\"\u001b[39m\u001b[38;5;241m+\u001b[39mselected_model,\u001b[38;5;124m\"\u001b[39m\u001b[38;5;124mr\u001b[39m\u001b[38;5;124m\"\u001b[39m) \u001b[38;5;28;01mas\u001b[39;00m zip_file:\n\u001b[0;32m      5\u001b[0m         zip_file\u001b[38;5;241m.\u001b[39mextractall(\u001b[38;5;124m\"\u001b[39m\u001b[38;5;124mmodel/\u001b[39m\u001b[38;5;124m\"\u001b[39m)\n\u001b[1;32m----> 6\u001b[0m pretrained_model \u001b[38;5;241m=\u001b[39m \u001b[43mtorch\u001b[49m\u001b[38;5;241;43m.\u001b[39;49m\u001b[43mload\u001b[49m\u001b[43m(\u001b[49m\u001b[38;5;124;43m\"\u001b[39;49m\u001b[38;5;124;43mmodel/archive/data.pkl\u001b[39;49m\u001b[38;5;124;43m\"\u001b[39;49m\u001b[43m)\u001b[49m\n",
      "File \u001b[1;32m~\\anaconda3\\envs\\tsu\\lib\\site-packages\\torch\\serialization.py:608\u001b[0m, in \u001b[0;36mload\u001b[1;34m(f, map_location, pickle_module, **pickle_load_args)\u001b[0m\n\u001b[0;32m    606\u001b[0m             \u001b[38;5;28;01mreturn\u001b[39;00m torch\u001b[38;5;241m.\u001b[39mjit\u001b[38;5;241m.\u001b[39mload(opened_file)\n\u001b[0;32m    607\u001b[0m         \u001b[38;5;28;01mreturn\u001b[39;00m _load(opened_zipfile, map_location, pickle_module, \u001b[38;5;241m*\u001b[39m\u001b[38;5;241m*\u001b[39mpickle_load_args)\n\u001b[1;32m--> 608\u001b[0m \u001b[38;5;28;01mreturn\u001b[39;00m \u001b[43m_legacy_load\u001b[49m\u001b[43m(\u001b[49m\u001b[43mopened_file\u001b[49m\u001b[43m,\u001b[49m\u001b[43m \u001b[49m\u001b[43mmap_location\u001b[49m\u001b[43m,\u001b[49m\u001b[43m \u001b[49m\u001b[43mpickle_module\u001b[49m\u001b[43m,\u001b[49m\u001b[43m \u001b[49m\u001b[38;5;241;43m*\u001b[39;49m\u001b[38;5;241;43m*\u001b[39;49m\u001b[43mpickle_load_args\u001b[49m\u001b[43m)\u001b[49m\n",
      "File \u001b[1;32m~\\anaconda3\\envs\\tsu\\lib\\site-packages\\torch\\serialization.py:777\u001b[0m, in \u001b[0;36m_legacy_load\u001b[1;34m(f, map_location, pickle_module, **pickle_load_args)\u001b[0m\n\u001b[0;32m    771\u001b[0m \u001b[38;5;28;01mif\u001b[39;00m \u001b[38;5;129;01mnot\u001b[39;00m \u001b[38;5;28mhasattr\u001b[39m(f, \u001b[38;5;124m'\u001b[39m\u001b[38;5;124mreadinto\u001b[39m\u001b[38;5;124m'\u001b[39m) \u001b[38;5;129;01mand\u001b[39;00m (\u001b[38;5;241m3\u001b[39m, \u001b[38;5;241m8\u001b[39m, \u001b[38;5;241m0\u001b[39m) \u001b[38;5;241m<\u001b[39m\u001b[38;5;241m=\u001b[39m sys\u001b[38;5;241m.\u001b[39mversion_info \u001b[38;5;241m<\u001b[39m (\u001b[38;5;241m3\u001b[39m, \u001b[38;5;241m8\u001b[39m, \u001b[38;5;241m2\u001b[39m):\n\u001b[0;32m    772\u001b[0m     \u001b[38;5;28;01mraise\u001b[39;00m \u001b[38;5;167;01mRuntimeError\u001b[39;00m(\n\u001b[0;32m    773\u001b[0m         \u001b[38;5;124m\"\u001b[39m\u001b[38;5;124mtorch.load does not work with file-like objects that do not implement readinto on Python 3.8.0 and 3.8.1. \u001b[39m\u001b[38;5;124m\"\u001b[39m\n\u001b[0;32m    774\u001b[0m         \u001b[38;5;124mf\u001b[39m\u001b[38;5;124m\"\u001b[39m\u001b[38;5;124mReceived object of type \u001b[39m\u001b[38;5;130;01m\\\"\u001b[39;00m\u001b[38;5;132;01m{\u001b[39;00m\u001b[38;5;28mtype\u001b[39m(f)\u001b[38;5;132;01m}\u001b[39;00m\u001b[38;5;130;01m\\\"\u001b[39;00m\u001b[38;5;124m. Please update to Python 3.8.2 or newer to restore this \u001b[39m\u001b[38;5;124m\"\u001b[39m\n\u001b[0;32m    775\u001b[0m         \u001b[38;5;124m\"\u001b[39m\u001b[38;5;124mfunctionality.\u001b[39m\u001b[38;5;124m\"\u001b[39m)\n\u001b[1;32m--> 777\u001b[0m magic_number \u001b[38;5;241m=\u001b[39m \u001b[43mpickle_module\u001b[49m\u001b[38;5;241;43m.\u001b[39;49m\u001b[43mload\u001b[49m\u001b[43m(\u001b[49m\u001b[43mf\u001b[49m\u001b[43m,\u001b[49m\u001b[43m \u001b[49m\u001b[38;5;241;43m*\u001b[39;49m\u001b[38;5;241;43m*\u001b[39;49m\u001b[43mpickle_load_args\u001b[49m\u001b[43m)\u001b[49m\n\u001b[0;32m    778\u001b[0m \u001b[38;5;28;01mif\u001b[39;00m magic_number \u001b[38;5;241m!=\u001b[39m MAGIC_NUMBER:\n\u001b[0;32m    779\u001b[0m     \u001b[38;5;28;01mraise\u001b[39;00m \u001b[38;5;167;01mRuntimeError\u001b[39;00m(\u001b[38;5;124m\"\u001b[39m\u001b[38;5;124mInvalid magic number; corrupt file?\u001b[39m\u001b[38;5;124m\"\u001b[39m)\n",
      "\u001b[1;31mModuleNotFoundError\u001b[0m: No module named 'models'"
     ]
=======
>>>>>>> 9cabf61d49ae1b2154ae999e0ca29c29b9cda72e
    }
   ],
   "source": [
    "widgets.HBox([models,load_button])"
   ]
  },
  {
   "cell_type": "code",
<<<<<<< HEAD
   "execution_count": 15,
   "metadata": {},
   "outputs": [
    {
     "name": "stdout",
     "output_type": "stream",
     "text": [
      "Python 3.8.13\n"
     ]
    }
   ],
   "source": [
    "!python --version"
   ]
  },
  {
   "cell_type": "code",
   "execution_count": 12,
   "metadata": {},
   "outputs": [
    {
     "name": "stdout",
     "output_type": "stream",
     "text": [
      "# packages in environment at C:\\Users\\L\\anaconda3\\envs\\tsu:\n",
      "#\n",
      "# Name                    Version                   Build  Channel\n",
      "anyio                     3.5.0            py38haa95532_0  \n",
      "argon2-cffi               21.3.0             pyhd3eb1b0_0  \n",
      "argon2-cffi-bindings      21.2.0           py38h2bbff1b_0  \n",
      "asttokens                 2.0.5              pyhd3eb1b0_0  \n",
      "attrs                     21.4.0             pyhd3eb1b0_0  \n",
      "babel                     2.9.1              pyhd3eb1b0_0  \n",
      "backcall                  0.2.0              pyhd3eb1b0_0  \n",
      "beautifulsoup4            4.11.1           py38haa95532_0  \n",
      "bleach                    4.1.0              pyhd3eb1b0_0  \n",
      "brotlipy                  0.7.0           py38h2bbff1b_1003  \n",
      "ca-certificates           2022.9.14            h5b45459_0    conda-forge\n",
      "certifi                   2022.9.14          pyhd8ed1ab_0    conda-forge\n",
      "cffi                      1.15.1           py38h2bbff1b_0  \n",
      "charset-normalizer        2.0.4              pyhd3eb1b0_0  \n",
      "colorama                  0.4.5            py38haa95532_0  \n",
      "cryptography              37.0.1           py38h21b164f_0  \n",
      "debugpy                   1.5.1            py38hd77b12b_0  \n",
      "decorator                 5.1.1              pyhd3eb1b0_0  \n",
      "defusedxml                0.7.1              pyhd3eb1b0_0  \n",
      "entrypoints               0.4              py38haa95532_0  \n",
      "executing                 0.8.3              pyhd3eb1b0_0  \n",
      "glib                      2.69.1               h5dc1a3c_1  \n",
      "gst-plugins-base          1.18.5               h9e645db_0  \n",
      "gstreamer                 1.18.5               hd78058f_0  \n",
      "icu                       58.2                 ha925a31_3  \n",
      "idna                      3.3                pyhd3eb1b0_0  \n",
      "importlib_resources       5.2.0              pyhd3eb1b0_1  \n",
      "ipykernel                 6.15.2           py38haa95532_0  \n",
      "ipython                   8.4.0            py38haa95532_0  \n",
      "ipython_genutils          0.2.0              pyhd3eb1b0_1  \n",
      "ipywidgets                7.6.5              pyhd3eb1b0_1  \n",
      "jedi                      0.18.1           py38haa95532_1  \n",
      "jinja2                    3.0.3              pyhd3eb1b0_0  \n",
      "joblib                    1.2.0                    pypi_0    pypi\n",
      "jpeg                      9e                   h2bbff1b_0  \n",
      "json5                     0.9.6              pyhd3eb1b0_0  \n",
      "jsonschema                4.4.0            py38haa95532_0  \n",
      "jupyter                   1.0.0            py38haa95532_8  \n",
      "jupyter_client            7.3.5            py38haa95532_0  \n",
      "jupyter_console           6.4.3              pyhd3eb1b0_0  \n",
      "jupyter_core              4.10.0           py38haa95532_0  \n",
      "jupyter_server            1.18.1           py38haa95532_0  \n",
      "jupyterlab                3.4.4            py38haa95532_0  \n",
      "jupyterlab_pygments       0.1.2                      py_0  \n",
      "jupyterlab_server         2.12.0           py38haa95532_0  \n",
      "jupyterlab_widgets        1.0.0              pyhd3eb1b0_1  \n",
      "libclang                  12.0.0          default_h627e005_2  \n",
      "libffi                    3.4.2                hd77b12b_4  \n",
      "libiconv                  1.16                 h2bbff1b_2  \n",
      "libogg                    1.3.5                h2bbff1b_1  \n",
      "libpng                    1.6.37               h2a8f88b_0  \n",
      "libsodium                 1.0.18               h62dcd97_0  \n",
      "libvorbis                 1.3.7                he774522_0  \n",
      "libwebp                   1.2.2                h2bbff1b_0  \n",
      "libxml2                   2.9.14               h0ad7f3c_0  \n",
      "libxslt                   1.1.35               h2bbff1b_0  \n",
      "lz4-c                     1.9.3                h2bbff1b_1  \n",
      "markupsafe                2.1.1            py38h2bbff1b_0  \n",
      "matplotlib-inline         0.1.6            py38haa95532_0  \n",
      "mistune                   0.8.4           py38he774522_1000  \n",
      "nb_conda                  2.2.1                    py38_1  \n",
      "nb_conda_kernels          2.3.1            py38haa95532_0  \n",
      "nbclassic                 0.3.5              pyhd3eb1b0_0  \n",
      "nbclient                  0.5.13           py38haa95532_0  \n",
      "nbconvert                 6.4.4            py38haa95532_0  \n",
      "nbformat                  5.3.0            py38haa95532_0  \n",
      "nest-asyncio              1.5.5            py38haa95532_0  \n",
      "notebook                  6.4.12           py38haa95532_0  \n",
      "numpy                     1.23.3                   pypi_0    pypi\n",
      "openssl                   1.1.1q               h8ffe710_0    conda-forge\n",
      "packaging                 21.3               pyhd3eb1b0_0  \n",
      "pandocfilters             1.5.0              pyhd3eb1b0_0  \n",
      "parso                     0.8.3              pyhd3eb1b0_0  \n",
      "pcre                      8.45                 hd77b12b_0  \n",
      "pickleshare               0.7.5           pyhd3eb1b0_1003  \n",
      "pillow                    9.2.0                    pypi_0    pypi\n",
      "pip                       22.2.2             pyhd8ed1ab_0    conda-forge\n",
      "ply                       3.11                     py38_0  \n",
      "prometheus_client         0.14.1           py38haa95532_0  \n",
      "prompt-toolkit            3.0.20             pyhd3eb1b0_0  \n",
      "prompt_toolkit            3.0.20               hd3eb1b0_0  \n",
      "psutil                    5.9.0            py38h2bbff1b_0  \n",
      "pure_eval                 0.2.2              pyhd3eb1b0_0  \n",
      "pycparser                 2.21               pyhd3eb1b0_0  \n",
      "pygments                  2.11.2             pyhd3eb1b0_0  \n",
      "pyopenssl                 22.0.0             pyhd3eb1b0_0  \n",
      "pyparsing                 3.0.9            py38haa95532_0  \n",
      "pyqt                      5.15.7           py38hd77b12b_0  \n",
      "pyqt5-sip                 12.11.0          py38hd77b12b_0  \n",
      "pyrsistent                0.18.0           py38h196d8e1_0  \n",
      "pysocks                   1.7.1            py38haa95532_0  \n",
      "python                    3.8.13               h6244533_0  \n",
      "python-dateutil           2.8.2              pyhd3eb1b0_0  \n",
      "python-fastjsonschema     2.16.2           py38haa95532_0  \n",
      "pytz                      2022.1           py38haa95532_0  \n",
      "pywin32                   302              py38h2bbff1b_2  \n",
      "pywinpty                  2.0.2            py38h5da7b33_0  \n",
      "pyzmq                     23.2.0           py38hd77b12b_0  \n",
      "qt-main                   5.15.2               he8e5bd7_7  \n",
      "qt-webengine              5.15.9               hb9a9bb5_4  \n",
      "qtconsole                 5.3.2            py38haa95532_0  \n",
      "qtpy                      2.2.0            py38haa95532_0  \n",
      "qtwebkit                  5.212                h3ad3cdb_4  \n",
      "requests                  2.28.1           py38haa95532_0  \n",
      "scikit-learn              1.1.2                    pypi_0    pypi\n",
      "scipy                     1.9.1                    pypi_0    pypi\n",
      "send2trash                1.8.0              pyhd3eb1b0_1  \n",
      "setuptools                65.3.0                   pypi_0    pypi\n",
      "sip                       6.6.2            py38hd77b12b_0  \n",
      "six                       1.16.0             pyhd3eb1b0_1  \n",
      "sniffio                   1.2.0            py38haa95532_1  \n",
      "soupsieve                 2.3.1              pyhd3eb1b0_0  \n",
      "sqlite                    3.39.2               h2bbff1b_0  \n",
      "stack_data                0.2.0              pyhd3eb1b0_0  \n",
      "terminado                 0.13.1           py38haa95532_0  \n",
      "testpath                  0.6.0            py38haa95532_0  \n",
      "threadpoolctl             3.1.0                    pypi_0    pypi\n",
      "timm                      0.4.12                   pypi_0    pypi\n",
      "toml                      0.10.2             pyhd3eb1b0_0  \n",
      "torch                     1.10.1+cu111             pypi_0    pypi\n",
      "torchaudio                0.10.1+cu113             pypi_0    pypi\n",
      "torchvision               0.11.2+cu113             pypi_0    pypi\n",
      "tornado                   6.2              py38h2bbff1b_0  \n",
      "tqdm                      4.64.1                   pypi_0    pypi\n",
      "traitlets                 5.1.1              pyhd3eb1b0_0  \n",
      "typing-extensions         4.3.0            py38haa95532_0  \n",
      "typing_extensions         4.3.0            py38haa95532_0  \n",
      "urllib3                   1.26.11          py38haa95532_0  \n",
      "vc                        14.2                 h21ff451_1  \n",
      "vs2015_runtime            14.27.29016          h5e58377_2  \n",
      "wcwidth                   0.2.5              pyhd3eb1b0_0  \n",
      "webencodings              0.5.1                    py38_1  \n",
      "websocket-client          0.58.0           py38haa95532_4  \n",
      "wheel                     0.37.1             pyhd3eb1b0_0  \n",
      "widgetsnbextension        3.5.2            py38haa95532_0  \n",
      "win_inet_pton             1.1.0            py38haa95532_0  \n",
      "wincertstore              0.2              py38haa95532_2  \n",
      "winpty                    0.4.3                         4  \n",
      "zeromq                    4.3.4                hd77b12b_0  \n",
      "zipp                      3.8.0            py38haa95532_0  \n",
      "zlib                      1.2.12               h8cc25b3_3  \n",
      "zstd                      1.5.2                h19a0ad4_0  \n"
     ]
    }
   ],
   "source": [
    "!conda list"
   ]
  },
  {
   "cell_type": "code",
   "execution_count": 22,
   "metadata": {},
   "outputs": [
    {
     "name": "stderr",
     "output_type": "stream",
     "text": [
      "Traceback (most recent call last):\n",
      "  File \"./pipline/train.py\", line 6, in <module>\n",
      "    import torch\n",
      "  File \"C:\\Users\\L\\anaconda3\\envs\\tsu\\lib\\site-packages\\torch\\__init__.py\", line 124, in <module>\n",
      "    raise err\n",
      "OSError: [WinError 1455] The paging file is too small for this operation to complete. Error loading \"C:\\Users\\L\\anaconda3\\envs\\tsu\\lib\\site-packages\\torch\\lib\\caffe2_detectron_ops_gpu.dll\" or one of its dependencies.\n"
     ]
    }
   ],
   "source": [
    "!python ./pipline/train.py -dataset TSU -split_setting CS -mode rgb -model PDAN -train True -num_channel 512 -lr 0.0002 -kernelsize 3 -APtype map -epoch 140 -batch_size 2 -comp_info TSU_CS_RGB_PDAN -load_model ./pipline/PDAN_RGB_TSU"
   ]
  },
  {
   "cell_type": "code",
   "execution_count": 18,
   "metadata": {},
   "outputs": [
    {
     "name": "stdout",
     "output_type": "stream",
     "text": [
      "C:\\Users\\L\\Desktop\\WORK\\Year-3\\3104\\Project\\JupyterTSU\n"
     ]
    }
   ],
   "source": [
    "import os\n",
    "\n",
    "dir = os.getcwd()\n",
    "print(dir)"
   ]
  },
  {
   "cell_type": "code",
=======
>>>>>>> 9cabf61d49ae1b2154ae999e0ca29c29b9cda72e
   "execution_count": null,
   "metadata": {},
   "outputs": [],
   "source": []
  }
 ],
 "metadata": {
  "kernelspec": {
   "display_name": "Python [conda env:tsu] *",
   "language": "python",
   "name": "conda-env-tsu-py"
  },
  "language_info": {
   "codemirror_mode": {
    "name": "ipython",
    "version": 3
   },
   "file_extension": ".py",
   "mimetype": "text/x-python",
   "name": "python",
   "nbconvert_exporter": "python",
   "pygments_lexer": "ipython3",
   "version": "3.8.13"
  },
  "vscode": {
   "interpreter": {
    "hash": "321af250c620fb6c6155261d39dc4e9c6a79ef19f3cfa75aa55204a9de3512be"
   }
  }
 },
 "nbformat": 4,
 "nbformat_minor": 2
}
