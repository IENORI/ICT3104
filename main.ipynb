{
 "cells": [
  {
   "cell_type": "markdown",
   "metadata": {},
   "source": [
    "# START YOUR CODE HERE IN THIS NOTEBOOK, SIR/MS. :)"
   ]
  },
  {
   "cell_type": "code",
   "execution_count": 1,
   "metadata": {},
   "outputs": [
    {
     "data": {
      "application/vnd.jupyter.widget-view+json": {
       "model_id": "064bdd09414c401c83aa740df08fdca7",
       "version_major": 2,
       "version_minor": 0
      },
      "text/plain": [
       "interactive(children=(Dropdown(description='video', options=('sample_video_1.mp4', 'sample_video_2.mp4'), valu…"
      ]
     },
     "metadata": {},
     "output_type": "display_data"
    }
   ],
   "source": [
    "\"\"\"\n",
    "PROJ-24\n",
    "R2.2 - As a User, I want to choose a video file from the data folder \n",
    "through an appropriate UI component (e.g., dropdown menu) in a \n",
    "notebook code cell so that I can access the video easily.\n",
    "\"\"\"\n",
    "import os\n",
    "from ipywidgets import interact, Dropdown\n",
    "\n",
    "videoList = [] \n",
    "\n",
    "for x in os.listdir(\"./pipline/data/videos/sample_videos\"): \n",
    "    videoList += [x]\n",
    "# print(videoList)\n",
    "\n",
    "videos = Dropdown(options = videoList) \n",
    "\n",
    "# using a list as a means to extract variable defined in python function.\n",
    "selected_video = []\n",
    " \n",
    "@interact(video = videos) \n",
    "def print_city(video): \n",
    "    print(video)\n",
    "    # list shall only contain one element, that is the current selected video.\n",
    "    selected_video.clear()\n",
    "    selected_video.append(str(video))"
   ]
  },
  {
   "cell_type": "code",
   "execution_count": 2,
   "metadata": {},
   "outputs": [
    {
     "name": "stdout",
     "output_type": "stream",
     "text": [
      "sample_video_1.mp4\n"
     ]
    },
    {
     "data": {
      "text/html": [
       "<video src=\"./pipline/data/videos/sample_videos/sample_video_1.mp4\" controls  >\n",
       "      Your browser does not support the <code>video</code> element.\n",
       "    </video>"
      ],
      "text/plain": [
       "<IPython.core.display.Video object>"
      ]
     },
     "execution_count": 2,
     "metadata": {},
     "output_type": "execute_result"
    }
   ],
   "source": [
    "\"\"\"\n",
    "PROJ-27\n",
    "R2.3 - As a User, I want to see video playback of the chosen video file \n",
    "in an output cell, so that I can do data exploration on the TSU project\n",
    "\"\"\"\n",
    "from IPython.display import Video\n",
    "print(selected_video[0])\n",
    "Video(\"./pipline/data/videos/sample_videos/{video_name}\".format(video_name=selected_video[0]))"
   ]
  },
  {
   "cell_type": "code",
   "execution_count": 3,
   "metadata": {},
   "outputs": [
    {
     "name": "stderr",
     "output_type": "stream",
     "text": [
      "fatal: destination path 'video_features' already exists and is not an empty directory.\n"
     ]
    },
    {
     "name": "stdout",
     "output_type": "stream",
     "text": [
      "Requirement already satisfied: omegaconf==2.0.6 in d:\\anaconda3\\envs\\tsu\\lib\\site-packages (2.0.6)\n",
      "Requirement already satisfied: typing-extensions in d:\\anaconda3\\envs\\tsu\\lib\\site-packages (from omegaconf==2.0.6) (4.3.0)\n",
      "Requirement already satisfied: PyYAML>=5.1.* in d:\\anaconda3\\envs\\tsu\\lib\\site-packages (from omegaconf==2.0.6) (6.0)\n"
     ]
    }
   ],
   "source": [
    "! git clone https://github.com/v-iashin/video_features.git\n",
    "! pip install omegaconf==2.0.6"
   ]
  },
  {
   "cell_type": "code",
   "execution_count": 3,
   "metadata": {},
   "outputs": [
    {
     "name": "stdout",
     "output_type": "stream",
     "text": [
      "C:\\Users\\xinxin\\Desktop\\ICT3104\\video_features\n"
     ]
    }
   ],
   "source": [
    "%cd video_features"
   ]
  },
  {
   "cell_type": "code",
   "execution_count": 10,
   "metadata": {},
   "outputs": [
    {
     "ename": "RuntimeError",
     "evalue": "CUDA out of memory. Tried to allocate 2.00 MiB (GPU 0; 2.00 GiB total capacity; 1.10 GiB already allocated; 0 bytes free; 1.16 GiB reserved in total by PyTorch) If reserved memory is >> allocated memory try setting max_split_size_mb to avoid fragmentation.  See documentation for Memory Management and PYTORCH_CUDA_ALLOC_CONF",
     "output_type": "error",
     "traceback": [
      "\u001b[1;31m---------------------------------------------------------------------------\u001b[0m",
      "\u001b[1;31mRuntimeError\u001b[0m                              Traceback (most recent call last)",
      "Input \u001b[1;32mIn [10]\u001b[0m, in \u001b[0;36m<cell line: 20>\u001b[1;34m()\u001b[0m\n\u001b[0;32m     16\u001b[0m args\u001b[38;5;241m.\u001b[39mflow_type \u001b[38;5;241m=\u001b[39m \u001b[38;5;124m'\u001b[39m\u001b[38;5;124mraft\u001b[39m\u001b[38;5;124m'\u001b[39m \u001b[38;5;66;03m# 'pwc' is not supported on Google Colab (cupy version mismatch)\u001b[39;00m\n\u001b[0;32m     17\u001b[0m \u001b[38;5;66;03m# args.streams = 'flow'\u001b[39;00m\n\u001b[0;32m     18\u001b[0m \n\u001b[0;32m     19\u001b[0m \u001b[38;5;66;03m# Load the model\u001b[39;00m\n\u001b[1;32m---> 20\u001b[0m extractor \u001b[38;5;241m=\u001b[39m \u001b[43mExtractI3D\u001b[49m\u001b[43m(\u001b[49m\u001b[43margs\u001b[49m\u001b[43m)\u001b[49m\n\u001b[0;32m     22\u001b[0m \u001b[38;5;66;03m# Extract features\u001b[39;00m\n\u001b[0;32m     23\u001b[0m \u001b[38;5;28;01mfor\u001b[39;00m video_path \u001b[38;5;129;01min\u001b[39;00m args\u001b[38;5;241m.\u001b[39mvideo_paths:\n",
      "File \u001b[1;32m~\\Desktop\\ICT3104\\video_features\\models\\i3d\\extract_i3d.py:63\u001b[0m, in \u001b[0;36mExtractI3D.__init__\u001b[1;34m(self, args)\u001b[0m\n\u001b[0;32m     61\u001b[0m \u001b[38;5;28mself\u001b[39m\u001b[38;5;241m.\u001b[39mshow_pred \u001b[38;5;241m=\u001b[39m args\u001b[38;5;241m.\u001b[39mshow_pred\n\u001b[0;32m     62\u001b[0m \u001b[38;5;28mself\u001b[39m\u001b[38;5;241m.\u001b[39moutput_feat_keys \u001b[38;5;241m=\u001b[39m \u001b[38;5;28mself\u001b[39m\u001b[38;5;241m.\u001b[39mstreams \u001b[38;5;241m+\u001b[39m [\u001b[38;5;124m'\u001b[39m\u001b[38;5;124mfps\u001b[39m\u001b[38;5;124m'\u001b[39m, \u001b[38;5;124m'\u001b[39m\u001b[38;5;124mtimestamps_ms\u001b[39m\u001b[38;5;124m'\u001b[39m]\n\u001b[1;32m---> 63\u001b[0m \u001b[38;5;28mself\u001b[39m\u001b[38;5;241m.\u001b[39mname2module \u001b[38;5;241m=\u001b[39m \u001b[38;5;28;43mself\u001b[39;49m\u001b[38;5;241;43m.\u001b[39;49m\u001b[43mload_model\u001b[49m\u001b[43m(\u001b[49m\u001b[43m)\u001b[49m\n",
      "File \u001b[1;32m~\\Desktop\\ICT3104\\video_features\\models\\i3d\\extract_i3d.py:205\u001b[0m, in \u001b[0;36mExtractI3D.load_model\u001b[1;34m(self)\u001b[0m\n\u001b[0;32m    203\u001b[0m i3d_stream_model \u001b[38;5;241m=\u001b[39m I3D(num_classes\u001b[38;5;241m=\u001b[39m\u001b[38;5;28mself\u001b[39m\u001b[38;5;241m.\u001b[39mi3d_classes_num, modality\u001b[38;5;241m=\u001b[39mstream)\n\u001b[0;32m    204\u001b[0m i3d_stream_model\u001b[38;5;241m.\u001b[39mload_state_dict(torch\u001b[38;5;241m.\u001b[39mload(i3d_weights_paths[stream], map_location\u001b[38;5;241m=\u001b[39m\u001b[38;5;124m'\u001b[39m\u001b[38;5;124mcpu\u001b[39m\u001b[38;5;124m'\u001b[39m))\n\u001b[1;32m--> 205\u001b[0m i3d_stream_model \u001b[38;5;241m=\u001b[39m \u001b[43mi3d_stream_model\u001b[49m\u001b[38;5;241;43m.\u001b[39;49m\u001b[43mto\u001b[49m\u001b[43m(\u001b[49m\u001b[38;5;28;43mself\u001b[39;49m\u001b[38;5;241;43m.\u001b[39;49m\u001b[43mdevice\u001b[49m\u001b[43m)\u001b[49m\n\u001b[0;32m    206\u001b[0m i3d_stream_model\u001b[38;5;241m.\u001b[39meval()\n\u001b[0;32m    207\u001b[0m i3d_stream_models[stream] \u001b[38;5;241m=\u001b[39m i3d_stream_model\n",
      "File \u001b[1;32mD:\\anaconda3\\envs\\tsu\\lib\\site-packages\\torch\\nn\\modules\\module.py:899\u001b[0m, in \u001b[0;36mModule.to\u001b[1;34m(self, *args, **kwargs)\u001b[0m\n\u001b[0;32m    895\u001b[0m         \u001b[38;5;28;01mreturn\u001b[39;00m t\u001b[38;5;241m.\u001b[39mto(device, dtype \u001b[38;5;28;01mif\u001b[39;00m t\u001b[38;5;241m.\u001b[39mis_floating_point() \u001b[38;5;129;01mor\u001b[39;00m t\u001b[38;5;241m.\u001b[39mis_complex() \u001b[38;5;28;01melse\u001b[39;00m \u001b[38;5;28;01mNone\u001b[39;00m,\n\u001b[0;32m    896\u001b[0m                     non_blocking, memory_format\u001b[38;5;241m=\u001b[39mconvert_to_format)\n\u001b[0;32m    897\u001b[0m     \u001b[38;5;28;01mreturn\u001b[39;00m t\u001b[38;5;241m.\u001b[39mto(device, dtype \u001b[38;5;28;01mif\u001b[39;00m t\u001b[38;5;241m.\u001b[39mis_floating_point() \u001b[38;5;129;01mor\u001b[39;00m t\u001b[38;5;241m.\u001b[39mis_complex() \u001b[38;5;28;01melse\u001b[39;00m \u001b[38;5;28;01mNone\u001b[39;00m, non_blocking)\n\u001b[1;32m--> 899\u001b[0m \u001b[38;5;28;01mreturn\u001b[39;00m \u001b[38;5;28;43mself\u001b[39;49m\u001b[38;5;241;43m.\u001b[39;49m\u001b[43m_apply\u001b[49m\u001b[43m(\u001b[49m\u001b[43mconvert\u001b[49m\u001b[43m)\u001b[49m\n",
      "File \u001b[1;32mD:\\anaconda3\\envs\\tsu\\lib\\site-packages\\torch\\nn\\modules\\module.py:570\u001b[0m, in \u001b[0;36mModule._apply\u001b[1;34m(self, fn)\u001b[0m\n\u001b[0;32m    568\u001b[0m \u001b[38;5;28;01mdef\u001b[39;00m \u001b[38;5;21m_apply\u001b[39m(\u001b[38;5;28mself\u001b[39m, fn):\n\u001b[0;32m    569\u001b[0m     \u001b[38;5;28;01mfor\u001b[39;00m module \u001b[38;5;129;01min\u001b[39;00m \u001b[38;5;28mself\u001b[39m\u001b[38;5;241m.\u001b[39mchildren():\n\u001b[1;32m--> 570\u001b[0m         \u001b[43mmodule\u001b[49m\u001b[38;5;241;43m.\u001b[39;49m\u001b[43m_apply\u001b[49m\u001b[43m(\u001b[49m\u001b[43mfn\u001b[49m\u001b[43m)\u001b[49m\n\u001b[0;32m    572\u001b[0m     \u001b[38;5;28;01mdef\u001b[39;00m \u001b[38;5;21mcompute_should_use_set_data\u001b[39m(tensor, tensor_applied):\n\u001b[0;32m    573\u001b[0m         \u001b[38;5;28;01mif\u001b[39;00m torch\u001b[38;5;241m.\u001b[39m_has_compatible_shallow_copy_type(tensor, tensor_applied):\n\u001b[0;32m    574\u001b[0m             \u001b[38;5;66;03m# If the new tensor has compatible tensor type as the existing tensor,\u001b[39;00m\n\u001b[0;32m    575\u001b[0m             \u001b[38;5;66;03m# the current behavior is to change the tensor in-place using `.data =`,\u001b[39;00m\n\u001b[1;32m   (...)\u001b[0m\n\u001b[0;32m    580\u001b[0m             \u001b[38;5;66;03m# global flag to let the user control whether they want the future\u001b[39;00m\n\u001b[0;32m    581\u001b[0m             \u001b[38;5;66;03m# behavior of overwriting the existing tensor or not.\u001b[39;00m\n",
      "File \u001b[1;32mD:\\anaconda3\\envs\\tsu\\lib\\site-packages\\torch\\nn\\modules\\module.py:570\u001b[0m, in \u001b[0;36mModule._apply\u001b[1;34m(self, fn)\u001b[0m\n\u001b[0;32m    568\u001b[0m \u001b[38;5;28;01mdef\u001b[39;00m \u001b[38;5;21m_apply\u001b[39m(\u001b[38;5;28mself\u001b[39m, fn):\n\u001b[0;32m    569\u001b[0m     \u001b[38;5;28;01mfor\u001b[39;00m module \u001b[38;5;129;01min\u001b[39;00m \u001b[38;5;28mself\u001b[39m\u001b[38;5;241m.\u001b[39mchildren():\n\u001b[1;32m--> 570\u001b[0m         \u001b[43mmodule\u001b[49m\u001b[38;5;241;43m.\u001b[39;49m\u001b[43m_apply\u001b[49m\u001b[43m(\u001b[49m\u001b[43mfn\u001b[49m\u001b[43m)\u001b[49m\n\u001b[0;32m    572\u001b[0m     \u001b[38;5;28;01mdef\u001b[39;00m \u001b[38;5;21mcompute_should_use_set_data\u001b[39m(tensor, tensor_applied):\n\u001b[0;32m    573\u001b[0m         \u001b[38;5;28;01mif\u001b[39;00m torch\u001b[38;5;241m.\u001b[39m_has_compatible_shallow_copy_type(tensor, tensor_applied):\n\u001b[0;32m    574\u001b[0m             \u001b[38;5;66;03m# If the new tensor has compatible tensor type as the existing tensor,\u001b[39;00m\n\u001b[0;32m    575\u001b[0m             \u001b[38;5;66;03m# the current behavior is to change the tensor in-place using `.data =`,\u001b[39;00m\n\u001b[1;32m   (...)\u001b[0m\n\u001b[0;32m    580\u001b[0m             \u001b[38;5;66;03m# global flag to let the user control whether they want the future\u001b[39;00m\n\u001b[0;32m    581\u001b[0m             \u001b[38;5;66;03m# behavior of overwriting the existing tensor or not.\u001b[39;00m\n",
      "File \u001b[1;32mD:\\anaconda3\\envs\\tsu\\lib\\site-packages\\torch\\nn\\modules\\module.py:570\u001b[0m, in \u001b[0;36mModule._apply\u001b[1;34m(self, fn)\u001b[0m\n\u001b[0;32m    568\u001b[0m \u001b[38;5;28;01mdef\u001b[39;00m \u001b[38;5;21m_apply\u001b[39m(\u001b[38;5;28mself\u001b[39m, fn):\n\u001b[0;32m    569\u001b[0m     \u001b[38;5;28;01mfor\u001b[39;00m module \u001b[38;5;129;01min\u001b[39;00m \u001b[38;5;28mself\u001b[39m\u001b[38;5;241m.\u001b[39mchildren():\n\u001b[1;32m--> 570\u001b[0m         \u001b[43mmodule\u001b[49m\u001b[38;5;241;43m.\u001b[39;49m\u001b[43m_apply\u001b[49m\u001b[43m(\u001b[49m\u001b[43mfn\u001b[49m\u001b[43m)\u001b[49m\n\u001b[0;32m    572\u001b[0m     \u001b[38;5;28;01mdef\u001b[39;00m \u001b[38;5;21mcompute_should_use_set_data\u001b[39m(tensor, tensor_applied):\n\u001b[0;32m    573\u001b[0m         \u001b[38;5;28;01mif\u001b[39;00m torch\u001b[38;5;241m.\u001b[39m_has_compatible_shallow_copy_type(tensor, tensor_applied):\n\u001b[0;32m    574\u001b[0m             \u001b[38;5;66;03m# If the new tensor has compatible tensor type as the existing tensor,\u001b[39;00m\n\u001b[0;32m    575\u001b[0m             \u001b[38;5;66;03m# the current behavior is to change the tensor in-place using `.data =`,\u001b[39;00m\n\u001b[1;32m   (...)\u001b[0m\n\u001b[0;32m    580\u001b[0m             \u001b[38;5;66;03m# global flag to let the user control whether they want the future\u001b[39;00m\n\u001b[0;32m    581\u001b[0m             \u001b[38;5;66;03m# behavior of overwriting the existing tensor or not.\u001b[39;00m\n",
      "File \u001b[1;32mD:\\anaconda3\\envs\\tsu\\lib\\site-packages\\torch\\nn\\modules\\module.py:593\u001b[0m, in \u001b[0;36mModule._apply\u001b[1;34m(self, fn)\u001b[0m\n\u001b[0;32m    589\u001b[0m \u001b[38;5;66;03m# Tensors stored in modules are graph leaves, and we don't want to\u001b[39;00m\n\u001b[0;32m    590\u001b[0m \u001b[38;5;66;03m# track autograd history of `param_applied`, so we have to use\u001b[39;00m\n\u001b[0;32m    591\u001b[0m \u001b[38;5;66;03m# `with torch.no_grad():`\u001b[39;00m\n\u001b[0;32m    592\u001b[0m \u001b[38;5;28;01mwith\u001b[39;00m torch\u001b[38;5;241m.\u001b[39mno_grad():\n\u001b[1;32m--> 593\u001b[0m     param_applied \u001b[38;5;241m=\u001b[39m \u001b[43mfn\u001b[49m\u001b[43m(\u001b[49m\u001b[43mparam\u001b[49m\u001b[43m)\u001b[49m\n\u001b[0;32m    594\u001b[0m should_use_set_data \u001b[38;5;241m=\u001b[39m compute_should_use_set_data(param, param_applied)\n\u001b[0;32m    595\u001b[0m \u001b[38;5;28;01mif\u001b[39;00m should_use_set_data:\n",
      "File \u001b[1;32mD:\\anaconda3\\envs\\tsu\\lib\\site-packages\\torch\\nn\\modules\\module.py:897\u001b[0m, in \u001b[0;36mModule.to.<locals>.convert\u001b[1;34m(t)\u001b[0m\n\u001b[0;32m    894\u001b[0m \u001b[38;5;28;01mif\u001b[39;00m convert_to_format \u001b[38;5;129;01mis\u001b[39;00m \u001b[38;5;129;01mnot\u001b[39;00m \u001b[38;5;28;01mNone\u001b[39;00m \u001b[38;5;129;01mand\u001b[39;00m t\u001b[38;5;241m.\u001b[39mdim() \u001b[38;5;129;01min\u001b[39;00m (\u001b[38;5;241m4\u001b[39m, \u001b[38;5;241m5\u001b[39m):\n\u001b[0;32m    895\u001b[0m     \u001b[38;5;28;01mreturn\u001b[39;00m t\u001b[38;5;241m.\u001b[39mto(device, dtype \u001b[38;5;28;01mif\u001b[39;00m t\u001b[38;5;241m.\u001b[39mis_floating_point() \u001b[38;5;129;01mor\u001b[39;00m t\u001b[38;5;241m.\u001b[39mis_complex() \u001b[38;5;28;01melse\u001b[39;00m \u001b[38;5;28;01mNone\u001b[39;00m,\n\u001b[0;32m    896\u001b[0m                 non_blocking, memory_format\u001b[38;5;241m=\u001b[39mconvert_to_format)\n\u001b[1;32m--> 897\u001b[0m \u001b[38;5;28;01mreturn\u001b[39;00m \u001b[43mt\u001b[49m\u001b[38;5;241;43m.\u001b[39;49m\u001b[43mto\u001b[49m\u001b[43m(\u001b[49m\u001b[43mdevice\u001b[49m\u001b[43m,\u001b[49m\u001b[43m \u001b[49m\u001b[43mdtype\u001b[49m\u001b[43m \u001b[49m\u001b[38;5;28;43;01mif\u001b[39;49;00m\u001b[43m \u001b[49m\u001b[43mt\u001b[49m\u001b[38;5;241;43m.\u001b[39;49m\u001b[43mis_floating_point\u001b[49m\u001b[43m(\u001b[49m\u001b[43m)\u001b[49m\u001b[43m \u001b[49m\u001b[38;5;129;43;01mor\u001b[39;49;00m\u001b[43m \u001b[49m\u001b[43mt\u001b[49m\u001b[38;5;241;43m.\u001b[39;49m\u001b[43mis_complex\u001b[49m\u001b[43m(\u001b[49m\u001b[43m)\u001b[49m\u001b[43m \u001b[49m\u001b[38;5;28;43;01melse\u001b[39;49;00m\u001b[43m \u001b[49m\u001b[38;5;28;43;01mNone\u001b[39;49;00m\u001b[43m,\u001b[49m\u001b[43m \u001b[49m\u001b[43mnon_blocking\u001b[49m\u001b[43m)\u001b[49m\n",
      "\u001b[1;31mRuntimeError\u001b[0m: CUDA out of memory. Tried to allocate 2.00 MiB (GPU 0; 2.00 GiB total capacity; 1.10 GiB already allocated; 0 bytes free; 1.16 GiB reserved in total by PyTorch) If reserved memory is >> allocated memory try setting max_split_size_mb to avoid fragmentation.  See documentation for Memory Management and PYTORCH_CUDA_ALLOC_CONF"
     ]
    }
   ],
   "source": [
    "from models.i3d.extract_i3d import ExtractI3D\n",
    "from utils.utils import build_cfg_path\n",
    "from omegaconf import OmegaConf\n",
    "import torch\n",
    "\n",
    "# Select the feature type\n",
    "feature_type = 'i3d'\n",
    "\n",
    "# Load and patch the config\n",
    "args = OmegaConf.load(build_cfg_path(feature_type))\n",
    "args.video_paths = [r'C:\\Users\\xinxin\\Desktop\\ICT3104\\pipline\\data\\videos\\sample_videos\\sample_video_1.mp4']\n",
    "# args.show_pred = True\n",
    "# args.stack_size = 24\n",
    "# args.step_size = 24\n",
    "# args.extraction_fps = 25\n",
    "args.flow_type = 'raft' # 'pwc' is not supported on Google Colab (cupy version mismatch)\n",
    "# args.streams = 'flow'\n",
    "\n",
    "# Load the model\n",
    "extractor = ExtractI3D(args)\n",
    "\n",
    "# Extract features\n",
    "for video_path in args.video_paths:\n",
    "    print(f'Extracting for {video_path}')\n",
    "    feature_dict = extractor.extract(video_path)\n",
    "    [(print(k), print(v.shape), print(v)) for k, v in feature_dict.items()]"
   ]
  },
  {
   "cell_type": "code",
   "execution_count": 18,
   "metadata": {},
   "outputs": [
    {
     "name": "stdout",
     "output_type": "stream",
     "text": [
      "Looking in links: --user\n",
      "Collecting https://download.pytorch.org/whl/torch_stable.html\n",
      "  Downloading https://download.pytorch.org/whl/torch_stable.html (368 kB)\n",
      "     ------------------------------------ 368.7/368.7 kB 424.7 kB/s eta 0:00:00\n",
      "Note: you may need to restart the kernel to use updated packages.\n"
     ]
    },
    {
     "name": "stderr",
     "output_type": "stream",
     "text": [
      "  ERROR: Cannot unpack file C:\\Users\\xinxin\\AppData\\Local\\Temp\\pip-unpack-xdwj33of\\torch_stable.html (downloaded from C:\\Users\\xinxin\\AppData\\Local\\Temp\\pip-req-build-019zwlpo, content-type: text/html); cannot detect archive format\n",
      "ERROR: Cannot determine archive format of C:\\Users\\xinxin\\AppData\\Local\\Temp\\pip-req-build-019zwlpo\n"
     ]
    }
   ],
   "source": [
    "pip install torch==1.10.1+cu113 -f --user https://download.pytorch.org/whl/torch_stable.html"
   ]
  },
  {
   "cell_type": "code",
   "execution_count": 8,
   "metadata": {},
   "outputs": [
    {
     "name": "stdout",
     "output_type": "stream",
     "text": [
      "# packages in environment at D:\\anaconda3\\envs\\tsu:\n",
      "#\n",
      "# Name                    Version                   Build  Channel\n",
      "anyio                     3.5.0            py38haa95532_0  \n",
      "argon2-cffi               21.3.0             pyhd3eb1b0_0  \n",
      "argon2-cffi-bindings      21.2.0           py38h2bbff1b_0  \n",
      "asttokens                 2.0.5              pyhd3eb1b0_0  \n",
      "attrs                     21.4.0             pyhd3eb1b0_0  \n",
      "babel                     2.9.1              pyhd3eb1b0_0  \n",
      "backcall                  0.2.0              pyhd3eb1b0_0  \n",
      "bleach                    4.1.0              pyhd3eb1b0_0  \n",
      "bzip2                     1.0.8                he774522_0  \n",
      "ca-certificates           2022.9.14            h5b45459_0    conda-forge\n",
      "certifi                   2022.9.14          pyhd8ed1ab_0    conda-forge\n",
      "cffi                      1.15.1           py38h2bbff1b_0  \n",
      "charset-normalizer        2.0.4              pyhd3eb1b0_0  \n",
      "colorama                  0.4.5            py38haa95532_0  \n",
      "cryptography              37.0.1           py38h21b164f_0  \n",
      "debugpy                   1.5.1            py38hd77b12b_0  \n",
      "decorator                 5.1.1              pyhd3eb1b0_0  \n",
      "defusedxml                0.7.1              pyhd3eb1b0_0  \n",
      "entrypoints               0.4              py38haa95532_0  \n",
      "executing                 0.8.3              pyhd3eb1b0_0  \n",
      "glib                      2.69.1               h5dc1a3c_1  \n",
      "gst-plugins-base          1.18.5               h9e645db_0  \n",
      "gstreamer                 1.18.5               hd78058f_0  \n",
      "icu                       58.2                 ha925a31_3  \n",
      "idna                      3.3                pyhd3eb1b0_0  \n",
      "importlib_resources       5.2.0              pyhd3eb1b0_1  \n",
      "ipykernel                 6.15.2           py38haa95532_0  \n",
      "ipython                   8.4.0            py38haa95532_0  \n",
      "ipython_genutils          0.2.0              pyhd3eb1b0_1  \n",
      "ipywidgets                7.6.5              pyhd3eb1b0_1  \n",
      "jedi                      0.18.1           py38haa95532_1  \n",
      "jinja2                    3.0.3              pyhd3eb1b0_0  \n",
      "joblib                    1.2.0                    pypi_0    pypi\n",
      "jpeg                      9e                   h2bbff1b_0  \n",
      "json5                     0.9.6              pyhd3eb1b0_0  \n",
      "jsonschema                4.4.0            py38haa95532_0  \n",
      "jupyter                   1.0.0                    py38_7  \n",
      "jupyter_client            7.3.5            py38haa95532_0  \n",
      "jupyter_console           6.4.3              pyhd3eb1b0_0  \n",
      "jupyter_core              4.10.0           py38haa95532_0  \n",
      "jupyter_server            1.13.5             pyhd3eb1b0_0  \n",
      "jupyterlab_pygments       0.1.2                      py_0  \n",
      "jupyterlab_widgets        1.0.0              pyhd3eb1b0_1  \n",
      "libclang                  12.0.0          default_h627e005_2  \n",
      "libffi                    3.4.2                hd77b12b_4  \n",
      "libiconv                  1.16                 h2bbff1b_2  \n",
      "libogg                    1.3.5                h2bbff1b_1  \n",
      "libpng                    1.6.37               h2a8f88b_0  \n",
      "libsodium                 1.0.18               h62dcd97_0  \n",
      "libvorbis                 1.3.7                he774522_0  \n",
      "libwebp                   1.2.2                h2bbff1b_0  \n",
      "libxml2                   2.9.14               h0ad7f3c_0  \n",
      "libxslt                   1.1.35               h2bbff1b_0  \n",
      "lz4-c                     1.9.3                h2bbff1b_1  \n",
      "markupsafe                2.1.1            py38h2bbff1b_0  \n",
      "matplotlib-inline         0.1.6            py38haa95532_0  \n",
      "mistune                   0.8.4           py38he774522_1000  \n",
      "nb_conda                  2.2.1                    py38_1  \n",
      "nb_conda_kernels          2.3.1            py38haa95532_0  \n",
      "nbclassic                 0.3.5              pyhd3eb1b0_0  \n",
      "nbconvert                 5.5.0                      py_0  \n",
      "nbformat                  5.1.3              pyhd3eb1b0_0  \n",
      "nest-asyncio              1.5.5            py38haa95532_0  \n",
      "notebook                  6.4.12           py38haa95532_0  \n",
      "numpy                     1.23.3                   pypi_0    pypi\n",
      "omegaconf                 2.0.6                    pypi_0    pypi\n",
      "opencv-python             4.6.0.66                 pypi_0    pypi\n",
      "openssl                   1.1.1q               h8ffe710_0    conda-forge\n",
      "packaging                 21.3               pyhd3eb1b0_0  \n",
      "pandoc                    2.12                 haa95532_0  \n",
      "pandocfilters             1.5.0              pyhd3eb1b0_0  \n",
      "parso                     0.8.3              pyhd3eb1b0_0  \n",
      "pcre                      8.45                 hd77b12b_0  \n",
      "pickleshare               0.7.5           pyhd3eb1b0_1003  \n",
      "pillow                    9.2.0                    pypi_0    pypi\n",
      "pip                       22.2.2             pyhd8ed1ab_0    conda-forge\n",
      "ply                       3.11                     py38_0  \n",
      "prometheus_client         0.14.1           py38haa95532_0  \n",
      "prompt-toolkit            3.0.20             pyhd3eb1b0_0  \n",
      "prompt_toolkit            3.0.20               hd3eb1b0_0  \n",
      "psutil                    5.9.0            py38h2bbff1b_0  \n",
      "pure_eval                 0.2.2              pyhd3eb1b0_0  \n",
      "pycparser                 2.21               pyhd3eb1b0_0  \n",
      "pygments                  2.11.2             pyhd3eb1b0_0  \n",
      "pyopenssl                 22.0.0             pyhd3eb1b0_0  \n",
      "pyparsing                 3.0.9            py38haa95532_0  \n",
      "pyqt                      5.15.7           py38hd77b12b_0  \n",
      "pyqt5-sip                 12.11.0          py38hd77b12b_0  \n",
      "pyrsistent                0.18.0           py38h196d8e1_0  \n",
      "python                    3.8.13               h6244533_0  \n",
      "python-dateutil           2.8.2              pyhd3eb1b0_0  \n",
      "pytz                      2022.1           py38haa95532_0  \n",
      "pywin32                   302              py38h2bbff1b_2  \n",
      "pywinpty                  2.0.2            py38h5da7b33_0  \n",
      "pyyaml                    6.0                      pypi_0    pypi\n",
      "pyzmq                     23.2.0           py38hd77b12b_0  \n",
      "qt-main                   5.15.2               he8e5bd7_7  \n",
      "qt-webengine              5.15.9               hb9a9bb5_4  \n",
      "qtconsole                 5.3.2            py38haa95532_0  \n",
      "qtpy                      2.2.0            py38haa95532_0  \n",
      "qtwebkit                  5.212                h3ad3cdb_4  \n",
      "scikit-learn              1.1.2                    pypi_0    pypi\n",
      "scipy                     1.9.1                    pypi_0    pypi\n",
      "send2trash                1.8.0              pyhd3eb1b0_1  \n",
      "setuptools                63.4.1           py38haa95532_0  \n",
      "sip                       6.6.2            py38hd77b12b_0  \n",
      "six                       1.16.0             pyhd3eb1b0_1  \n",
      "sniffio                   1.2.0            py38haa95532_1  \n",
      "soupsieve                 2.3.1              pyhd3eb1b0_0  \n",
      "sqlite                    3.39.2               h2bbff1b_0  \n",
      "stack_data                0.2.0              pyhd3eb1b0_0  \n",
      "terminado                 0.13.1           py38haa95532_0  \n",
      "testpath                  0.6.0            py38haa95532_0  \n",
      "threadpoolctl             3.1.0                    pypi_0    pypi\n",
      "timm                      0.4.12                   pypi_0    pypi\n",
      "tk                        8.6.12               h2bbff1b_0  \n",
      "toml                      0.10.2             pyhd3eb1b0_0  \n",
      "torch                     1.10.1+cu111             pypi_0    pypi\n",
      "torchaudio                0.10.1+cu113             pypi_0    pypi\n",
      "torchvision               0.11.2+cu113             pypi_0    pypi\n",
      "tornado                   6.2              py38h2bbff1b_0  \n",
      "traitlets                 5.1.1              pyhd3eb1b0_0  \n",
      "typing-extensions         4.3.0            py38haa95532_0  \n",
      "typing_extensions         4.3.0            py38haa95532_0  \n",
      "tzdata                    2022c                h04d1e81_0  \n",
      "vc                        14.2                 h21ff451_1  \n",
      "vs2015_runtime            14.27.29016          h5e58377_2  \n",
      "wcwidth                   0.2.5              pyhd3eb1b0_0  \n",
      "webencodings              0.5.1                    py38_1  \n",
      "websocket-client          0.58.0           py38haa95532_4  \n",
      "wheel                     0.37.1             pyhd3eb1b0_0  \n",
      "widgetsnbextension        3.5.2            py38haa95532_0  \n",
      "wincertstore              0.2              py38haa95532_2  \n",
      "winpty                    0.4.3                         4  \n",
      "xz                        5.2.5                h8cc25b3_1  \n",
      "zeromq                    4.3.4                hd77b12b_0  \n",
      "zipp                      3.8.0            py38haa95532_0  \n",
      "zlib                      1.2.12               h8cc25b3_3  \n",
      "zstd                      1.5.2                h19a0ad4_0  \n",
      "\n",
      "Note: you may need to restart the kernel to use updated packages.\n"
     ]
    }
   ],
   "source": [
    "conda list"
   ]
  },
  {
   "cell_type": "code",
   "execution_count": 26,
   "metadata": {},
   "outputs": [
    {
     "name": "stdout",
     "output_type": "stream",
     "text": [
      "Collecting opencv-python\n",
      "  Downloading opencv_python-4.6.0.66-cp36-abi3-win_amd64.whl (35.6 MB)\n",
      "     --------------------------------------- 35.6/35.6 MB 14.9 MB/s eta 0:00:00\n",
      "Requirement already satisfied: numpy>=1.17.3 in d:\\anaconda3\\envs\\tsu\\lib\\site-packages (from opencv-python) (1.23.3)\n",
      "Installing collected packages: opencv-python\n",
      "Successfully installed opencv-python-4.6.0.66\n"
     ]
    }
   ],
   "source": [
    "!pip install opencv-python"
   ]
  },
  {
   "cell_type": "code",
   "execution_count": 6,
   "metadata": {},
   "outputs": [],
   "source": [
    "torch.cuda.empty_cache()"
   ]
  },
  {
   "cell_type": "code",
   "execution_count": null,
   "metadata": {},
   "outputs": [],
   "source": []
  }
 ],
 "metadata": {
  "kernelspec": {
   "display_name": "Python [conda env:tsu] *",
   "language": "python",
   "name": "conda-env-tsu-py"
  },
  "language_info": {
   "codemirror_mode": {
    "name": "ipython",
    "version": 3
   },
   "file_extension": ".py",
   "mimetype": "text/x-python",
   "name": "python",
   "nbconvert_exporter": "python",
   "pygments_lexer": "ipython3",
   "version": "3.8.13"
  },
  "vscode": {
   "interpreter": {
    "hash": "321af250c620fb6c6155261d39dc4e9c6a79ef19f3cfa75aa55204a9de3512be"
   }
  }
 },
 "nbformat": 4,
 "nbformat_minor": 2
}
