{
 "cells": [
  {
   "cell_type": "markdown",
   "metadata": {},
   "source": [
    "# START YOUR CODE HERE IN THIS NOTEBOOK, SIR/MS. :)"
   ]
  },
  {
   "cell_type": "code",
   "execution_count": 123,
   "metadata": {},
   "outputs": [
    {
     "name": "stdout",
     "output_type": "stream",
     "text": [
      "['archive', 'PDAN_TSU_RGB.zip']\n"
     ]
    }
   ],
   "source": [
    "import os\n",
    "\n",
    "modelList = [] \n",
    "\n",
    "for x in os.listdir(\"model\"): \n",
    "    modelList += [x]\n",
    "    \n",
    "print(modelList)"
   ]
  },
  {
   "cell_type": "code",
   "execution_count": 124,
   "metadata": {},
   "outputs": [],
   "source": [
    "import zipfile, torch\n",
    "import ipywidgets as widgets\n",
    "from ipywidgets import interact, Dropdown \n",
    "from IPython.display import display\n",
    "\n",
    "models = widgets.Dropdown(options = modelList)\n",
    "load_button = widgets.Button(description=\"Load\")\n",
    "output = widgets.Output()\n",
    "selected_model = \"\""
   ]
  },
  {
   "cell_type": "code",
   "execution_count": 125,
   "metadata": {},
   "outputs": [],
   "source": [
    "def onClickLoadModel(b):\n",
    "    selected_model = models.value\n",
    "    if (selected_model.split('.')[-1] == \"zip\"):\n",
    "        with zipfile.ZipFile(\"model/\"+selected_model,\"r\") as zip_file:\n",
    "            zip_file.extractall(\"model/\")\n",
    "    for x in os.listdir(\"model/archive\"):\n",
    "        if (x == \"data.pkl\"):\n",
    "            pretrained_model = torch.load(\"data.pkl\")"
   ]
  },
  {
   "cell_type": "code",
   "execution_count": 126,
   "metadata": {},
   "outputs": [],
   "source": [
    "load_button.on_click(onClickLoadModel)"
   ]
  },
  {
   "cell_type": "code",
   "execution_count": 127,
   "metadata": {},
   "outputs": [
    {
     "data": {
      "application/vnd.jupyter.widget-view+json": {
       "model_id": "80bec778310b499e918fb0da1985ae08",
       "version_major": 2,
       "version_minor": 0
      },
      "text/plain": [
       "HBox(children=(Dropdown(options=('archive', 'PDAN_TSU_RGB.zip'), value='archive'), Button(description='Load', …"
      ]
     },
     "metadata": {},
     "output_type": "display_data"
    }
   ],
   "source": [
    "widgets.HBox([models,load_button])"
   ]
  },
  {
   "cell_type": "code",
   "execution_count": null,
   "metadata": {},
   "outputs": [],
   "source": []
  }
 ],
 "metadata": {
  "kernelspec": {
   "display_name": "Python [conda env:tsu] *",
   "language": "python",
   "name": "conda-env-tsu-py"
  },
  "language_info": {
   "codemirror_mode": {
    "name": "ipython",
    "version": 3
   },
   "file_extension": ".py",
   "mimetype": "text/x-python",
   "name": "python",
   "nbconvert_exporter": "python",
   "pygments_lexer": "ipython3",
   "version": "3.8.13"
  },
  "vscode": {
   "interpreter": {
    "hash": "321af250c620fb6c6155261d39dc4e9c6a79ef19f3cfa75aa55204a9de3512be"
   }
  }
 },
 "nbformat": 4,
 "nbformat_minor": 2
}
